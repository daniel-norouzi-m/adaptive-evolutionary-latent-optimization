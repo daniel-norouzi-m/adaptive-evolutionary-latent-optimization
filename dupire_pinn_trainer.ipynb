{
 "cells": [
  {
   "cell_type": "code",
   "execution_count": 1,
   "metadata": {},
   "outputs": [],
   "source": [
    "%load_ext autoreload\n",
    "%autoreload 2\n",
    "\n",
    "# Import necessary modules \n",
    "import numpy as np\n",
    "import pandas as pd\n",
    "from itertools import product\n",
    "import plotly.graph_objs as go\n",
    "import plotly.express as px\n",
    "from numpy.linalg import eigvalsh\n",
    "from plotly.subplots import make_subplots\n",
    "import torch\n",
    "import itertools\n",
    "import concurrent.futures\n",
    "from tqdm import tqdm\n",
    "\n",
    "from rbf_volatility_surface import RBFVolatilitySurface\n",
    "from smoothness_prior import RBFQuadraticSmoothnessPrior\n",
    "from dataset_sabr import generate_sabr_call_options\n",
    "from dupire_pinn_trainer import DupirePINNTrainer"
   ]
  },
  {
   "cell_type": "code",
   "execution_count": 2,
   "metadata": {},
   "outputs": [],
   "source": [
    "# Define the strike price list and maturity time list\n",
    "strike_price_list = np.array([0.75, 0.85, 0.9, 0.95, 1.0, 1.05, 1.1, 1.2, 1.3, 1.5])\n",
    "maturity_time_list = np.array([0.02, 0.08, 0.17, 0.25, 0.5, 0.75, 1.0, 1.5, 2.0, 3.0])\n",
    "\n",
    "# Create the product grid of maturity times and strike prices\n",
    "product_grid = list(product(maturity_time_list, strike_price_list))\n",
    "maturity_times, strike_prices = zip(*product_grid)\n",
    "\n",
    "# Convert to arrays for further operations\n",
    "maturity_times = np.array(maturity_times)\n",
    "strike_prices = np.array(strike_prices)\n",
    "\n",
    "# Variance formula for log-uniform distribution\n",
    "def log_uniform_variance(a, b):\n",
    "    log_term = np.log(b / a)\n",
    "    var = ((b ** 2 - a ** 2) / (2 * log_term)) - ((b - a) / log_term) ** 2\n",
    "    return var\n",
    "\n",
    "# Calculate standard deviations for maturity times and strike prices\n",
    "maturity_std = np.sqrt(log_uniform_variance(maturity_time_list.min(), maturity_time_list.max()))\n",
    "strike_std = np.sqrt(log_uniform_variance(strike_price_list.min(), strike_price_list.max()))\n",
    "\n",
    "# Define the SABR model parameters\n",
    "alpha = 0.20  # Stochastic volatility parameter\n",
    "beta = 0.50   # Elasticity parameter\n",
    "rho = -0.75   # Correlation between asset price and volatility\n",
    "nu = 1.0      # Volatility of volatility parameter\n",
    "\n",
    "# Other model parameters\n",
    "risk_free_rate = np.log(1.02)  # Risk-free interest rate\n",
    "underlying_price = 1.0         # Current price of the underlying asset\n",
    "\n",
    "# Generate the dataset using the SABR model and Black-Scholes formula\n",
    "call_option_dataset = generate_sabr_call_options(\n",
    "    alpha=alpha,\n",
    "    beta=beta,\n",
    "    rho=rho,\n",
    "    nu=nu,\n",
    "    maturity_times=maturity_times,\n",
    "    strike_prices=strike_prices,\n",
    "    risk_free_rate=risk_free_rate,\n",
    "    underlying_price=underlying_price\n",
    ")\n",
    "\n",
    "# Maturity times and strike prices from the previous product grid setup\n",
    "hypothetical_maturity_time_list = np.logspace(np.log10(0.01), np.log10(3.1), 100)\n",
    "hypothetical_strike_price_list = np.logspace(np.log10(0.7), np.log10(1.75), 100)\n",
    "\n",
    "# Create the product grid of maturity times and strike prices\n",
    "hypothetical_product_grid = list(product(hypothetical_maturity_time_list, hypothetical_strike_price_list))\n",
    "hypothetical_maturity_times, hypothetical_strike_prices = zip(*hypothetical_product_grid)\n",
    "hypothetical_maturity_times, hypothetical_strike_prices = np.array(hypothetical_maturity_times), np.array(hypothetical_strike_prices)\n",
    "\n",
    "# Reshape the data for 3D surface plotting\n",
    "hypothetical_maturities_grid = hypothetical_maturity_times.reshape((len(hypothetical_maturity_time_list), len(hypothetical_strike_price_list)))  \n",
    "hypothetical_strikes_grid = hypothetical_strike_prices.reshape((len(hypothetical_maturity_time_list), len(hypothetical_strike_price_list)))"
   ]
  },
  {
   "cell_type": "code",
   "execution_count": 3,
   "metadata": {},
   "outputs": [],
   "source": [
    "n_roots = 350\n",
    "# n_roots = 10\n",
    "smoothness_controller = 3.274549162877732e-05\n",
    "\n",
    "# Initialize the RBFQuadraticSmoothnessPrior class\n",
    "smoothness_prior = RBFQuadraticSmoothnessPrior(\n",
    "    maturity_times=maturity_times,\n",
    "    strike_prices=strike_prices,\n",
    "    maturity_std=maturity_std,\n",
    "    strike_std=strike_std,\n",
    "    n_roots=n_roots,\n",
    "    smoothness_controller=smoothness_controller,\n",
    "    random_state=0,\n",
    ")\n",
    "\n",
    "# The constant_volatility is set to a reasonable value\n",
    "constant_volatility = RBFVolatilitySurface.calculate_constant_volatility(\n",
    "    call_option_dataset[\"Implied Volatility\"],\n",
    "    call_option_dataset[\"Time to Maturity\"],\n",
    "    call_option_dataset[\"Strike Price\"],\n",
    "    risk_free_rate,\n",
    "    underlying_price\n",
    ")\n",
    "\n",
    "sampled_surface_coefficients = smoothness_prior.sample_smooth_surfaces(1000)"
   ]
  },
  {
   "cell_type": "code",
   "execution_count": 4,
   "metadata": {},
   "outputs": [],
   "source": [
    "# Loop through the sampled coefficients \n",
    "sampled_volatilities = []\n",
    "for coefficients in sampled_surface_coefficients:\n",
    "    \n",
    "    # Initialize the RBFVolatilitySurface class for each set of coefficients\n",
    "    rbf_surface = RBFVolatilitySurface(\n",
    "        coefficients=coefficients,\n",
    "        maturity_times=maturity_times,\n",
    "        strike_prices=strike_prices,\n",
    "        maturity_std=maturity_std,\n",
    "        strike_std=strike_std,\n",
    "        constant_volatility=constant_volatility\n",
    "    )\n",
    "\n",
    "    # Generate the volatility surface over the product grid of times and strikes\n",
    "    surface_volatilities = [\n",
    "        rbf_surface.implied_volatility_surface(T, K)\n",
    "        for T, K in product_grid\n",
    "    ]\n",
    "    sampled_volatilities.extend(surface_volatilities)"
   ]
  },
  {
   "cell_type": "code",
   "execution_count": 5,
   "metadata": {},
   "outputs": [
    {
     "data": {
      "text/plain": [
       "device(type='cuda')"
      ]
     },
     "execution_count": 5,
     "metadata": {},
     "output_type": "execute_result"
    }
   ],
   "source": [
    "torch.device('cuda' if torch.cuda.is_available() else 'cpu')"
   ]
  },
  {
   "cell_type": "code",
   "execution_count": null,
   "metadata": {},
   "outputs": [],
   "source": [
    "batch_size = 1000\n",
    "pde_loss_coefficient = 1.0\n",
    "maturity_zero_loss_coefficient = 1.0\n",
    "strike_zero_loss_coefficient = 0.1\n",
    "strike_infinity_loss_coefficient = 1.0\n",
    "pre_train_learning_rate = 1e-3\n",
    "fine_tune_learning_rate = 1e-4\n",
    "pre_train_epochs = 50\n",
    "fine_tune_epochs = 20\n",
    "maturity_min = maturity_time_list.min()\n",
    "maturity_max = maturity_time_list.max()\n",
    "strike_min = strike_price_list.min()\n",
    "strike_max = strike_price_list.max()\n",
    "volatility_mean = np.mean(sampled_volatilities)\n",
    "volatility_std = np.std(sampled_volatilities)\n",
    "strike_infinity = 2.5\n",
    "device = 'cpu'\n",
    "\n",
    "# Define the hyperparameter grid\n",
    "hidden_dim_grid = [64, 128, 256]  # Example grid for hidden_dim\n",
    "n_layers_grid = [2, 4, 8]         # Example grid for n_layers\n",
    "pre_train_learning_rate_grid = [1e-4, 1e-3, 1e-2]  # Example grid for learning rate\n",
    "\n",
    "# Initialize an empty DataFrame to store the results\n",
    "results_df = pd.DataFrame()\n",
    "\n",
    "# Define the grid search\n",
    "grid = itertools.product(hidden_dim_grid, n_layers_grid, pre_train_learning_rate_grid)\n",
    "\n",
    "for hidden_dim, n_layers, pre_train_learning_rate in tqdm(grid):\n",
    "    # Initialize the DupirePINNTrainer class\n",
    "    trainer = DupirePINNTrainer(\n",
    "        hidden_dim=hidden_dim,\n",
    "        n_layers=n_layers,\n",
    "        batch_size=batch_size,\n",
    "        pde_loss_coefficient=pde_loss_coefficient,\n",
    "        maturity_zero_loss_coefficient=maturity_zero_loss_coefficient,\n",
    "        strike_zero_loss_coefficient=strike_zero_loss_coefficient,\n",
    "        strike_infinity_loss_coefficient=strike_infinity_loss_coefficient,\n",
    "        pre_train_learning_rate=pre_train_learning_rate,\n",
    "        fine_tune_learning_rate=fine_tune_learning_rate,\n",
    "        pre_train_epochs=pre_train_epochs,\n",
    "        fine_tune_epochs=fine_tune_epochs,\n",
    "        maturity_min=maturity_min,\n",
    "        maturity_max=maturity_max,\n",
    "        strike_min=strike_min,\n",
    "        strike_max=strike_max,\n",
    "        volatility_mean=volatility_mean,\n",
    "        volatility_std=volatility_std,\n",
    "        maturity_time_list=maturity_time_list,\n",
    "        strike_price_list=strike_price_list,\n",
    "        strike_std=strike_std,\n",
    "        maturity_std=maturity_std,\n",
    "        constant_volatility=constant_volatility,\n",
    "        strike_infinity=strike_infinity,\n",
    "        device=device\n",
    "    )\n",
    "\n",
    "    # Train the model using pre_train\n",
    "    trainer.pre_train(\n",
    "        sampled_surface_coefficients=sampled_surface_coefficients,\n",
    "        experiment_name=f\"test_hd_{hidden_dim}_nl_{n_layers}_lr_{pre_train_learning_rate}\"\n",
    "    )\n",
    "\n",
    "    # Retrieve the last row of the loss history (assuming it's stored in trainer.pre_train_loss_history)\n",
    "    loss_df = pd.DataFrame(trainer.pre_train_loss_history)\n",
    "    last_row = loss_df.iloc[-1].copy()\n",
    "\n",
    "    # Add the configuration as columns in the last row\n",
    "    last_row['hidden_dim'] = hidden_dim\n",
    "    last_row['n_layers'] = n_layers\n",
    "    last_row['pre_train_learning_rate'] = pre_train_learning_rate\n",
    "\n",
    "    results_df = pd.concat([results_df, pd.DataFrame([last_row])], ignore_index=True)"
   ]
  },
  {
   "cell_type": "code",
   "execution_count": 28,
   "metadata": {},
   "outputs": [
    {
     "data": {
      "text/html": [
       "<div>\n",
       "<style scoped>\n",
       "    .dataframe tbody tr th:only-of-type {\n",
       "        vertical-align: middle;\n",
       "    }\n",
       "\n",
       "    .dataframe tbody tr th {\n",
       "        vertical-align: top;\n",
       "    }\n",
       "\n",
       "    .dataframe thead th {\n",
       "        text-align: right;\n",
       "    }\n",
       "</style>\n",
       "<table border=\"1\" class=\"dataframe\">\n",
       "  <thead>\n",
       "    <tr style=\"text-align: right;\">\n",
       "      <th></th>\n",
       "      <th>PDE Loss</th>\n",
       "      <th>Zero Maturity Loss</th>\n",
       "      <th>Zero Strike Loss</th>\n",
       "      <th>Infinity Strike Loss</th>\n",
       "      <th>Total Loss</th>\n",
       "      <th>hidden_dim</th>\n",
       "      <th>n_layers</th>\n",
       "      <th>pre_train_learning_rate</th>\n",
       "      <th>average_rank</th>\n",
       "    </tr>\n",
       "  </thead>\n",
       "  <tbody>\n",
       "    <tr>\n",
       "      <th>7</th>\n",
       "      <td>0.000114</td>\n",
       "      <td>0.000091</td>\n",
       "      <td>0.000040</td>\n",
       "      <td>0.000029</td>\n",
       "      <td>0.000238</td>\n",
       "      <td>64.0</td>\n",
       "      <td>8.0</td>\n",
       "      <td>0.0010</td>\n",
       "      <td>3.25</td>\n",
       "    </tr>\n",
       "    <tr>\n",
       "      <th>16</th>\n",
       "      <td>0.000115</td>\n",
       "      <td>0.000109</td>\n",
       "      <td>0.000033</td>\n",
       "      <td>0.000030</td>\n",
       "      <td>0.000258</td>\n",
       "      <td>128.0</td>\n",
       "      <td>8.0</td>\n",
       "      <td>0.0010</td>\n",
       "      <td>4.00</td>\n",
       "    </tr>\n",
       "    <tr>\n",
       "      <th>25</th>\n",
       "      <td>0.000096</td>\n",
       "      <td>0.000138</td>\n",
       "      <td>0.000656</td>\n",
       "      <td>0.000035</td>\n",
       "      <td>0.000334</td>\n",
       "      <td>256.0</td>\n",
       "      <td>8.0</td>\n",
       "      <td>0.0010</td>\n",
       "      <td>5.25</td>\n",
       "    </tr>\n",
       "    <tr>\n",
       "      <th>4</th>\n",
       "      <td>0.000176</td>\n",
       "      <td>0.000112</td>\n",
       "      <td>0.000260</td>\n",
       "      <td>0.000058</td>\n",
       "      <td>0.000371</td>\n",
       "      <td>64.0</td>\n",
       "      <td>4.0</td>\n",
       "      <td>0.0010</td>\n",
       "      <td>7.50</td>\n",
       "    </tr>\n",
       "    <tr>\n",
       "      <th>24</th>\n",
       "      <td>0.000296</td>\n",
       "      <td>0.000110</td>\n",
       "      <td>0.000129</td>\n",
       "      <td>0.000063</td>\n",
       "      <td>0.000482</td>\n",
       "      <td>256.0</td>\n",
       "      <td>8.0</td>\n",
       "      <td>0.0001</td>\n",
       "      <td>8.25</td>\n",
       "    </tr>\n",
       "    <tr>\n",
       "      <th>13</th>\n",
       "      <td>0.000174</td>\n",
       "      <td>0.000115</td>\n",
       "      <td>0.000439</td>\n",
       "      <td>0.000075</td>\n",
       "      <td>0.000408</td>\n",
       "      <td>128.0</td>\n",
       "      <td>4.0</td>\n",
       "      <td>0.0010</td>\n",
       "      <td>8.50</td>\n",
       "    </tr>\n",
       "    <tr>\n",
       "      <th>15</th>\n",
       "      <td>0.000465</td>\n",
       "      <td>0.000211</td>\n",
       "      <td>0.001115</td>\n",
       "      <td>0.000024</td>\n",
       "      <td>0.000812</td>\n",
       "      <td>128.0</td>\n",
       "      <td>8.0</td>\n",
       "      <td>0.0001</td>\n",
       "      <td>9.75</td>\n",
       "    </tr>\n",
       "    <tr>\n",
       "      <th>21</th>\n",
       "      <td>0.000166</td>\n",
       "      <td>0.000435</td>\n",
       "      <td>0.009744</td>\n",
       "      <td>0.000029</td>\n",
       "      <td>0.001604</td>\n",
       "      <td>256.0</td>\n",
       "      <td>4.0</td>\n",
       "      <td>0.0001</td>\n",
       "      <td>10.50</td>\n",
       "    </tr>\n",
       "    <tr>\n",
       "      <th>8</th>\n",
       "      <td>0.000192</td>\n",
       "      <td>0.000307</td>\n",
       "      <td>0.000026</td>\n",
       "      <td>0.000169</td>\n",
       "      <td>0.000671</td>\n",
       "      <td>64.0</td>\n",
       "      <td>8.0</td>\n",
       "      <td>0.0100</td>\n",
       "      <td>10.75</td>\n",
       "    </tr>\n",
       "    <tr>\n",
       "      <th>1</th>\n",
       "      <td>0.000127</td>\n",
       "      <td>0.000384</td>\n",
       "      <td>0.005440</td>\n",
       "      <td>0.000084</td>\n",
       "      <td>0.001139</td>\n",
       "      <td>64.0</td>\n",
       "      <td>2.0</td>\n",
       "      <td>0.0010</td>\n",
       "      <td>10.75</td>\n",
       "    </tr>\n",
       "    <tr>\n",
       "      <th>6</th>\n",
       "      <td>0.000308</td>\n",
       "      <td>0.000222</td>\n",
       "      <td>0.005527</td>\n",
       "      <td>0.000065</td>\n",
       "      <td>0.001148</td>\n",
       "      <td>64.0</td>\n",
       "      <td>8.0</td>\n",
       "      <td>0.0001</td>\n",
       "      <td>12.25</td>\n",
       "    </tr>\n",
       "    <tr>\n",
       "      <th>5</th>\n",
       "      <td>0.000569</td>\n",
       "      <td>0.000164</td>\n",
       "      <td>0.001875</td>\n",
       "      <td>0.000137</td>\n",
       "      <td>0.001058</td>\n",
       "      <td>64.0</td>\n",
       "      <td>4.0</td>\n",
       "      <td>0.0100</td>\n",
       "      <td>13.00</td>\n",
       "    </tr>\n",
       "    <tr>\n",
       "      <th>12</th>\n",
       "      <td>0.000111</td>\n",
       "      <td>0.001003</td>\n",
       "      <td>0.022702</td>\n",
       "      <td>0.000093</td>\n",
       "      <td>0.003477</td>\n",
       "      <td>128.0</td>\n",
       "      <td>4.0</td>\n",
       "      <td>0.0001</td>\n",
       "      <td>14.50</td>\n",
       "    </tr>\n",
       "    <tr>\n",
       "      <th>14</th>\n",
       "      <td>0.000108</td>\n",
       "      <td>0.000681</td>\n",
       "      <td>0.014101</td>\n",
       "      <td>0.000412</td>\n",
       "      <td>0.002611</td>\n",
       "      <td>128.0</td>\n",
       "      <td>4.0</td>\n",
       "      <td>0.0100</td>\n",
       "      <td>14.75</td>\n",
       "    </tr>\n",
       "    <tr>\n",
       "      <th>22</th>\n",
       "      <td>0.000355</td>\n",
       "      <td>0.000372</td>\n",
       "      <td>0.002427</td>\n",
       "      <td>0.000187</td>\n",
       "      <td>0.001157</td>\n",
       "      <td>256.0</td>\n",
       "      <td>4.0</td>\n",
       "      <td>0.0010</td>\n",
       "      <td>14.75</td>\n",
       "    </tr>\n",
       "    <tr>\n",
       "      <th>18</th>\n",
       "      <td>0.000087</td>\n",
       "      <td>0.001293</td>\n",
       "      <td>0.028361</td>\n",
       "      <td>0.000165</td>\n",
       "      <td>0.004382</td>\n",
       "      <td>256.0</td>\n",
       "      <td>2.0</td>\n",
       "      <td>0.0001</td>\n",
       "      <td>15.75</td>\n",
       "    </tr>\n",
       "    <tr>\n",
       "      <th>3</th>\n",
       "      <td>0.000114</td>\n",
       "      <td>0.000707</td>\n",
       "      <td>0.036922</td>\n",
       "      <td>0.000142</td>\n",
       "      <td>0.004655</td>\n",
       "      <td>64.0</td>\n",
       "      <td>4.0</td>\n",
       "      <td>0.0001</td>\n",
       "      <td>15.75</td>\n",
       "    </tr>\n",
       "    <tr>\n",
       "      <th>9</th>\n",
       "      <td>0.000068</td>\n",
       "      <td>0.001201</td>\n",
       "      <td>0.034327</td>\n",
       "      <td>0.000200</td>\n",
       "      <td>0.004901</td>\n",
       "      <td>128.0</td>\n",
       "      <td>2.0</td>\n",
       "      <td>0.0001</td>\n",
       "      <td>16.75</td>\n",
       "    </tr>\n",
       "    <tr>\n",
       "      <th>19</th>\n",
       "      <td>0.000158</td>\n",
       "      <td>0.000622</td>\n",
       "      <td>0.021398</td>\n",
       "      <td>0.000390</td>\n",
       "      <td>0.003309</td>\n",
       "      <td>256.0</td>\n",
       "      <td>2.0</td>\n",
       "      <td>0.0010</td>\n",
       "      <td>17.25</td>\n",
       "    </tr>\n",
       "    <tr>\n",
       "      <th>10</th>\n",
       "      <td>0.000201</td>\n",
       "      <td>0.000596</td>\n",
       "      <td>0.015699</td>\n",
       "      <td>0.000245</td>\n",
       "      <td>0.002612</td>\n",
       "      <td>128.0</td>\n",
       "      <td>2.0</td>\n",
       "      <td>0.0010</td>\n",
       "      <td>17.25</td>\n",
       "    </tr>\n",
       "    <tr>\n",
       "      <th>2</th>\n",
       "      <td>0.000145</td>\n",
       "      <td>0.000709</td>\n",
       "      <td>0.021852</td>\n",
       "      <td>0.000284</td>\n",
       "      <td>0.003323</td>\n",
       "      <td>64.0</td>\n",
       "      <td>2.0</td>\n",
       "      <td>0.0100</td>\n",
       "      <td>17.50</td>\n",
       "    </tr>\n",
       "    <tr>\n",
       "      <th>11</th>\n",
       "      <td>0.000219</td>\n",
       "      <td>0.001415</td>\n",
       "      <td>0.023814</td>\n",
       "      <td>0.000081</td>\n",
       "      <td>0.004096</td>\n",
       "      <td>128.0</td>\n",
       "      <td>2.0</td>\n",
       "      <td>0.0100</td>\n",
       "      <td>18.50</td>\n",
       "    </tr>\n",
       "    <tr>\n",
       "      <th>23</th>\n",
       "      <td>0.000150</td>\n",
       "      <td>0.005791</td>\n",
       "      <td>0.008632</td>\n",
       "      <td>0.002535</td>\n",
       "      <td>0.009338</td>\n",
       "      <td>256.0</td>\n",
       "      <td>4.0</td>\n",
       "      <td>0.0100</td>\n",
       "      <td>19.50</td>\n",
       "    </tr>\n",
       "    <tr>\n",
       "      <th>17</th>\n",
       "      <td>0.000687</td>\n",
       "      <td>0.000976</td>\n",
       "      <td>0.014674</td>\n",
       "      <td>0.001293</td>\n",
       "      <td>0.004422</td>\n",
       "      <td>128.0</td>\n",
       "      <td>8.0</td>\n",
       "      <td>0.0100</td>\n",
       "      <td>21.25</td>\n",
       "    </tr>\n",
       "    <tr>\n",
       "      <th>20</th>\n",
       "      <td>0.001352</td>\n",
       "      <td>0.001065</td>\n",
       "      <td>0.040173</td>\n",
       "      <td>0.000197</td>\n",
       "      <td>0.006631</td>\n",
       "      <td>256.0</td>\n",
       "      <td>2.0</td>\n",
       "      <td>0.0100</td>\n",
       "      <td>23.00</td>\n",
       "    </tr>\n",
       "    <tr>\n",
       "      <th>0</th>\n",
       "      <td>0.000905</td>\n",
       "      <td>0.001685</td>\n",
       "      <td>0.072601</td>\n",
       "      <td>0.000197</td>\n",
       "      <td>0.010047</td>\n",
       "      <td>64.0</td>\n",
       "      <td>2.0</td>\n",
       "      <td>0.0001</td>\n",
       "      <td>23.75</td>\n",
       "    </tr>\n",
       "    <tr>\n",
       "      <th>26</th>\n",
       "      <td>0.042243</td>\n",
       "      <td>0.003140</td>\n",
       "      <td>0.016795</td>\n",
       "      <td>0.001045</td>\n",
       "      <td>0.048107</td>\n",
       "      <td>256.0</td>\n",
       "      <td>8.0</td>\n",
       "      <td>0.0100</td>\n",
       "      <td>24.00</td>\n",
       "    </tr>\n",
       "  </tbody>\n",
       "</table>\n",
       "</div>"
      ],
      "text/plain": [
       "    PDE Loss  Zero Maturity Loss  Zero Strike Loss  Infinity Strike Loss  \\\n",
       "7   0.000114            0.000091          0.000040              0.000029   \n",
       "16  0.000115            0.000109          0.000033              0.000030   \n",
       "25  0.000096            0.000138          0.000656              0.000035   \n",
       "4   0.000176            0.000112          0.000260              0.000058   \n",
       "24  0.000296            0.000110          0.000129              0.000063   \n",
       "13  0.000174            0.000115          0.000439              0.000075   \n",
       "15  0.000465            0.000211          0.001115              0.000024   \n",
       "21  0.000166            0.000435          0.009744              0.000029   \n",
       "8   0.000192            0.000307          0.000026              0.000169   \n",
       "1   0.000127            0.000384          0.005440              0.000084   \n",
       "6   0.000308            0.000222          0.005527              0.000065   \n",
       "5   0.000569            0.000164          0.001875              0.000137   \n",
       "12  0.000111            0.001003          0.022702              0.000093   \n",
       "14  0.000108            0.000681          0.014101              0.000412   \n",
       "22  0.000355            0.000372          0.002427              0.000187   \n",
       "18  0.000087            0.001293          0.028361              0.000165   \n",
       "3   0.000114            0.000707          0.036922              0.000142   \n",
       "9   0.000068            0.001201          0.034327              0.000200   \n",
       "19  0.000158            0.000622          0.021398              0.000390   \n",
       "10  0.000201            0.000596          0.015699              0.000245   \n",
       "2   0.000145            0.000709          0.021852              0.000284   \n",
       "11  0.000219            0.001415          0.023814              0.000081   \n",
       "23  0.000150            0.005791          0.008632              0.002535   \n",
       "17  0.000687            0.000976          0.014674              0.001293   \n",
       "20  0.001352            0.001065          0.040173              0.000197   \n",
       "0   0.000905            0.001685          0.072601              0.000197   \n",
       "26  0.042243            0.003140          0.016795              0.001045   \n",
       "\n",
       "    Total Loss  hidden_dim  n_layers  pre_train_learning_rate  average_rank  \n",
       "7     0.000238        64.0       8.0                   0.0010          3.25  \n",
       "16    0.000258       128.0       8.0                   0.0010          4.00  \n",
       "25    0.000334       256.0       8.0                   0.0010          5.25  \n",
       "4     0.000371        64.0       4.0                   0.0010          7.50  \n",
       "24    0.000482       256.0       8.0                   0.0001          8.25  \n",
       "13    0.000408       128.0       4.0                   0.0010          8.50  \n",
       "15    0.000812       128.0       8.0                   0.0001          9.75  \n",
       "21    0.001604       256.0       4.0                   0.0001         10.50  \n",
       "8     0.000671        64.0       8.0                   0.0100         10.75  \n",
       "1     0.001139        64.0       2.0                   0.0010         10.75  \n",
       "6     0.001148        64.0       8.0                   0.0001         12.25  \n",
       "5     0.001058        64.0       4.0                   0.0100         13.00  \n",
       "12    0.003477       128.0       4.0                   0.0001         14.50  \n",
       "14    0.002611       128.0       4.0                   0.0100         14.75  \n",
       "22    0.001157       256.0       4.0                   0.0010         14.75  \n",
       "18    0.004382       256.0       2.0                   0.0001         15.75  \n",
       "3     0.004655        64.0       4.0                   0.0001         15.75  \n",
       "9     0.004901       128.0       2.0                   0.0001         16.75  \n",
       "19    0.003309       256.0       2.0                   0.0010         17.25  \n",
       "10    0.002612       128.0       2.0                   0.0010         17.25  \n",
       "2     0.003323        64.0       2.0                   0.0100         17.50  \n",
       "11    0.004096       128.0       2.0                   0.0100         18.50  \n",
       "23    0.009338       256.0       4.0                   0.0100         19.50  \n",
       "17    0.004422       128.0       8.0                   0.0100         21.25  \n",
       "20    0.006631       256.0       2.0                   0.0100         23.00  \n",
       "0     0.010047        64.0       2.0                   0.0001         23.75  \n",
       "26    0.048107       256.0       8.0                   0.0100         24.00  "
      ]
     },
     "execution_count": 28,
     "metadata": {},
     "output_type": "execute_result"
    }
   ],
   "source": [
    "# Rank the losses for each column (except 'Total Loss')\n",
    "ranked_losses = results_df.drop(columns=['Total Loss', 'hidden_dim', 'n_layers', 'pre_train_learning_rate']).rank()\n",
    "\n",
    "ranked_df = results_df.copy()\n",
    "\n",
    "# Compute the average rank for each configuration\n",
    "ranked_df['average_rank'] = ranked_losses.mean(axis=1)\n",
    "\n",
    "# Sort by the average rank (lower is better)\n",
    "ranked_df = ranked_df.sort_values('average_rank')\n",
    "\n",
    "# Print the top-ranked configurations\n",
    "ranked_df"
   ]
  },
  {
   "cell_type": "code",
   "execution_count": null,
   "metadata": {},
   "outputs": [],
   "source": [
    "hidden_dim = 64\n",
    "n_layers = 8\n",
    "batch_size = 1000\n",
    "pde_loss_coefficient = 1.0\n",
    "maturity_zero_loss_coefficient = 1.0\n",
    "strike_zero_loss_coefficient = 1.0\n",
    "strike_infinity_loss_coefficient = 1.0\n",
    "pre_train_learning_rate = 1e-3\n",
    "fine_tune_learning_rate = 1e-4\n",
    "pre_train_epochs = 3\n",
    "fine_tune_epochs = 20\n",
    "maturity_min = maturity_time_list.min()\n",
    "maturity_max = maturity_time_list.max()\n",
    "strike_min = strike_price_list.min()\n",
    "strike_max = strike_price_list.max()\n",
    "volatility_mean = np.mean(sampled_volatilities)\n",
    "volatility_std = np.std(sampled_volatilities)\n",
    "strike_infinity = 2.5\n",
    "device = 'cpu'\n",
    "\n",
    "init_loss = pd.DataFrame()\n",
    "\n",
    "for i in range(100):\n",
    "    # Initialize the DupirePINNTrainer class\n",
    "    trainer = DupirePINNTrainer(\n",
    "        hidden_dim=hidden_dim,\n",
    "        n_layers=n_layers,\n",
    "        batch_size=batch_size,\n",
    "        pde_loss_coefficient=pde_loss_coefficient,\n",
    "        maturity_zero_loss_coefficient=maturity_zero_loss_coefficient,\n",
    "        strike_zero_loss_coefficient=strike_zero_loss_coefficient,\n",
    "        strike_infinity_loss_coefficient=strike_infinity_loss_coefficient,\n",
    "        pre_train_learning_rate=pre_train_learning_rate,\n",
    "        fine_tune_learning_rate=fine_tune_learning_rate,\n",
    "        pre_train_epochs=pre_train_epochs,\n",
    "        fine_tune_epochs=fine_tune_epochs,\n",
    "        maturity_min=maturity_min,\n",
    "        maturity_max=maturity_max,\n",
    "        strike_min=strike_min,\n",
    "        strike_max=strike_max,\n",
    "        volatility_mean=volatility_mean,\n",
    "        volatility_std=volatility_std,\n",
    "        maturity_time_list=maturity_time_list,\n",
    "        strike_price_list=strike_price_list,\n",
    "        strike_std=strike_std,\n",
    "        maturity_std=maturity_std,\n",
    "        constant_volatility=constant_volatility,\n",
    "        strike_infinity=strike_infinity,\n",
    "        device=device\n",
    "    )\n",
    "\n",
    "    trainer.pre_train(\n",
    "        sampled_surface_coefficients=sampled_surface_coefficients,\n",
    "        experiment_name='test 1'\n",
    "    )\n",
    "\n",
    "    init_loss = pd.concat([init_loss, pd.DataFrame(trainer.pre_train_loss_history)], ignore_index=True)"
   ]
  },
  {
   "cell_type": "code",
   "execution_count": 55,
   "metadata": {},
   "outputs": [
    {
     "data": {
      "text/plain": [
       "PDE Loss                839.440332\n",
       "Zero Maturity Loss      914.230596\n",
       "Zero Strike Loss         32.072821\n",
       "Infinity Strike Loss    228.623162\n",
       "Total Loss               25.773987\n",
       "dtype: float64"
      ]
     },
     "execution_count": 55,
     "metadata": {},
     "output_type": "execute_result"
    }
   ],
   "source": [
    "(1 / init_loss).median()"
   ]
  },
  {
   "cell_type": "code",
   "execution_count": 57,
   "metadata": {},
   "outputs": [
    {
     "name": "stdout",
     "output_type": "stream",
     "text": [
      "Epoch 1/50, Batch 1, Losses: {'PDE Loss': 0.0061046330201622884, 'Zero Maturity Loss': 0.000936328258831054, 'Zero Strike Loss': 0.0669575110077858, 'Infinity Strike Loss': 0.0002694365393836051, 'Total Loss': 8.107718021452177}\n",
      "Epoch 2/50, Batch 1, Losses: {'PDE Loss': 0.004152642265504579, 'Zero Maturity Loss': 0.0006561065674759448, 'Zero Strike Loss': 0.05492196977138519, 'Infinity Strike Loss': 0.00028925901278853416, 'Total Loss': 5.840215627565069}\n",
      "Epoch 3/50, Batch 1, Losses: {'PDE Loss': 0.004241656783537503, 'Zero Maturity Loss': 0.0005398805369623005, 'Zero Strike Loss': 0.043098535388708115, 'Infinity Strike Loss': 0.0005812892923131585, 'Total Loss': 5.529579177318981}\n",
      "Epoch 4/50, Batch 1, Losses: {'PDE Loss': 0.0009531916660930267, 'Zero Maturity Loss': 0.0005275936564430594, 'Zero Strike Loss': 0.03712223842740059, 'Infinity Strike Loss': 0.0006167406681925058, 'Total Loss': 2.552899500770938}\n",
      "Epoch 5/50, Batch 1, Losses: {'PDE Loss': 7.405180935487942e-05, 'Zero Maturity Loss': 0.0006018418935127556, 'Zero Strike Loss': 0.034072063863277435, 'Infinity Strike Loss': 0.0005915674264542758, 'Total Loss': 1.7746555340663783}\n",
      "Epoch 6/50, Batch 1, Losses: {'PDE Loss': 0.0006784592098560807, 'Zero Maturity Loss': 0.0005883658886887133, 'Zero Strike Loss': 0.03326483443379402, 'Infinity Strike Loss': 0.000453958724392578, 'Total Loss': 2.217654292541926}\n",
      "Epoch 7/50, Batch 1, Losses: {'PDE Loss': 0.0010851408566234743, 'Zero Maturity Loss': 0.00045951869105920196, 'Zero Strike Loss': 0.03395330160856247, 'Infinity Strike Loss': 0.0002553208323661238, 'Total Loss': 2.4183658010183273}\n",
      "Epoch 8/50, Batch 1, Losses: {'PDE Loss': 0.0009144426745383053, 'Zero Maturity Loss': 0.0003153718134853989, 'Zero Strike Loss': 0.03499612957239151, 'Infinity Strike Loss': 0.00010760046279756352, 'Total Loss': 2.1378948683914434}\n",
      "Epoch 9/50, Batch 1, Losses: {'PDE Loss': 0.0005077795223751541, 'Zero Maturity Loss': 0.000233163867960684, 'Zero Strike Loss': 0.035275693982839584, 'Infinity Strike Loss': 3.8143465644679964e-05, 'Total Loss': 1.7092667529016778}\n",
      "Epoch 10/50, Batch 1, Losses: {'PDE Loss': 0.00019531043058336475, 'Zero Maturity Loss': 0.0002116671239491552, 'Zero Strike Loss': 0.03390490636229515, 'Infinity Strike Loss': 1.3842219232174102e-05, 'Total Loss': 1.3771220126968682}\n",
      "Epoch 11/50, Batch 1, Losses: {'PDE Loss': 9.732171085970801e-05, 'Zero Maturity Loss': 0.0002033088094322011, 'Zero Strike Loss': 0.0305357426404953, 'Infinity Strike Loss': 3.8368070818251e-06, 'Total Loss': 1.1827328351287245}\n",
      "Epoch 12/50, Batch 1, Losses: {'PDE Loss': 0.00018482393687439195, 'Zero Maturity Loss': 0.00017514542560093105, 'Zero Strike Loss': 0.02552841790020466, 'Infinity Strike Loss': 1.2264116548976745e-06, 'Total Loss': 1.0808903358956938}\n",
      "Epoch 13/50, Batch 1, Losses: {'PDE Loss': 0.00035878236588158337, 'Zero Maturity Loss': 0.0001429742987966165, 'Zero Strike Loss': 0.019774580374360085, 'Infinity Strike Loss': 1.2956450518686324e-05, 'Total Loss': 1.0301183852521867}\n",
      "Epoch 14/50, Batch 1, Losses: {'PDE Loss': 0.0005155241839335678, 'Zero Maturity Loss': 0.00014581187861040235, 'Zero Strike Loss': 0.014298202469944954, 'Infinity Strike Loss': 5.230406895861961e-05, 'Total Loss': 1.0114483488136896}\n",
      "Epoch 15/50, Batch 1, Losses: {'PDE Loss': 0.000589988777426923, 'Zero Maturity Loss': 0.00019080223864875734, 'Zero Strike Loss': 0.009862344712018967, 'Infinity Strike Loss': 0.00013492086145561188, 'Total Loss': 1.0028130208252253}\n",
      "Epoch 16/50, Batch 1, Losses: {'PDE Loss': 0.0005727386798627904, 'Zero Maturity Loss': 0.0002379163051955402, 'Zero Strike Loss': 0.00678465748205781, 'Infinity Strike Loss': 0.00025991874281316996, 'Total Loss': 0.9694719739002556}\n",
      "Epoch 17/50, Batch 1, Losses: {'PDE Loss': 0.0004984720445781414, 'Zero Maturity Loss': 0.00024600198958069086, 'Zero Strike Loss': 0.004971000365912914, 'Infinity Strike Loss': 0.0003797749523073435, 'Total Loss': 0.8891767896754588}\n",
      "Epoch 18/50, Batch 1, Losses: {'PDE Loss': 0.0004211519384871122, 'Zero Maturity Loss': 0.00021381171245593578, 'Zero Strike Loss': 0.004131130408495665, 'Infinity Strike Loss': 0.00040930669638328254, 'Total Loss': 0.7766702762064007}\n",
      "Epoch 19/50, Batch 1, Losses: {'PDE Loss': 0.0003646234285778878, 'Zero Maturity Loss': 0.00016730991774238646, 'Zero Strike Loss': 0.003974144347012043, 'Infinity Strike Loss': 0.0003062180185224861, 'Total Loss': 0.6562876845553534}\n",
      "Epoch 20/50, Batch 1, Losses: {'PDE Loss': 0.00033399857698140066, 'Zero Maturity Loss': 0.00012956505815964192, 'Zero Strike Loss': 0.00425930880010128, 'Infinity Strike Loss': 0.00013882726489100605, 'Total Loss': 0.562993419423887}\n",
      "Epoch 21/50, Batch 1, Losses: {'PDE Loss': 0.00032680860467994944, 'Zero Maturity Loss': 0.0001087489363271743, 'Zero Strike Loss': 0.0047583007253706455, 'Infinity Strike Loss': 2.692292218853254e-05, 'Total Loss': 0.525141116413057}\n",
      "Epoch 22/50, Batch 1, Losses: {'PDE Loss': 0.00033685120950718503, 'Zero Maturity Loss': 0.00010148654109798372, 'Zero Strike Loss': 0.0052258591167628765, 'Infinity Strike Loss': 9.96476137515856e-06, 'Total Loss': 0.5369283804166348}\n",
      "Epoch 23/50, Batch 1, Losses: {'PDE Loss': 0.00035094087962145786, 'Zero Maturity Loss': 0.00010371058306191117, 'Zero Strike Loss': 0.0054346369579434395, 'Infinity Strike Loss': 2.814944673446007e-05, 'Total Loss': 0.561715737609912}\n",
      "Epoch 24/50, Batch 1, Losses: {'PDE Loss': 0.00036302891864688024, 'Zero Maturity Loss': 0.00011353034642525017, 'Zero Strike Loss': 0.005242309998720884, 'Infinity Strike Loss': 3.312081753392704e-05, 'Total Loss': 0.5763013989494661}\n",
      "Epoch 25/50, Batch 1, Losses: {'PDE Loss': 0.0003689526123611773, 'Zero Maturity Loss': 0.00011960746633121744, 'Zero Strike Loss': 0.0046358597464859486, 'Infinity Strike Loss': 2.995255999849178e-05, 'Total Loss': 0.5678203649086107}\n",
      "Epoch 26/50, Batch 1, Losses: {'PDE Loss': 0.00036127931277955464, 'Zero Maturity Loss': 0.00011159222049172968, 'Zero Strike Loss': 0.0037266332656145096, 'Infinity Strike Loss': 2.9584058211185038e-05, 'Total Loss': 0.5267154313957111}\n",
      "Epoch 27/50, Batch 1, Losses: {'PDE Loss': 0.0003417387384913545, 'Zero Maturity Loss': 9.944142948370427e-05, 'Zero Strike Loss': 0.002692539244890213, 'Infinity Strike Loss': 2.848423355317209e-05, 'Total Loss': 0.4678724463463678}\n",
      "Epoch 28/50, Batch 1, Losses: {'PDE Loss': 0.0003180163913868402, 'Zero Maturity Loss': 9.310263703810051e-05, 'Zero Strike Loss': 0.0017155770910903811, 'Infinity Strike Loss': 1.8527027350501157e-05, 'Total Loss': 0.4102053773842409}\n",
      "Epoch 29/50, Batch 1, Losses: {'PDE Loss': 0.0002951881643402469, 'Zero Maturity Loss': 8.902848639991134e-05, 'Zero Strike Loss': 0.0009378446266055107, 'Infinity Strike Loss': 1.3799929547531065e-05, 'Total Loss': 0.3626208983376829}\n",
      "Epoch 30/50, Batch 1, Losses: {'PDE Loss': 0.00027470099831420085, 'Zero Maturity Loss': 8.684464410180226e-05, 'Zero Strike Loss': 0.0004277903644833714, 'Infinity Strike Loss': 3.5746073990594596e-05, 'Total Loss': 0.33342625977176643}\n",
      "Epoch 31/50, Batch 1, Losses: {'PDE Loss': 0.00025698510092056975, 'Zero Maturity Loss': 8.963268919615075e-05, 'Zero Strike Loss': 0.00016277280519716442, 'Infinity Strike Loss': 5.81407111894805e-05, 'Total Loss': 0.31852511535658046}\n",
      "Epoch 32/50, Batch 1, Losses: {'PDE Loss': 0.00024124893378046048, 'Zero Maturity Loss': 9.79084288701415e-05, 'Zero Strike Loss': 5.692582271876745e-05, 'Infinity Strike Loss': 5.1313621952431276e-05, 'Total Loss': 0.3077153589494189}\n",
      "Epoch 33/50, Batch 1, Losses: {'PDE Loss': 0.0002273492450611452, 'Zero Maturity Loss': 0.00010596853098832071, 'Zero Strike Loss': 2.5260796974180266e-05, 'Infinity Strike Loss': 3.491459210636094e-05, 'Total Loss': 0.29810500830917663}\n",
      "Epoch 34/50, Batch 1, Losses: {'PDE Loss': 0.00021067224905320448, 'Zero Maturity Loss': 0.00010460471821716055, 'Zero Strike Loss': 2.3712098482064903e-05, 'Infinity Strike Loss': 2.9491417080862448e-05, 'Total Loss': 0.2812998763703597}\n",
      "Epoch 35/50, Batch 1, Losses: {'PDE Loss': 0.00018956261633980582, 'Zero Maturity Loss': 9.968977974494919e-05, 'Zero Strike Loss': 4.622475535143167e-05, 'Infinity Strike Loss': 3.1706429581390694e-05, 'Total Loss': 0.26016237460195835}\n",
      "Epoch 36/50, Batch 1, Losses: {'PDE Loss': 0.0001601589045447576, 'Zero Maturity Loss': 0.00010172879410674796, 'Zero Strike Loss': 0.00010676435340428725, 'Infinity Strike Loss': 2.746880636550486e-05, 'Total Loss': 0.23776111672760028}\n",
      "Epoch 37/50, Batch 1, Losses: {'PDE Loss': 0.0001268052249620549, 'Zero Maturity Loss': 0.00010956372716464102, 'Zero Strike Loss': 0.00021519180154427886, 'Infinity Strike Loss': 1.6479481928399764e-05, 'Total Loss': 0.2169674192666673}\n",
      "Epoch 38/50, Batch 1, Losses: {'PDE Loss': 9.750404043923858e-05, 'Zero Maturity Loss': 0.00011884474952239543, 'Zero Strike Loss': 0.0003528509696479887, 'Infinity Strike Loss': 1.350084403384244e-05, 'Total Loss': 0.2037994484829792}\n",
      "Epoch 39/50, Batch 1, Losses: {'PDE Loss': 7.663246019166076e-05, 'Zero Maturity Loss': 0.0001251727808266878, 'Zero Strike Loss': 0.00047588188317604363, 'Infinity Strike Loss': 1.5782379705342464e-05, 'Total Loss': 0.19601514790787458}\n",
      "Epoch 40/50, Batch 1, Losses: {'PDE Loss': 6.497010947184108e-05, 'Zero Maturity Loss': 0.00012945492926519364, 'Zero Strike Loss': 0.0005462496192194521, 'Infinity Strike Loss': 2.1006462702644058e-05, 'Total Loss': 0.1933731350789854}\n",
      "Epoch 41/50, Batch 1, Losses: {'PDE Loss': 5.946558622121615e-05, 'Zero Maturity Loss': 0.00013225448492448777, 'Zero Strike Loss': 0.0005483534769155085, 'Infinity Strike Loss': 2.6192536097369157e-05, 'Total Loss': 0.19257352451070978}\n",
      "Epoch 42/50, Batch 1, Losses: {'PDE Loss': 5.768114714079938e-05, 'Zero Maturity Loss': 0.00013403482444118708, 'Zero Strike Loss': 0.00048105273162946105, 'Infinity Strike Loss': 2.699016476981342e-05, 'Total Loss': 0.19083944253639146}\n",
      "Epoch 43/50, Batch 1, Losses: {'PDE Loss': 5.6858577118189125e-05, 'Zero Maturity Loss': 0.00013472179125528783, 'Zero Strike Loss': 0.00035772265982814133, 'Infinity Strike Loss': 3.0268807677202858e-05, 'Total Loss': 0.1878782803743982}\n",
      "Epoch 44/50, Batch 1, Losses: {'PDE Loss': 5.469589463246889e-05, 'Zero Maturity Loss': 0.00013163355470169336, 'Zero Strike Loss': 0.00021428021136671305, 'Infinity Strike Loss': 4.277436892152764e-05, 'Total Loss': 0.18208370843695673}\n",
      "Epoch 45/50, Batch 1, Losses: {'PDE Loss': 5.099047480971924e-05, 'Zero Maturity Loss': 0.00012867887562606484, 'Zero Strike Loss': 9.60674587986432e-05, 'Infinity Strike Loss': 5.640718154609203e-05, 'Total Loss': 0.1761367135816178}\n",
      "Epoch 46/50, Batch 1, Losses: {'PDE Loss': 4.726707407698995e-05, 'Zero Maturity Loss': 0.00012899836292490363, 'Zero Strike Loss': 2.9055348932160996e-05, 'Infinity Strike Loss': 5.2995947044109926e-05, 'Total Loss': 0.17039618314885047}\n",
      "Epoch 47/50, Batch 1, Losses: {'PDE Loss': 4.535554784638503e-05, 'Zero Maturity Loss': 0.00013037842290941626, 'Zero Strike Loss': 1.3339545148483012e-05, 'Infinity Strike Loss': 4.4378502934705466e-05, 'Total Loss': 0.16738760767935984}\n",
      "Epoch 48/50, Batch 1, Losses: {'PDE Loss': 4.639914494881871e-05, 'Zero Maturity Loss': 0.00012732300092466176, 'Zero Strike Loss': 3.567086605471559e-05, 'Infinity Strike Loss': 4.4185715523781255e-05, 'Total Loss': 0.1661465327720877}\n",
      "Epoch 49/50, Batch 1, Losses: {'PDE Loss': 4.8993011305805335e-05, 'Zero Maturity Loss': 0.00012384634464979172, 'Zero Strike Loss': 7.310804357985035e-05, 'Infinity Strike Loss': 4.347091817180626e-05, 'Total Loss': 0.16616674468325063}\n",
      "Epoch 50/50, Batch 1, Losses: {'PDE Loss': 5.059548736255591e-05, 'Zero Maturity Loss': 0.0001237754913745448, 'Zero Strike Loss': 9.962083277059719e-05, 'Infinity Strike Loss': 3.095125430263579e-05, 'Total Loss': 0.1651305472513789}\n"
     ]
    }
   ],
   "source": [
    "hidden_dim = 64\n",
    "n_layers = 8\n",
    "batch_size = 1000\n",
    "pde_loss_coefficient = 850.0\n",
    "maturity_zero_loss_coefficient = 900.0\n",
    "strike_zero_loss_coefficient = 30.0\n",
    "strike_infinity_loss_coefficient = 250.0\n",
    "pre_train_learning_rate = 1e-3\n",
    "fine_tune_learning_rate = 1e-4\n",
    "pre_train_epochs = 50\n",
    "fine_tune_epochs = 20\n",
    "maturity_min = maturity_time_list.min()\n",
    "maturity_max = maturity_time_list.max()\n",
    "strike_min = strike_price_list.min()\n",
    "strike_max = strike_price_list.max()\n",
    "volatility_mean = np.mean(sampled_volatilities)\n",
    "volatility_std = np.std(sampled_volatilities)\n",
    "strike_infinity = 2.5\n",
    "device = 'cpu'\n",
    "\n",
    "# Initialize the DupirePINNTrainer class\n",
    "trainer = DupirePINNTrainer(\n",
    "    hidden_dim=hidden_dim,\n",
    "    n_layers=n_layers,\n",
    "    batch_size=batch_size,\n",
    "    pde_loss_coefficient=pde_loss_coefficient,\n",
    "    maturity_zero_loss_coefficient=maturity_zero_loss_coefficient,\n",
    "    strike_zero_loss_coefficient=strike_zero_loss_coefficient,\n",
    "    strike_infinity_loss_coefficient=strike_infinity_loss_coefficient,\n",
    "    pre_train_learning_rate=pre_train_learning_rate,\n",
    "    fine_tune_learning_rate=fine_tune_learning_rate,\n",
    "    pre_train_epochs=pre_train_epochs,\n",
    "    fine_tune_epochs=fine_tune_epochs,\n",
    "    maturity_min=maturity_min,\n",
    "    maturity_max=maturity_max,\n",
    "    strike_min=strike_min,\n",
    "    strike_max=strike_max,\n",
    "    volatility_mean=volatility_mean,\n",
    "    volatility_std=volatility_std,\n",
    "    maturity_time_list=maturity_time_list,\n",
    "    strike_price_list=strike_price_list,\n",
    "    strike_std=strike_std,\n",
    "    maturity_std=maturity_std,\n",
    "    constant_volatility=constant_volatility,\n",
    "    strike_infinity=strike_infinity,\n",
    "    device=device\n",
    ")\n",
    "\n",
    "trainer.pre_train(\n",
    "    sampled_surface_coefficients=sampled_surface_coefficients,\n",
    "    experiment_name='test 1'\n",
    ")"
   ]
  },
  {
   "cell_type": "code",
   "execution_count": 68,
   "metadata": {},
   "outputs": [
    {
     "data": {
      "application/vnd.plotly.v1+json": {
       "config": {
        "plotlyServerURL": "https://plot.ly"
       },
       "data": [
        {
         "mode": "lines",
         "name": "PDE Loss",
         "type": "scatter",
         "x": [
          0,
          1,
          2,
          3,
          4,
          5,
          6,
          7,
          8,
          9,
          10,
          11,
          12,
          13,
          14,
          15,
          16,
          17,
          18,
          19,
          20,
          21,
          22,
          23,
          24,
          25,
          26,
          27,
          28,
          29,
          30,
          31,
          32,
          33,
          34,
          35,
          36,
          37,
          38,
          39,
          40,
          41,
          42,
          43,
          44,
          45,
          46,
          47,
          48,
          49
         ],
         "xaxis": "x",
         "y": [
          0.0061046330201622884,
          0.004152642265504579,
          0.004241656783537503,
          0.0009531916660930267,
          0.00007405180935487942,
          0.0006784592098560807,
          0.0010851408566234743,
          0.0009144426745383053,
          0.0005077795223751541,
          0.00019531043058336475,
          0.00009732171085970801,
          0.00018482393687439195,
          0.00035878236588158337,
          0.0005155241839335678,
          0.000589988777426923,
          0.0005727386798627904,
          0.0004984720445781414,
          0.0004211519384871122,
          0.0003646234285778878,
          0.00033399857698140066,
          0.00032680860467994944,
          0.00033685120950718503,
          0.00035094087962145786,
          0.00036302891864688024,
          0.0003689526123611773,
          0.00036127931277955464,
          0.0003417387384913545,
          0.0003180163913868402,
          0.0002951881643402469,
          0.00027470099831420085,
          0.00025698510092056975,
          0.00024124893378046048,
          0.0002273492450611452,
          0.00021067224905320448,
          0.00018956261633980582,
          0.0001601589045447576,
          0.0001268052249620549,
          0.00009750404043923858,
          0.00007663246019166076,
          0.00006497010947184108,
          0.00005946558622121615,
          0.00005768114714079938,
          0.000056858577118189125,
          0.00005469589463246889,
          0.00005099047480971924,
          0.00004726707407698995,
          0.00004535554784638503,
          0.00004639914494881871,
          0.000048993011305805335,
          0.00005059548736255591
         ],
         "yaxis": "y"
        },
        {
         "mode": "lines",
         "name": "Zero Maturity Loss",
         "type": "scatter",
         "x": [
          0,
          1,
          2,
          3,
          4,
          5,
          6,
          7,
          8,
          9,
          10,
          11,
          12,
          13,
          14,
          15,
          16,
          17,
          18,
          19,
          20,
          21,
          22,
          23,
          24,
          25,
          26,
          27,
          28,
          29,
          30,
          31,
          32,
          33,
          34,
          35,
          36,
          37,
          38,
          39,
          40,
          41,
          42,
          43,
          44,
          45,
          46,
          47,
          48,
          49
         ],
         "xaxis": "x2",
         "y": [
          0.000936328258831054,
          0.0006561065674759448,
          0.0005398805369623005,
          0.0005275936564430594,
          0.0006018418935127556,
          0.0005883658886887133,
          0.00045951869105920196,
          0.0003153718134853989,
          0.000233163867960684,
          0.0002116671239491552,
          0.0002033088094322011,
          0.00017514542560093105,
          0.0001429742987966165,
          0.00014581187861040235,
          0.00019080223864875734,
          0.0002379163051955402,
          0.00024600198958069086,
          0.00021381171245593578,
          0.00016730991774238646,
          0.00012956505815964192,
          0.0001087489363271743,
          0.00010148654109798372,
          0.00010371058306191117,
          0.00011353034642525017,
          0.00011960746633121744,
          0.00011159222049172968,
          0.00009944142948370427,
          0.00009310263703810051,
          0.00008902848639991134,
          0.00008684464410180226,
          0.00008963268919615075,
          0.0000979084288701415,
          0.00010596853098832071,
          0.00010460471821716055,
          0.00009968977974494919,
          0.00010172879410674796,
          0.00010956372716464102,
          0.00011884474952239543,
          0.0001251727808266878,
          0.00012945492926519364,
          0.00013225448492448777,
          0.00013403482444118708,
          0.00013472179125528783,
          0.00013163355470169336,
          0.00012867887562606484,
          0.00012899836292490363,
          0.00013037842290941626,
          0.00012732300092466176,
          0.00012384634464979172,
          0.0001237754913745448
         ],
         "yaxis": "y2"
        },
        {
         "mode": "lines",
         "name": "Zero Strike Loss",
         "type": "scatter",
         "x": [
          0,
          1,
          2,
          3,
          4,
          5,
          6,
          7,
          8,
          9,
          10,
          11,
          12,
          13,
          14,
          15,
          16,
          17,
          18,
          19,
          20,
          21,
          22,
          23,
          24,
          25,
          26,
          27,
          28,
          29,
          30,
          31,
          32,
          33,
          34,
          35,
          36,
          37,
          38,
          39,
          40,
          41,
          42,
          43,
          44,
          45,
          46,
          47,
          48,
          49
         ],
         "xaxis": "x3",
         "y": [
          0.0669575110077858,
          0.05492196977138519,
          0.043098535388708115,
          0.03712223842740059,
          0.034072063863277435,
          0.03326483443379402,
          0.03395330160856247,
          0.03499612957239151,
          0.035275693982839584,
          0.03390490636229515,
          0.0305357426404953,
          0.02552841790020466,
          0.019774580374360085,
          0.014298202469944954,
          0.009862344712018967,
          0.00678465748205781,
          0.004971000365912914,
          0.004131130408495665,
          0.003974144347012043,
          0.00425930880010128,
          0.0047583007253706455,
          0.0052258591167628765,
          0.0054346369579434395,
          0.005242309998720884,
          0.0046358597464859486,
          0.0037266332656145096,
          0.002692539244890213,
          0.0017155770910903811,
          0.0009378446266055107,
          0.0004277903644833714,
          0.00016277280519716442,
          0.00005692582271876745,
          0.000025260796974180266,
          0.000023712098482064903,
          0.00004622475535143167,
          0.00010676435340428725,
          0.00021519180154427886,
          0.0003528509696479887,
          0.00047588188317604363,
          0.0005462496192194521,
          0.0005483534769155085,
          0.00048105273162946105,
          0.00035772265982814133,
          0.00021428021136671305,
          0.0000960674587986432,
          0.000029055348932160996,
          0.000013339545148483012,
          0.00003567086605471559,
          0.00007310804357985035,
          0.00009962083277059719
         ],
         "yaxis": "y3"
        },
        {
         "mode": "lines",
         "name": "Infinity Strike Loss",
         "type": "scatter",
         "x": [
          0,
          1,
          2,
          3,
          4,
          5,
          6,
          7,
          8,
          9,
          10,
          11,
          12,
          13,
          14,
          15,
          16,
          17,
          18,
          19,
          20,
          21,
          22,
          23,
          24,
          25,
          26,
          27,
          28,
          29,
          30,
          31,
          32,
          33,
          34,
          35,
          36,
          37,
          38,
          39,
          40,
          41,
          42,
          43,
          44,
          45,
          46,
          47,
          48,
          49
         ],
         "xaxis": "x4",
         "y": [
          0.0002694365393836051,
          0.00028925901278853416,
          0.0005812892923131585,
          0.0006167406681925058,
          0.0005915674264542758,
          0.000453958724392578,
          0.0002553208323661238,
          0.00010760046279756352,
          0.000038143465644679964,
          0.000013842219232174102,
          0.0000038368070818251,
          0.0000012264116548976745,
          0.000012956450518686324,
          0.00005230406895861961,
          0.00013492086145561188,
          0.00025991874281316996,
          0.0003797749523073435,
          0.00040930669638328254,
          0.0003062180185224861,
          0.00013882726489100605,
          0.00002692292218853254,
          0.00000996476137515856,
          0.00002814944673446007,
          0.00003312081753392704,
          0.00002995255999849178,
          0.000029584058211185038,
          0.00002848423355317209,
          0.000018527027350501157,
          0.000013799929547531065,
          0.000035746073990594596,
          0.0000581407111894805,
          0.000051313621952431276,
          0.00003491459210636094,
          0.000029491417080862448,
          0.000031706429581390694,
          0.00002746880636550486,
          0.000016479481928399764,
          0.00001350084403384244,
          0.000015782379705342464,
          0.000021006462702644058,
          0.000026192536097369157,
          0.00002699016476981342,
          0.000030268807677202858,
          0.00004277436892152764,
          0.00005640718154609203,
          0.000052995947044109926,
          0.000044378502934705466,
          0.000044185715523781255,
          0.00004347091817180626,
          0.00003095125430263579
         ],
         "yaxis": "y4"
        },
        {
         "mode": "lines",
         "name": "Total Loss",
         "type": "scatter",
         "x": [
          0,
          1,
          2,
          3,
          4,
          5,
          6,
          7,
          8,
          9,
          10,
          11,
          12,
          13,
          14,
          15,
          16,
          17,
          18,
          19,
          20,
          21,
          22,
          23,
          24,
          25,
          26,
          27,
          28,
          29,
          30,
          31,
          32,
          33,
          34,
          35,
          36,
          37,
          38,
          39,
          40,
          41,
          42,
          43,
          44,
          45,
          46,
          47,
          48,
          49
         ],
         "xaxis": "x5",
         "y": [
          8.107718021452177,
          5.840215627565069,
          5.529579177318981,
          2.552899500770938,
          1.7746555340663783,
          2.217654292541926,
          2.4183658010183273,
          2.1378948683914434,
          1.7092667529016778,
          1.3771220126968682,
          1.1827328351287245,
          1.0808903358956938,
          1.0301183852521867,
          1.0114483488136896,
          1.0028130208252253,
          0.9694719739002556,
          0.8891767896754588,
          0.7766702762064007,
          0.6562876845553534,
          0.562993419423887,
          0.525141116413057,
          0.5369283804166348,
          0.561715737609912,
          0.5763013989494661,
          0.5678203649086107,
          0.5267154313957111,
          0.4678724463463678,
          0.4102053773842409,
          0.3626208983376829,
          0.33342625977176643,
          0.31852511535658046,
          0.3077153589494189,
          0.29810500830917663,
          0.2812998763703597,
          0.26016237460195835,
          0.23776111672760028,
          0.2169674192666673,
          0.2037994484829792,
          0.19601514790787458,
          0.1933731350789854,
          0.19257352451070978,
          0.19083944253639146,
          0.1878782803743982,
          0.18208370843695673,
          0.1761367135816178,
          0.17039618314885047,
          0.16738760767935984,
          0.1661465327720877,
          0.16616674468325063,
          0.1651305472513789
         ],
         "yaxis": "y5"
        }
       ],
       "layout": {
        "annotations": [
         {
          "font": {
           "size": 16
          },
          "showarrow": false,
          "text": "PDE Loss",
          "x": 0.225,
          "xanchor": "center",
          "xref": "paper",
          "y": 1,
          "yanchor": "bottom",
          "yref": "paper"
         },
         {
          "font": {
           "size": 16
          },
          "showarrow": false,
          "text": "Zero Maturity Loss",
          "x": 0.775,
          "xanchor": "center",
          "xref": "paper",
          "y": 1,
          "yanchor": "bottom",
          "yref": "paper"
         },
         {
          "font": {
           "size": 16
          },
          "showarrow": false,
          "text": "Zero Strike Loss",
          "x": 0.225,
          "xanchor": "center",
          "xref": "paper",
          "y": 0.6333333333333333,
          "yanchor": "bottom",
          "yref": "paper"
         },
         {
          "font": {
           "size": 16
          },
          "showarrow": false,
          "text": "Infinity Strike Loss",
          "x": 0.775,
          "xanchor": "center",
          "xref": "paper",
          "y": 0.6333333333333333,
          "yanchor": "bottom",
          "yref": "paper"
         },
         {
          "font": {
           "size": 16
          },
          "showarrow": false,
          "text": "Total Loss",
          "x": 0.5,
          "xanchor": "center",
          "xref": "paper",
          "y": 0.26666666666666666,
          "yanchor": "bottom",
          "yref": "paper"
         }
        ],
        "height": 900,
        "showlegend": false,
        "template": {
         "data": {
          "bar": [
           {
            "error_x": {
             "color": "#2a3f5f"
            },
            "error_y": {
             "color": "#2a3f5f"
            },
            "marker": {
             "line": {
              "color": "#E5ECF6",
              "width": 0.5
             },
             "pattern": {
              "fillmode": "overlay",
              "size": 10,
              "solidity": 0.2
             }
            },
            "type": "bar"
           }
          ],
          "barpolar": [
           {
            "marker": {
             "line": {
              "color": "#E5ECF6",
              "width": 0.5
             },
             "pattern": {
              "fillmode": "overlay",
              "size": 10,
              "solidity": 0.2
             }
            },
            "type": "barpolar"
           }
          ],
          "carpet": [
           {
            "aaxis": {
             "endlinecolor": "#2a3f5f",
             "gridcolor": "white",
             "linecolor": "white",
             "minorgridcolor": "white",
             "startlinecolor": "#2a3f5f"
            },
            "baxis": {
             "endlinecolor": "#2a3f5f",
             "gridcolor": "white",
             "linecolor": "white",
             "minorgridcolor": "white",
             "startlinecolor": "#2a3f5f"
            },
            "type": "carpet"
           }
          ],
          "choropleth": [
           {
            "colorbar": {
             "outlinewidth": 0,
             "ticks": ""
            },
            "type": "choropleth"
           }
          ],
          "contour": [
           {
            "colorbar": {
             "outlinewidth": 0,
             "ticks": ""
            },
            "colorscale": [
             [
              0,
              "#0d0887"
             ],
             [
              0.1111111111111111,
              "#46039f"
             ],
             [
              0.2222222222222222,
              "#7201a8"
             ],
             [
              0.3333333333333333,
              "#9c179e"
             ],
             [
              0.4444444444444444,
              "#bd3786"
             ],
             [
              0.5555555555555556,
              "#d8576b"
             ],
             [
              0.6666666666666666,
              "#ed7953"
             ],
             [
              0.7777777777777778,
              "#fb9f3a"
             ],
             [
              0.8888888888888888,
              "#fdca26"
             ],
             [
              1,
              "#f0f921"
             ]
            ],
            "type": "contour"
           }
          ],
          "contourcarpet": [
           {
            "colorbar": {
             "outlinewidth": 0,
             "ticks": ""
            },
            "type": "contourcarpet"
           }
          ],
          "heatmap": [
           {
            "colorbar": {
             "outlinewidth": 0,
             "ticks": ""
            },
            "colorscale": [
             [
              0,
              "#0d0887"
             ],
             [
              0.1111111111111111,
              "#46039f"
             ],
             [
              0.2222222222222222,
              "#7201a8"
             ],
             [
              0.3333333333333333,
              "#9c179e"
             ],
             [
              0.4444444444444444,
              "#bd3786"
             ],
             [
              0.5555555555555556,
              "#d8576b"
             ],
             [
              0.6666666666666666,
              "#ed7953"
             ],
             [
              0.7777777777777778,
              "#fb9f3a"
             ],
             [
              0.8888888888888888,
              "#fdca26"
             ],
             [
              1,
              "#f0f921"
             ]
            ],
            "type": "heatmap"
           }
          ],
          "heatmapgl": [
           {
            "colorbar": {
             "outlinewidth": 0,
             "ticks": ""
            },
            "colorscale": [
             [
              0,
              "#0d0887"
             ],
             [
              0.1111111111111111,
              "#46039f"
             ],
             [
              0.2222222222222222,
              "#7201a8"
             ],
             [
              0.3333333333333333,
              "#9c179e"
             ],
             [
              0.4444444444444444,
              "#bd3786"
             ],
             [
              0.5555555555555556,
              "#d8576b"
             ],
             [
              0.6666666666666666,
              "#ed7953"
             ],
             [
              0.7777777777777778,
              "#fb9f3a"
             ],
             [
              0.8888888888888888,
              "#fdca26"
             ],
             [
              1,
              "#f0f921"
             ]
            ],
            "type": "heatmapgl"
           }
          ],
          "histogram": [
           {
            "marker": {
             "pattern": {
              "fillmode": "overlay",
              "size": 10,
              "solidity": 0.2
             }
            },
            "type": "histogram"
           }
          ],
          "histogram2d": [
           {
            "colorbar": {
             "outlinewidth": 0,
             "ticks": ""
            },
            "colorscale": [
             [
              0,
              "#0d0887"
             ],
             [
              0.1111111111111111,
              "#46039f"
             ],
             [
              0.2222222222222222,
              "#7201a8"
             ],
             [
              0.3333333333333333,
              "#9c179e"
             ],
             [
              0.4444444444444444,
              "#bd3786"
             ],
             [
              0.5555555555555556,
              "#d8576b"
             ],
             [
              0.6666666666666666,
              "#ed7953"
             ],
             [
              0.7777777777777778,
              "#fb9f3a"
             ],
             [
              0.8888888888888888,
              "#fdca26"
             ],
             [
              1,
              "#f0f921"
             ]
            ],
            "type": "histogram2d"
           }
          ],
          "histogram2dcontour": [
           {
            "colorbar": {
             "outlinewidth": 0,
             "ticks": ""
            },
            "colorscale": [
             [
              0,
              "#0d0887"
             ],
             [
              0.1111111111111111,
              "#46039f"
             ],
             [
              0.2222222222222222,
              "#7201a8"
             ],
             [
              0.3333333333333333,
              "#9c179e"
             ],
             [
              0.4444444444444444,
              "#bd3786"
             ],
             [
              0.5555555555555556,
              "#d8576b"
             ],
             [
              0.6666666666666666,
              "#ed7953"
             ],
             [
              0.7777777777777778,
              "#fb9f3a"
             ],
             [
              0.8888888888888888,
              "#fdca26"
             ],
             [
              1,
              "#f0f921"
             ]
            ],
            "type": "histogram2dcontour"
           }
          ],
          "mesh3d": [
           {
            "colorbar": {
             "outlinewidth": 0,
             "ticks": ""
            },
            "type": "mesh3d"
           }
          ],
          "parcoords": [
           {
            "line": {
             "colorbar": {
              "outlinewidth": 0,
              "ticks": ""
             }
            },
            "type": "parcoords"
           }
          ],
          "pie": [
           {
            "automargin": true,
            "type": "pie"
           }
          ],
          "scatter": [
           {
            "fillpattern": {
             "fillmode": "overlay",
             "size": 10,
             "solidity": 0.2
            },
            "type": "scatter"
           }
          ],
          "scatter3d": [
           {
            "line": {
             "colorbar": {
              "outlinewidth": 0,
              "ticks": ""
             }
            },
            "marker": {
             "colorbar": {
              "outlinewidth": 0,
              "ticks": ""
             }
            },
            "type": "scatter3d"
           }
          ],
          "scattercarpet": [
           {
            "marker": {
             "colorbar": {
              "outlinewidth": 0,
              "ticks": ""
             }
            },
            "type": "scattercarpet"
           }
          ],
          "scattergeo": [
           {
            "marker": {
             "colorbar": {
              "outlinewidth": 0,
              "ticks": ""
             }
            },
            "type": "scattergeo"
           }
          ],
          "scattergl": [
           {
            "marker": {
             "colorbar": {
              "outlinewidth": 0,
              "ticks": ""
             }
            },
            "type": "scattergl"
           }
          ],
          "scattermapbox": [
           {
            "marker": {
             "colorbar": {
              "outlinewidth": 0,
              "ticks": ""
             }
            },
            "type": "scattermapbox"
           }
          ],
          "scatterpolar": [
           {
            "marker": {
             "colorbar": {
              "outlinewidth": 0,
              "ticks": ""
             }
            },
            "type": "scatterpolar"
           }
          ],
          "scatterpolargl": [
           {
            "marker": {
             "colorbar": {
              "outlinewidth": 0,
              "ticks": ""
             }
            },
            "type": "scatterpolargl"
           }
          ],
          "scatterternary": [
           {
            "marker": {
             "colorbar": {
              "outlinewidth": 0,
              "ticks": ""
             }
            },
            "type": "scatterternary"
           }
          ],
          "surface": [
           {
            "colorbar": {
             "outlinewidth": 0,
             "ticks": ""
            },
            "colorscale": [
             [
              0,
              "#0d0887"
             ],
             [
              0.1111111111111111,
              "#46039f"
             ],
             [
              0.2222222222222222,
              "#7201a8"
             ],
             [
              0.3333333333333333,
              "#9c179e"
             ],
             [
              0.4444444444444444,
              "#bd3786"
             ],
             [
              0.5555555555555556,
              "#d8576b"
             ],
             [
              0.6666666666666666,
              "#ed7953"
             ],
             [
              0.7777777777777778,
              "#fb9f3a"
             ],
             [
              0.8888888888888888,
              "#fdca26"
             ],
             [
              1,
              "#f0f921"
             ]
            ],
            "type": "surface"
           }
          ],
          "table": [
           {
            "cells": {
             "fill": {
              "color": "#EBF0F8"
             },
             "line": {
              "color": "white"
             }
            },
            "header": {
             "fill": {
              "color": "#C8D4E3"
             },
             "line": {
              "color": "white"
             }
            },
            "type": "table"
           }
          ]
         },
         "layout": {
          "annotationdefaults": {
           "arrowcolor": "#2a3f5f",
           "arrowhead": 0,
           "arrowwidth": 1
          },
          "autotypenumbers": "strict",
          "coloraxis": {
           "colorbar": {
            "outlinewidth": 0,
            "ticks": ""
           }
          },
          "colorscale": {
           "diverging": [
            [
             0,
             "#8e0152"
            ],
            [
             0.1,
             "#c51b7d"
            ],
            [
             0.2,
             "#de77ae"
            ],
            [
             0.3,
             "#f1b6da"
            ],
            [
             0.4,
             "#fde0ef"
            ],
            [
             0.5,
             "#f7f7f7"
            ],
            [
             0.6,
             "#e6f5d0"
            ],
            [
             0.7,
             "#b8e186"
            ],
            [
             0.8,
             "#7fbc41"
            ],
            [
             0.9,
             "#4d9221"
            ],
            [
             1,
             "#276419"
            ]
           ],
           "sequential": [
            [
             0,
             "#0d0887"
            ],
            [
             0.1111111111111111,
             "#46039f"
            ],
            [
             0.2222222222222222,
             "#7201a8"
            ],
            [
             0.3333333333333333,
             "#9c179e"
            ],
            [
             0.4444444444444444,
             "#bd3786"
            ],
            [
             0.5555555555555556,
             "#d8576b"
            ],
            [
             0.6666666666666666,
             "#ed7953"
            ],
            [
             0.7777777777777778,
             "#fb9f3a"
            ],
            [
             0.8888888888888888,
             "#fdca26"
            ],
            [
             1,
             "#f0f921"
            ]
           ],
           "sequentialminus": [
            [
             0,
             "#0d0887"
            ],
            [
             0.1111111111111111,
             "#46039f"
            ],
            [
             0.2222222222222222,
             "#7201a8"
            ],
            [
             0.3333333333333333,
             "#9c179e"
            ],
            [
             0.4444444444444444,
             "#bd3786"
            ],
            [
             0.5555555555555556,
             "#d8576b"
            ],
            [
             0.6666666666666666,
             "#ed7953"
            ],
            [
             0.7777777777777778,
             "#fb9f3a"
            ],
            [
             0.8888888888888888,
             "#fdca26"
            ],
            [
             1,
             "#f0f921"
            ]
           ]
          },
          "colorway": [
           "#636efa",
           "#EF553B",
           "#00cc96",
           "#ab63fa",
           "#FFA15A",
           "#19d3f3",
           "#FF6692",
           "#B6E880",
           "#FF97FF",
           "#FECB52"
          ],
          "font": {
           "color": "#2a3f5f"
          },
          "geo": {
           "bgcolor": "white",
           "lakecolor": "white",
           "landcolor": "#E5ECF6",
           "showlakes": true,
           "showland": true,
           "subunitcolor": "white"
          },
          "hoverlabel": {
           "align": "left"
          },
          "hovermode": "closest",
          "mapbox": {
           "style": "light"
          },
          "paper_bgcolor": "white",
          "plot_bgcolor": "#E5ECF6",
          "polar": {
           "angularaxis": {
            "gridcolor": "white",
            "linecolor": "white",
            "ticks": ""
           },
           "bgcolor": "#E5ECF6",
           "radialaxis": {
            "gridcolor": "white",
            "linecolor": "white",
            "ticks": ""
           }
          },
          "scene": {
           "xaxis": {
            "backgroundcolor": "#E5ECF6",
            "gridcolor": "white",
            "gridwidth": 2,
            "linecolor": "white",
            "showbackground": true,
            "ticks": "",
            "zerolinecolor": "white"
           },
           "yaxis": {
            "backgroundcolor": "#E5ECF6",
            "gridcolor": "white",
            "gridwidth": 2,
            "linecolor": "white",
            "showbackground": true,
            "ticks": "",
            "zerolinecolor": "white"
           },
           "zaxis": {
            "backgroundcolor": "#E5ECF6",
            "gridcolor": "white",
            "gridwidth": 2,
            "linecolor": "white",
            "showbackground": true,
            "ticks": "",
            "zerolinecolor": "white"
           }
          },
          "shapedefaults": {
           "line": {
            "color": "#2a3f5f"
           }
          },
          "ternary": {
           "aaxis": {
            "gridcolor": "white",
            "linecolor": "white",
            "ticks": ""
           },
           "baxis": {
            "gridcolor": "white",
            "linecolor": "white",
            "ticks": ""
           },
           "bgcolor": "#E5ECF6",
           "caxis": {
            "gridcolor": "white",
            "linecolor": "white",
            "ticks": ""
           }
          },
          "title": {
           "x": 0.05
          },
          "xaxis": {
           "automargin": true,
           "gridcolor": "white",
           "linecolor": "white",
           "ticks": "",
           "title": {
            "standoff": 15
           },
           "zerolinecolor": "white",
           "zerolinewidth": 2
          },
          "yaxis": {
           "automargin": true,
           "gridcolor": "white",
           "linecolor": "white",
           "ticks": "",
           "title": {
            "standoff": 15
           },
           "zerolinecolor": "white",
           "zerolinewidth": 2
          }
         }
        },
        "title": {
         "text": "PINN Training Losses"
        },
        "width": 900,
        "xaxis": {
         "anchor": "y",
         "domain": [
          0,
          0.45
         ],
         "title": {
          "text": "Iterations"
         }
        },
        "xaxis2": {
         "anchor": "y2",
         "domain": [
          0.55,
          1
         ],
         "title": {
          "text": "Iterations"
         }
        },
        "xaxis3": {
         "anchor": "y3",
         "domain": [
          0,
          0.45
         ],
         "title": {
          "text": "Iterations"
         }
        },
        "xaxis4": {
         "anchor": "y4",
         "domain": [
          0.55,
          1
         ],
         "title": {
          "text": "Iterations"
         }
        },
        "xaxis5": {
         "anchor": "y5",
         "domain": [
          0,
          1
         ],
         "title": {
          "text": "Iterations"
         }
        },
        "yaxis": {
         "anchor": "x",
         "domain": [
          0.7333333333333334,
          1
         ]
        },
        "yaxis2": {
         "anchor": "x2",
         "domain": [
          0.7333333333333334,
          1
         ]
        },
        "yaxis3": {
         "anchor": "x3",
         "domain": [
          0.3666666666666667,
          0.6333333333333333
         ]
        },
        "yaxis4": {
         "anchor": "x4",
         "domain": [
          0.3666666666666667,
          0.6333333333333333
         ]
        },
        "yaxis5": {
         "anchor": "x5",
         "domain": [
          0,
          0.26666666666666666
         ]
        }
       }
      }
     },
     "metadata": {},
     "output_type": "display_data"
    }
   ],
   "source": [
    "loss_history = pd.DataFrame(trainer.pre_train_loss_history)\n",
    "\n",
    "# Create a subplot figure with 2x2 grid for individual losses, and a third row spanning the entire width for total loss\n",
    "fig = make_subplots(\n",
    "    rows=3, cols=2,\n",
    "    subplot_titles=(\"PDE Loss\", \"Zero Maturity Loss\", \"Zero Strike Loss\", \"Infinity Strike Loss\", \"Total Loss\"),\n",
    "    specs=[[{'type': 'scatter'}, {'type': 'scatter'}],\n",
    "           [{'type': 'scatter'}, {'type': 'scatter'}],\n",
    "           [{'colspan': 2, 'type': 'scatter'}, None]],\n",
    "    vertical_spacing=0.1,\n",
    "    horizontal_spacing=0.1\n",
    ")\n",
    "\n",
    "# Add traces for individual losses\n",
    "fig.add_trace(go.Scatter(x=loss_history.index, y=loss_history[\"PDE Loss\"], mode=\"lines\", name=\"PDE Loss\"), row=1, col=1)\n",
    "fig.add_trace(go.Scatter(x=loss_history.index, y=loss_history[\"Zero Maturity Loss\"], mode=\"lines\", name=\"Zero Maturity Loss\"), row=1, col=2)\n",
    "fig.add_trace(go.Scatter(x=loss_history.index, y=loss_history[\"Zero Strike Loss\"], mode=\"lines\", name=\"Zero Strike Loss\"), row=2, col=1)\n",
    "fig.add_trace(go.Scatter(x=loss_history.index, y=loss_history[\"Infinity Strike Loss\"], mode=\"lines\", name=\"Infinity Strike Loss\"), row=2, col=2)\n",
    "\n",
    "# Add a trace for the total loss spanning the entire third row\n",
    "fig.add_trace(go.Scatter(x=loss_history.index, y=loss_history[\"Total Loss\"], mode=\"lines\", name=\"Total Loss\"), row=3, col=1)\n",
    "\n",
    "# Update the layout to include 'Iterations' as the x-axis name for each subplot\n",
    "fig.update_xaxes(title_text=\"Iterations\", row=1, col=1)\n",
    "fig.update_xaxes(title_text=\"Iterations\", row=1, col=2)\n",
    "fig.update_xaxes(title_text=\"Iterations\", row=2, col=1)\n",
    "fig.update_xaxes(title_text=\"Iterations\", row=2, col=2)\n",
    "fig.update_xaxes(title_text=\"Iterations\", row=3, col=1)  # The third row spans two columns\n",
    "\n",
    "# Update the layout\n",
    "fig.update_layout(height=900, width=900, title_text=\"PINN Training Losses\", showlegend=False)\n",
    "\n",
    "# Show the plot\n",
    "fig.show()"
   ]
  }
 ],
 "metadata": {
  "kernelspec": {
   "display_name": "Apache",
   "language": "python",
   "name": "python3"
  },
  "language_info": {
   "codemirror_mode": {
    "name": "ipython",
    "version": 3
   },
   "file_extension": ".py",
   "mimetype": "text/x-python",
   "name": "python",
   "nbconvert_exporter": "python",
   "pygments_lexer": "ipython3",
   "version": "3.10.13"
  }
 },
 "nbformat": 4,
 "nbformat_minor": 2
}
