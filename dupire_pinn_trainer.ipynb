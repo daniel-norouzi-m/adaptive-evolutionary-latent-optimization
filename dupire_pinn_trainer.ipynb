{
 "cells": [
  {
   "cell_type": "code",
   "execution_count": 1,
   "metadata": {},
   "outputs": [],
   "source": [
    "%load_ext autoreload\n",
    "%autoreload 2\n",
    "\n",
    "# Import necessary modules \n",
    "import numpy as np\n",
    "import pandas as pd\n",
    "from itertools import product\n",
    "import plotly.graph_objs as go\n",
    "import plotly.express as px\n",
    "from numpy.linalg import eigvalsh\n",
    "from plotly.subplots import make_subplots\n",
    "import torch\n",
    "import itertools\n",
    "import concurrent.futures\n",
    "from tqdm import tqdm\n",
    "\n",
    "from rbf_volatility_surface import RBFVolatilitySurface\n",
    "from smoothness_prior import RBFQuadraticSmoothnessPrior\n",
    "from dataset_sabr import generate_sabr_call_options\n",
    "from dupire_pinn_trainer import DupirePINNTrainer"
   ]
  },
  {
   "cell_type": "code",
   "execution_count": 2,
   "metadata": {},
   "outputs": [],
   "source": [
    "# Define the strike price list and maturity time list\n",
    "strike_price_list = np.array([0.75, 0.85, 0.9, 0.95, 1.0, 1.05, 1.1, 1.2, 1.3, 1.5])\n",
    "maturity_time_list = np.array([0.02, 0.08, 0.17, 0.25, 0.5, 0.75, 1.0, 1.5, 2.0, 3.0])\n",
    "\n",
    "# Create the product grid of maturity times and strike prices\n",
    "product_grid = list(product(maturity_time_list, strike_price_list))\n",
    "maturity_times, strike_prices = zip(*product_grid)\n",
    "\n",
    "# Convert to arrays for further operations\n",
    "maturity_times = np.array(maturity_times)\n",
    "strike_prices = np.array(strike_prices)\n",
    "\n",
    "# Variance formula for log-uniform distribution\n",
    "def log_uniform_variance(a, b):\n",
    "    log_term = np.log(b / a)\n",
    "    var = ((b ** 2 - a ** 2) / (2 * log_term)) - ((b - a) / log_term) ** 2\n",
    "    return var\n",
    "\n",
    "# Calculate standard deviations for maturity times and strike prices\n",
    "maturity_std = np.sqrt(log_uniform_variance(maturity_time_list.min(), maturity_time_list.max()))\n",
    "strike_std = np.sqrt(log_uniform_variance(strike_price_list.min(), strike_price_list.max()))\n",
    "\n",
    "# Define the SABR model parameters\n",
    "alpha = 0.20  # Stochastic volatility parameter\n",
    "beta = 0.50   # Elasticity parameter\n",
    "rho = -0.75   # Correlation between asset price and volatility\n",
    "nu = 1.0      # Volatility of volatility parameter\n",
    "\n",
    "# Other model parameters\n",
    "risk_free_rate = np.log(1.02)  # Risk-free interest rate\n",
    "underlying_price = 1.0         # Current price of the underlying asset\n",
    "\n",
    "# Generate the dataset using the SABR model and Black-Scholes formula\n",
    "call_option_dataset = generate_sabr_call_options(\n",
    "    alpha=alpha,\n",
    "    beta=beta,\n",
    "    rho=rho,\n",
    "    nu=nu,\n",
    "    maturity_times=maturity_times,\n",
    "    strike_prices=strike_prices,\n",
    "    risk_free_rate=risk_free_rate,\n",
    "    underlying_price=underlying_price\n",
    ")\n",
    "\n",
    "# Maturity times and strike prices from the previous product grid setup\n",
    "hypothetical_maturity_time_list = np.logspace(np.log10(0.01), np.log10(3.1), 100)\n",
    "hypothetical_strike_price_list = np.logspace(np.log10(0.7), np.log10(1.75), 100)\n",
    "\n",
    "# Create the product grid of maturity times and strike prices\n",
    "hypothetical_product_grid = list(product(hypothetical_maturity_time_list, hypothetical_strike_price_list))\n",
    "hypothetical_maturity_times, hypothetical_strike_prices = zip(*hypothetical_product_grid)\n",
    "hypothetical_maturity_times, hypothetical_strike_prices = np.array(hypothetical_maturity_times), np.array(hypothetical_strike_prices)\n",
    "\n",
    "# Reshape the data for 3D surface plotting\n",
    "hypothetical_maturities_grid = hypothetical_maturity_times.reshape((len(hypothetical_maturity_time_list), len(hypothetical_strike_price_list)))  \n",
    "hypothetical_strikes_grid = hypothetical_strike_prices.reshape((len(hypothetical_maturity_time_list), len(hypothetical_strike_price_list)))"
   ]
  },
  {
   "cell_type": "code",
   "execution_count": 3,
   "metadata": {},
   "outputs": [],
   "source": [
    "n_roots = 350\n",
    "# n_roots = 10\n",
    "smoothness_controller = 3.274549162877732e-05\n",
    "\n",
    "# Initialize the RBFQuadraticSmoothnessPrior class\n",
    "smoothness_prior = RBFQuadraticSmoothnessPrior(\n",
    "    maturity_times=maturity_times,\n",
    "    strike_prices=strike_prices,\n",
    "    maturity_std=maturity_std,\n",
    "    strike_std=strike_std,\n",
    "    n_roots=n_roots,\n",
    "    smoothness_controller=smoothness_controller,\n",
    "    random_state=0,\n",
    ")\n",
    "\n",
    "# The constant_volatility is set to a reasonable value\n",
    "constant_volatility = RBFVolatilitySurface.calculate_constant_volatility(\n",
    "    call_option_dataset[\"Implied Volatility\"],\n",
    "    call_option_dataset[\"Time to Maturity\"],\n",
    "    call_option_dataset[\"Strike Price\"],\n",
    "    risk_free_rate,\n",
    "    underlying_price\n",
    ")\n",
    "\n",
    "sampled_surface_coefficients = smoothness_prior.sample_smooth_surfaces(1000)"
   ]
  },
  {
   "cell_type": "code",
   "execution_count": 4,
   "metadata": {},
   "outputs": [],
   "source": [
    "# Loop through the sampled coefficients \n",
    "sampled_volatilities = []\n",
    "for coefficients in sampled_surface_coefficients:\n",
    "    \n",
    "    # Initialize the RBFVolatilitySurface class for each set of coefficients\n",
    "    rbf_surface = RBFVolatilitySurface(\n",
    "        coefficients=coefficients,\n",
    "        maturity_times=maturity_times,\n",
    "        strike_prices=strike_prices,\n",
    "        maturity_std=maturity_std,\n",
    "        strike_std=strike_std,\n",
    "        constant_volatility=constant_volatility\n",
    "    )\n",
    "\n",
    "    # Generate the volatility surface over the product grid of times and strikes\n",
    "    surface_volatilities = [\n",
    "        rbf_surface.implied_volatility_surface(T, K)\n",
    "        for T, K in product_grid\n",
    "    ]\n",
    "    sampled_volatilities.extend(surface_volatilities)"
   ]
  },
  {
   "cell_type": "code",
   "execution_count": 5,
   "metadata": {},
   "outputs": [
    {
     "data": {
      "text/plain": [
       "device(type='cuda')"
      ]
     },
     "execution_count": 5,
     "metadata": {},
     "output_type": "execute_result"
    }
   ],
   "source": [
    "torch.device('cuda' if torch.cuda.is_available() else 'cpu')"
   ]
  },
  {
   "cell_type": "code",
   "execution_count": null,
   "metadata": {},
   "outputs": [],
   "source": [
    "batch_size = 1000\n",
    "pde_loss_coefficient = 1.0\n",
    "maturity_zero_loss_coefficient = 1.0\n",
    "strike_zero_loss_coefficient = 0.1\n",
    "strike_infinity_loss_coefficient = 1.0\n",
    "pre_train_learning_rate = 1e-3\n",
    "fine_tune_learning_rate = 1e-4\n",
    "pre_train_epochs = 50\n",
    "fine_tune_epochs = 20\n",
    "maturity_min = maturity_time_list.min()\n",
    "maturity_max = maturity_time_list.max()\n",
    "strike_min = strike_price_list.min()\n",
    "strike_max = strike_price_list.max()\n",
    "volatility_mean = np.mean(sampled_volatilities)\n",
    "volatility_std = np.std(sampled_volatilities)\n",
    "strike_infinity = 2.5\n",
    "device = 'cpu'\n",
    "\n",
    "# Define the hyperparameter grid\n",
    "hidden_dim_grid = [64, 128, 256]  # Example grid for hidden_dim\n",
    "n_layers_grid = [2, 4, 8]         # Example grid for n_layers\n",
    "pre_train_learning_rate_grid = [1e-4, 1e-3, 1e-2]  # Example grid for learning rate\n",
    "\n",
    "# Initialize an empty DataFrame to store the results\n",
    "results_df = pd.DataFrame()\n",
    "\n",
    "# Define the grid search\n",
    "grid = itertools.product(hidden_dim_grid, n_layers_grid, pre_train_learning_rate_grid)\n",
    "\n",
    "for hidden_dim, n_layers, pre_train_learning_rate in tqdm(grid):\n",
    "    # Initialize the DupirePINNTrainer class\n",
    "    trainer = DupirePINNTrainer(\n",
    "        hidden_dim=hidden_dim,\n",
    "        n_layers=n_layers,\n",
    "        batch_size=batch_size,\n",
    "        pde_loss_coefficient=pde_loss_coefficient,\n",
    "        maturity_zero_loss_coefficient=maturity_zero_loss_coefficient,\n",
    "        strike_zero_loss_coefficient=strike_zero_loss_coefficient,\n",
    "        strike_infinity_loss_coefficient=strike_infinity_loss_coefficient,\n",
    "        pre_train_learning_rate=pre_train_learning_rate,\n",
    "        fine_tune_learning_rate=fine_tune_learning_rate,\n",
    "        pre_train_epochs=pre_train_epochs,\n",
    "        fine_tune_epochs=fine_tune_epochs,\n",
    "        maturity_min=maturity_min,\n",
    "        maturity_max=maturity_max,\n",
    "        strike_min=strike_min,\n",
    "        strike_max=strike_max,\n",
    "        volatility_mean=volatility_mean,\n",
    "        volatility_std=volatility_std,\n",
    "        maturity_time_list=maturity_time_list,\n",
    "        strike_price_list=strike_price_list,\n",
    "        strike_std=strike_std,\n",
    "        maturity_std=maturity_std,\n",
    "        constant_volatility=constant_volatility,\n",
    "        strike_infinity=strike_infinity,\n",
    "        device=device\n",
    "    )\n",
    "\n",
    "    # Train the model using pre_train\n",
    "    trainer.pre_train_with_sampling(\n",
    "        smoothness_prior=smoothness_prior,\n",
    "        experiment_name=f\"test_hd_{hidden_dim}_nl_{n_layers}_lr_{pre_train_learning_rate}\"\n",
    "    )\n",
    "\n",
    "    # Retrieve the last row of the loss history (assuming it's stored in trainer.pre_train_loss_history)\n",
    "    loss_df = pd.DataFrame(trainer.pre_train_loss_history)\n",
    "    last_row = loss_df.iloc[-1].copy()\n",
    "\n",
    "    # Add the configuration as columns in the last row\n",
    "    last_row['hidden_dim'] = hidden_dim\n",
    "    last_row['n_layers'] = n_layers\n",
    "    last_row['pre_train_learning_rate'] = pre_train_learning_rate\n",
    "\n",
    "    results_df = pd.concat([results_df, pd.DataFrame([last_row])], ignore_index=True)"
   ]
  },
  {
   "cell_type": "code",
   "execution_count": 7,
   "metadata": {},
   "outputs": [
    {
     "data": {
      "text/html": [
       "<div>\n",
       "<style scoped>\n",
       "    .dataframe tbody tr th:only-of-type {\n",
       "        vertical-align: middle;\n",
       "    }\n",
       "\n",
       "    .dataframe tbody tr th {\n",
       "        vertical-align: top;\n",
       "    }\n",
       "\n",
       "    .dataframe thead th {\n",
       "        text-align: right;\n",
       "    }\n",
       "</style>\n",
       "<table border=\"1\" class=\"dataframe\">\n",
       "  <thead>\n",
       "    <tr style=\"text-align: right;\">\n",
       "      <th></th>\n",
       "      <th>PDE Loss</th>\n",
       "      <th>Zero Maturity Loss</th>\n",
       "      <th>Zero Strike Loss</th>\n",
       "      <th>Infinity Strike Loss</th>\n",
       "      <th>Total Loss</th>\n",
       "      <th>hidden_dim</th>\n",
       "      <th>n_layers</th>\n",
       "      <th>pre_train_learning_rate</th>\n",
       "      <th>average_rank</th>\n",
       "    </tr>\n",
       "  </thead>\n",
       "  <tbody>\n",
       "    <tr>\n",
       "      <th>7</th>\n",
       "      <td>0.000080</td>\n",
       "      <td>0.000115</td>\n",
       "      <td>0.000019</td>\n",
       "      <td>0.000012</td>\n",
       "      <td>0.000208</td>\n",
       "      <td>64.0</td>\n",
       "      <td>8.0</td>\n",
       "      <td>0.0010</td>\n",
       "      <td>3.50</td>\n",
       "    </tr>\n",
       "    <tr>\n",
       "      <th>24</th>\n",
       "      <td>0.000101</td>\n",
       "      <td>0.000124</td>\n",
       "      <td>0.000666</td>\n",
       "      <td>0.000024</td>\n",
       "      <td>0.000315</td>\n",
       "      <td>256.0</td>\n",
       "      <td>8.0</td>\n",
       "      <td>0.0001</td>\n",
       "      <td>6.00</td>\n",
       "    </tr>\n",
       "    <tr>\n",
       "      <th>22</th>\n",
       "      <td>0.000287</td>\n",
       "      <td>0.000109</td>\n",
       "      <td>0.000913</td>\n",
       "      <td>0.000017</td>\n",
       "      <td>0.000504</td>\n",
       "      <td>256.0</td>\n",
       "      <td>4.0</td>\n",
       "      <td>0.0010</td>\n",
       "      <td>7.00</td>\n",
       "    </tr>\n",
       "    <tr>\n",
       "      <th>4</th>\n",
       "      <td>0.000406</td>\n",
       "      <td>0.000109</td>\n",
       "      <td>0.001319</td>\n",
       "      <td>0.000015</td>\n",
       "      <td>0.000662</td>\n",
       "      <td>64.0</td>\n",
       "      <td>4.0</td>\n",
       "      <td>0.0010</td>\n",
       "      <td>8.25</td>\n",
       "    </tr>\n",
       "    <tr>\n",
       "      <th>8</th>\n",
       "      <td>0.000059</td>\n",
       "      <td>0.000246</td>\n",
       "      <td>0.000436</td>\n",
       "      <td>0.000257</td>\n",
       "      <td>0.000605</td>\n",
       "      <td>64.0</td>\n",
       "      <td>8.0</td>\n",
       "      <td>0.0100</td>\n",
       "      <td>9.25</td>\n",
       "    </tr>\n",
       "    <tr>\n",
       "      <th>13</th>\n",
       "      <td>0.000309</td>\n",
       "      <td>0.000146</td>\n",
       "      <td>0.001173</td>\n",
       "      <td>0.000038</td>\n",
       "      <td>0.000611</td>\n",
       "      <td>128.0</td>\n",
       "      <td>4.0</td>\n",
       "      <td>0.0010</td>\n",
       "      <td>9.75</td>\n",
       "    </tr>\n",
       "    <tr>\n",
       "      <th>16</th>\n",
       "      <td>0.000542</td>\n",
       "      <td>0.000077</td>\n",
       "      <td>0.000537</td>\n",
       "      <td>0.000086</td>\n",
       "      <td>0.000759</td>\n",
       "      <td>128.0</td>\n",
       "      <td>8.0</td>\n",
       "      <td>0.0010</td>\n",
       "      <td>10.25</td>\n",
       "    </tr>\n",
       "    <tr>\n",
       "      <th>2</th>\n",
       "      <td>0.000027</td>\n",
       "      <td>0.000965</td>\n",
       "      <td>0.014407</td>\n",
       "      <td>0.000021</td>\n",
       "      <td>0.002454</td>\n",
       "      <td>64.0</td>\n",
       "      <td>2.0</td>\n",
       "      <td>0.0100</td>\n",
       "      <td>10.50</td>\n",
       "    </tr>\n",
       "    <tr>\n",
       "      <th>15</th>\n",
       "      <td>0.000108</td>\n",
       "      <td>0.000328</td>\n",
       "      <td>0.007691</td>\n",
       "      <td>0.000033</td>\n",
       "      <td>0.001237</td>\n",
       "      <td>128.0</td>\n",
       "      <td>8.0</td>\n",
       "      <td>0.0001</td>\n",
       "      <td>10.50</td>\n",
       "    </tr>\n",
       "    <tr>\n",
       "      <th>25</th>\n",
       "      <td>0.000506</td>\n",
       "      <td>0.000156</td>\n",
       "      <td>0.004535</td>\n",
       "      <td>0.000039</td>\n",
       "      <td>0.001156</td>\n",
       "      <td>256.0</td>\n",
       "      <td>8.0</td>\n",
       "      <td>0.0010</td>\n",
       "      <td>12.25</td>\n",
       "    </tr>\n",
       "    <tr>\n",
       "      <th>10</th>\n",
       "      <td>0.000094</td>\n",
       "      <td>0.000533</td>\n",
       "      <td>0.011270</td>\n",
       "      <td>0.000121</td>\n",
       "      <td>0.001876</td>\n",
       "      <td>128.0</td>\n",
       "      <td>2.0</td>\n",
       "      <td>0.0010</td>\n",
       "      <td>12.50</td>\n",
       "    </tr>\n",
       "    <tr>\n",
       "      <th>12</th>\n",
       "      <td>0.000106</td>\n",
       "      <td>0.000480</td>\n",
       "      <td>0.012872</td>\n",
       "      <td>0.000060</td>\n",
       "      <td>0.001933</td>\n",
       "      <td>128.0</td>\n",
       "      <td>4.0</td>\n",
       "      <td>0.0001</td>\n",
       "      <td>12.50</td>\n",
       "    </tr>\n",
       "    <tr>\n",
       "      <th>21</th>\n",
       "      <td>0.000125</td>\n",
       "      <td>0.000526</td>\n",
       "      <td>0.012318</td>\n",
       "      <td>0.000034</td>\n",
       "      <td>0.001918</td>\n",
       "      <td>256.0</td>\n",
       "      <td>4.0</td>\n",
       "      <td>0.0001</td>\n",
       "      <td>12.75</td>\n",
       "    </tr>\n",
       "    <tr>\n",
       "      <th>5</th>\n",
       "      <td>0.000371</td>\n",
       "      <td>0.000306</td>\n",
       "      <td>0.004382</td>\n",
       "      <td>0.000189</td>\n",
       "      <td>0.001303</td>\n",
       "      <td>64.0</td>\n",
       "      <td>4.0</td>\n",
       "      <td>0.0100</td>\n",
       "      <td>13.50</td>\n",
       "    </tr>\n",
       "    <tr>\n",
       "      <th>3</th>\n",
       "      <td>0.000116</td>\n",
       "      <td>0.000490</td>\n",
       "      <td>0.014227</td>\n",
       "      <td>0.000081</td>\n",
       "      <td>0.002109</td>\n",
       "      <td>64.0</td>\n",
       "      <td>4.0</td>\n",
       "      <td>0.0001</td>\n",
       "      <td>13.75</td>\n",
       "    </tr>\n",
       "    <tr>\n",
       "      <th>14</th>\n",
       "      <td>0.000463</td>\n",
       "      <td>0.000301</td>\n",
       "      <td>0.006961</td>\n",
       "      <td>0.000176</td>\n",
       "      <td>0.001636</td>\n",
       "      <td>128.0</td>\n",
       "      <td>4.0</td>\n",
       "      <td>0.0100</td>\n",
       "      <td>14.25</td>\n",
       "    </tr>\n",
       "    <tr>\n",
       "      <th>19</th>\n",
       "      <td>0.000072</td>\n",
       "      <td>0.000757</td>\n",
       "      <td>0.017241</td>\n",
       "      <td>0.000224</td>\n",
       "      <td>0.002778</td>\n",
       "      <td>256.0</td>\n",
       "      <td>2.0</td>\n",
       "      <td>0.0010</td>\n",
       "      <td>15.25</td>\n",
       "    </tr>\n",
       "    <tr>\n",
       "      <th>1</th>\n",
       "      <td>0.000105</td>\n",
       "      <td>0.000767</td>\n",
       "      <td>0.029988</td>\n",
       "      <td>0.000198</td>\n",
       "      <td>0.004069</td>\n",
       "      <td>64.0</td>\n",
       "      <td>2.0</td>\n",
       "      <td>0.0010</td>\n",
       "      <td>17.00</td>\n",
       "    </tr>\n",
       "    <tr>\n",
       "      <th>0</th>\n",
       "      <td>0.000043</td>\n",
       "      <td>0.001269</td>\n",
       "      <td>0.034301</td>\n",
       "      <td>0.000223</td>\n",
       "      <td>0.004965</td>\n",
       "      <td>64.0</td>\n",
       "      <td>2.0</td>\n",
       "      <td>0.0001</td>\n",
       "      <td>17.25</td>\n",
       "    </tr>\n",
       "    <tr>\n",
       "      <th>6</th>\n",
       "      <td>0.000219</td>\n",
       "      <td>0.000828</td>\n",
       "      <td>0.011070</td>\n",
       "      <td>0.000274</td>\n",
       "      <td>0.002428</td>\n",
       "      <td>64.0</td>\n",
       "      <td>8.0</td>\n",
       "      <td>0.0001</td>\n",
       "      <td>17.50</td>\n",
       "    </tr>\n",
       "    <tr>\n",
       "      <th>20</th>\n",
       "      <td>0.000104</td>\n",
       "      <td>0.001209</td>\n",
       "      <td>0.031290</td>\n",
       "      <td>0.000137</td>\n",
       "      <td>0.004578</td>\n",
       "      <td>256.0</td>\n",
       "      <td>2.0</td>\n",
       "      <td>0.0100</td>\n",
       "      <td>17.75</td>\n",
       "    </tr>\n",
       "    <tr>\n",
       "      <th>11</th>\n",
       "      <td>0.000044</td>\n",
       "      <td>0.000815</td>\n",
       "      <td>0.035212</td>\n",
       "      <td>0.000473</td>\n",
       "      <td>0.004853</td>\n",
       "      <td>128.0</td>\n",
       "      <td>2.0</td>\n",
       "      <td>0.0100</td>\n",
       "      <td>18.00</td>\n",
       "    </tr>\n",
       "    <tr>\n",
       "      <th>9</th>\n",
       "      <td>0.000051</td>\n",
       "      <td>0.001061</td>\n",
       "      <td>0.044296</td>\n",
       "      <td>0.000226</td>\n",
       "      <td>0.005767</td>\n",
       "      <td>128.0</td>\n",
       "      <td>2.0</td>\n",
       "      <td>0.0001</td>\n",
       "      <td>18.00</td>\n",
       "    </tr>\n",
       "    <tr>\n",
       "      <th>18</th>\n",
       "      <td>0.000055</td>\n",
       "      <td>0.001170</td>\n",
       "      <td>0.032868</td>\n",
       "      <td>0.000286</td>\n",
       "      <td>0.004798</td>\n",
       "      <td>256.0</td>\n",
       "      <td>2.0</td>\n",
       "      <td>0.0001</td>\n",
       "      <td>18.50</td>\n",
       "    </tr>\n",
       "    <tr>\n",
       "      <th>23</th>\n",
       "      <td>0.000412</td>\n",
       "      <td>0.001825</td>\n",
       "      <td>0.018559</td>\n",
       "      <td>0.000324</td>\n",
       "      <td>0.004417</td>\n",
       "      <td>256.0</td>\n",
       "      <td>4.0</td>\n",
       "      <td>0.0100</td>\n",
       "      <td>22.75</td>\n",
       "    </tr>\n",
       "    <tr>\n",
       "      <th>17</th>\n",
       "      <td>0.000598</td>\n",
       "      <td>0.002266</td>\n",
       "      <td>0.018726</td>\n",
       "      <td>0.000759</td>\n",
       "      <td>0.005496</td>\n",
       "      <td>128.0</td>\n",
       "      <td>8.0</td>\n",
       "      <td>0.0100</td>\n",
       "      <td>24.75</td>\n",
       "    </tr>\n",
       "    <tr>\n",
       "      <th>26</th>\n",
       "      <td>0.000818</td>\n",
       "      <td>0.014456</td>\n",
       "      <td>0.014704</td>\n",
       "      <td>0.026714</td>\n",
       "      <td>0.043458</td>\n",
       "      <td>256.0</td>\n",
       "      <td>8.0</td>\n",
       "      <td>0.0100</td>\n",
       "      <td>24.75</td>\n",
       "    </tr>\n",
       "  </tbody>\n",
       "</table>\n",
       "</div>"
      ],
      "text/plain": [
       "    PDE Loss  Zero Maturity Loss  Zero Strike Loss  Infinity Strike Loss  \\\n",
       "7   0.000080            0.000115          0.000019              0.000012   \n",
       "24  0.000101            0.000124          0.000666              0.000024   \n",
       "22  0.000287            0.000109          0.000913              0.000017   \n",
       "4   0.000406            0.000109          0.001319              0.000015   \n",
       "8   0.000059            0.000246          0.000436              0.000257   \n",
       "13  0.000309            0.000146          0.001173              0.000038   \n",
       "16  0.000542            0.000077          0.000537              0.000086   \n",
       "2   0.000027            0.000965          0.014407              0.000021   \n",
       "15  0.000108            0.000328          0.007691              0.000033   \n",
       "25  0.000506            0.000156          0.004535              0.000039   \n",
       "10  0.000094            0.000533          0.011270              0.000121   \n",
       "12  0.000106            0.000480          0.012872              0.000060   \n",
       "21  0.000125            0.000526          0.012318              0.000034   \n",
       "5   0.000371            0.000306          0.004382              0.000189   \n",
       "3   0.000116            0.000490          0.014227              0.000081   \n",
       "14  0.000463            0.000301          0.006961              0.000176   \n",
       "19  0.000072            0.000757          0.017241              0.000224   \n",
       "1   0.000105            0.000767          0.029988              0.000198   \n",
       "0   0.000043            0.001269          0.034301              0.000223   \n",
       "6   0.000219            0.000828          0.011070              0.000274   \n",
       "20  0.000104            0.001209          0.031290              0.000137   \n",
       "11  0.000044            0.000815          0.035212              0.000473   \n",
       "9   0.000051            0.001061          0.044296              0.000226   \n",
       "18  0.000055            0.001170          0.032868              0.000286   \n",
       "23  0.000412            0.001825          0.018559              0.000324   \n",
       "17  0.000598            0.002266          0.018726              0.000759   \n",
       "26  0.000818            0.014456          0.014704              0.026714   \n",
       "\n",
       "    Total Loss  hidden_dim  n_layers  pre_train_learning_rate  average_rank  \n",
       "7     0.000208        64.0       8.0                   0.0010          3.50  \n",
       "24    0.000315       256.0       8.0                   0.0001          6.00  \n",
       "22    0.000504       256.0       4.0                   0.0010          7.00  \n",
       "4     0.000662        64.0       4.0                   0.0010          8.25  \n",
       "8     0.000605        64.0       8.0                   0.0100          9.25  \n",
       "13    0.000611       128.0       4.0                   0.0010          9.75  \n",
       "16    0.000759       128.0       8.0                   0.0010         10.25  \n",
       "2     0.002454        64.0       2.0                   0.0100         10.50  \n",
       "15    0.001237       128.0       8.0                   0.0001         10.50  \n",
       "25    0.001156       256.0       8.0                   0.0010         12.25  \n",
       "10    0.001876       128.0       2.0                   0.0010         12.50  \n",
       "12    0.001933       128.0       4.0                   0.0001         12.50  \n",
       "21    0.001918       256.0       4.0                   0.0001         12.75  \n",
       "5     0.001303        64.0       4.0                   0.0100         13.50  \n",
       "3     0.002109        64.0       4.0                   0.0001         13.75  \n",
       "14    0.001636       128.0       4.0                   0.0100         14.25  \n",
       "19    0.002778       256.0       2.0                   0.0010         15.25  \n",
       "1     0.004069        64.0       2.0                   0.0010         17.00  \n",
       "0     0.004965        64.0       2.0                   0.0001         17.25  \n",
       "6     0.002428        64.0       8.0                   0.0001         17.50  \n",
       "20    0.004578       256.0       2.0                   0.0100         17.75  \n",
       "11    0.004853       128.0       2.0                   0.0100         18.00  \n",
       "9     0.005767       128.0       2.0                   0.0001         18.00  \n",
       "18    0.004798       256.0       2.0                   0.0001         18.50  \n",
       "23    0.004417       256.0       4.0                   0.0100         22.75  \n",
       "17    0.005496       128.0       8.0                   0.0100         24.75  \n",
       "26    0.043458       256.0       8.0                   0.0100         24.75  "
      ]
     },
     "execution_count": 7,
     "metadata": {},
     "output_type": "execute_result"
    }
   ],
   "source": [
    "# Rank the losses for each column (except 'Total Loss')\n",
    "ranked_losses = results_df.drop(columns=['Total Loss', 'hidden_dim', 'n_layers', 'pre_train_learning_rate']).rank()\n",
    "\n",
    "ranked_df = results_df.copy()\n",
    "\n",
    "# Compute the average rank for each configuration\n",
    "ranked_df['average_rank'] = ranked_losses.mean(axis=1)\n",
    "\n",
    "# Sort by the average rank (lower is better)\n",
    "ranked_df = ranked_df.sort_values('average_rank')\n",
    "\n",
    "# Print the top-ranked configurations\n",
    "ranked_df"
   ]
  },
  {
   "cell_type": "code",
   "execution_count": 8,
   "metadata": {},
   "outputs": [
    {
     "name": "stdout",
     "output_type": "stream",
     "text": [
      "Epoch 1/3, Losses: {'PDE Loss': 0.003898214642491932, 'Zero Maturity Loss': 0.0004984121769666672, 'Zero Strike Loss': 0.07279820740222931, 'Infinity Strike Loss': 0.0005888454616069794, 'Total Loss': 0.07778367968329489}\n",
      "Epoch 2/3, Losses: {'PDE Loss': 0.0002955755013517273, 'Zero Maturity Loss': 0.0006269236910156906, 'Zero Strike Loss': 0.019236862659454346, 'Infinity Strike Loss': 0.010809573344886303, 'Total Loss': 0.030968935196708066}\n",
      "Epoch 3/3, Losses: {'PDE Loss': 0.0021988575827983597, 'Zero Maturity Loss': 0.003182498272508383, 'Zero Strike Loss': 0.0032343114726245403, 'Infinity Strike Loss': 0.004851603880524635, 'Total Loss': 0.013467271208455919}\n",
      "Epoch 1/3, Losses: {'PDE Loss': 7.079960500325652e-05, 'Zero Maturity Loss': 0.0010272255167365074, 'Zero Strike Loss': 0.06163147836923599, 'Infinity Strike Loss': 0.004618259612470865, 'Total Loss': 0.06734776310344662}\n",
      "Epoch 2/3, Losses: {'PDE Loss': 0.0016759855938351196, 'Zero Maturity Loss': 0.0005082323332317173, 'Zero Strike Loss': 0.029682200402021408, 'Infinity Strike Loss': 0.0046818736009299755, 'Total Loss': 0.03654829193001822}\n",
      "Epoch 3/3, Losses: {'PDE Loss': 0.003675668023816033, 'Zero Maturity Loss': 0.002654935931786895, 'Zero Strike Loss': 0.01050388440489769, 'Infinity Strike Loss': 0.0038275765255093575, 'Total Loss': 0.020662064886009975}\n",
      "Epoch 1/3, Losses: {'PDE Loss': 0.005701969597027887, 'Zero Maturity Loss': 0.0018613715656101704, 'Zero Strike Loss': 0.07117795944213867, 'Infinity Strike Loss': 0.003918454051017761, 'Total Loss': 0.08265975465579449}\n",
      "Epoch 2/3, Losses: {'PDE Loss': 0.0006184353704439816, 'Zero Maturity Loss': 0.0008398219360969961, 'Zero Strike Loss': 0.019439099356532097, 'Infinity Strike Loss': 0.007618803530931473, 'Total Loss': 0.028516160194004547}\n",
      "Epoch 3/3, Losses: {'PDE Loss': 0.002003252683353855, 'Zero Maturity Loss': 0.0010014533763751388, 'Zero Strike Loss': 0.0025930453557521105, 'Infinity Strike Loss': 0.0017221979796886444, 'Total Loss': 0.0073199493951697486}\n",
      "Epoch 1/3, Losses: {'PDE Loss': 0.0019168843495200516, 'Zero Maturity Loss': 0.00133792485576123, 'Zero Strike Loss': 0.09117265790700912, 'Infinity Strike Loss': 0.0009185049566440284, 'Total Loss': 0.09534597206893443}\n",
      "Epoch 2/3, Losses: {'PDE Loss': 0.00020095152105188764, 'Zero Maturity Loss': 0.000569586583878845, 'Zero Strike Loss': 0.023059148341417313, 'Infinity Strike Loss': 0.010264917276799679, 'Total Loss': 0.03409460372314772}\n",
      "Epoch 3/3, Losses: {'PDE Loss': 0.0008315863852494819, 'Zero Maturity Loss': 0.0038024913519620895, 'Zero Strike Loss': 0.0019045221852138638, 'Infinity Strike Loss': 0.017957845702767372, 'Total Loss': 0.024496445625192806}\n",
      "Epoch 1/3, Losses: {'PDE Loss': 0.005416089814252548, 'Zero Maturity Loss': 0.0005226805224083364, 'Zero Strike Loss': 0.07891496270895004, 'Infinity Strike Loss': 0.00040424123289994895, 'Total Loss': 0.08525797427851088}\n",
      "Epoch 2/3, Losses: {'PDE Loss': 0.0004163465134980685, 'Zero Maturity Loss': 0.00082486926112324, 'Zero Strike Loss': 0.01870552822947502, 'Infinity Strike Loss': 0.018207190558314323, 'Total Loss': 0.03815393456241065}\n",
      "Epoch 3/3, Losses: {'PDE Loss': 0.0013834736974318316, 'Zero Maturity Loss': 0.0028040066827088594, 'Zero Strike Loss': 0.003722304245457053, 'Infinity Strike Loss': 0.01150943897664547, 'Total Loss': 0.019419223602243213}\n",
      "Epoch 1/3, Losses: {'PDE Loss': 0.0013936707487530022, 'Zero Maturity Loss': 0.0004391779366414994, 'Zero Strike Loss': 0.05424574390053749, 'Infinity Strike Loss': 0.002173324814066291, 'Total Loss': 0.058251917399998285}\n",
      "Epoch 2/3, Losses: {'PDE Loss': 0.0002312118416629048, 'Zero Maturity Loss': 0.0009599464247003198, 'Zero Strike Loss': 0.019997678697109222, 'Infinity Strike Loss': 0.00474579818546772, 'Total Loss': 0.025934635148940167}\n",
      "Epoch 3/3, Losses: {'PDE Loss': 0.0010644112988222407, 'Zero Maturity Loss': 0.005070617888122797, 'Zero Strike Loss': 0.004596229176968336, 'Infinity Strike Loss': 0.0019086498068645597, 'Total Loss': 0.012639908170777934}\n",
      "Epoch 1/3, Losses: {'PDE Loss': 0.0001168605077952679, 'Zero Maturity Loss': 0.0012575655709952116, 'Zero Strike Loss': 0.12360545247793198, 'Infinity Strike Loss': 0.001450499170459807, 'Total Loss': 0.12643037772718227}\n",
      "Epoch 2/3, Losses: {'PDE Loss': 0.00037504278120531194, 'Zero Maturity Loss': 0.0003294863272458315, 'Zero Strike Loss': 0.05253739282488823, 'Infinity Strike Loss': 0.004434141796082258, 'Total Loss': 0.057676063729421634}\n",
      "Epoch 3/3, Losses: {'PDE Loss': 0.0020457015968684275, 'Zero Maturity Loss': 0.0008133763330988586, 'Zero Strike Loss': 0.017353983595967293, 'Infinity Strike Loss': 0.012867128476500511, 'Total Loss': 0.03308019000243509}\n",
      "Epoch 1/3, Losses: {'PDE Loss': 0.0001249963534909744, 'Zero Maturity Loss': 0.0005562683218158782, 'Zero Strike Loss': 0.04822655767202377, 'Infinity Strike Loss': 0.00014644351904280484, 'Total Loss': 0.04905426586637343}\n",
      "Epoch 2/3, Losses: {'PDE Loss': 0.0014770821376242273, 'Zero Maturity Loss': 0.0011972273932769895, 'Zero Strike Loss': 0.00999029353260994, 'Infinity Strike Loss': 0.011615189723670483, 'Total Loss': 0.02427979278718164}\n",
      "Epoch 3/3, Losses: {'PDE Loss': 0.001161922566244042, 'Zero Maturity Loss': 0.0025226690340787172, 'Zero Strike Loss': 0.001371199730783701, 'Infinity Strike Loss': 0.005644190590828657, 'Total Loss': 0.010699981921935118}\n",
      "Epoch 1/3, Losses: {'PDE Loss': 3.3859142676365265e-05, 'Zero Maturity Loss': 0.0009471029625274241, 'Zero Strike Loss': 0.061648380011320114, 'Infinity Strike Loss': 0.0029788340907543898, 'Total Loss': 0.0656081762072783}\n",
      "Epoch 2/3, Losses: {'PDE Loss': 0.0017109394107210974, 'Zero Maturity Loss': 0.0007065468234941363, 'Zero Strike Loss': 0.0182199627161026, 'Infinity Strike Loss': 0.004826418589800596, 'Total Loss': 0.02546386754011843}\n",
      "Epoch 3/3, Losses: {'PDE Loss': 0.0037784573793688573, 'Zero Maturity Loss': 0.004420643672347069, 'Zero Strike Loss': 0.0015748849837109447, 'Infinity Strike Loss': 0.0035860713105648756, 'Total Loss': 0.013360057345991747}\n",
      "Epoch 1/3, Losses: {'PDE Loss': 5.104369285829517e-05, 'Zero Maturity Loss': 0.0008223155746236444, 'Zero Strike Loss': 0.0709751546382904, 'Infinity Strike Loss': 0.0003545427753124386, 'Total Loss': 0.07220305668108479}\n",
      "Epoch 2/3, Losses: {'PDE Loss': 6.620856068854284e-05, 'Zero Maturity Loss': 0.0009127408848144114, 'Zero Strike Loss': 0.01831960119307041, 'Infinity Strike Loss': 0.018426109105348587, 'Total Loss': 0.03772465974392195}\n",
      "Epoch 3/3, Losses: {'PDE Loss': 0.00015608674162227062, 'Zero Maturity Loss': 0.0031230126041918993, 'Zero Strike Loss': 0.003351604798808694, 'Infinity Strike Loss': 0.008520365692675114, 'Total Loss': 0.015151069837297977}\n",
      "Epoch 1/3, Losses: {'PDE Loss': 0.002773709248527357, 'Zero Maturity Loss': 0.0005466049769893289, 'Zero Strike Loss': 0.061881646513938904, 'Infinity Strike Loss': 0.00015131666441448033, 'Total Loss': 0.06535327740387006}\n",
      "Epoch 2/3, Losses: {'PDE Loss': 0.0005649383056143439, 'Zero Maturity Loss': 0.0008290580008178949, 'Zero Strike Loss': 0.018710581585764885, 'Infinity Strike Loss': 0.012427818961441517, 'Total Loss': 0.03253239685363864}\n",
      "Epoch 3/3, Losses: {'PDE Loss': 0.00238184781485486, 'Zero Maturity Loss': 0.0029114042408764362, 'Zero Strike Loss': 0.004810438025742769, 'Infinity Strike Loss': 0.004796138033270836, 'Total Loss': 0.014899828114744901}\n",
      "Epoch 1/3, Losses: {'PDE Loss': 0.0014833775773260072, 'Zero Maturity Loss': 0.00044738344149664044, 'Zero Strike Loss': 0.05385737121105194, 'Infinity Strike Loss': 1.5133955457713455e-05, 'Total Loss': 0.0558032661853323}\n",
      "Epoch 2/3, Losses: {'PDE Loss': 0.004796824639093842, 'Zero Maturity Loss': 0.0007315417751669884, 'Zero Strike Loss': 0.010164734907448292, 'Infinity Strike Loss': 0.009086490608751774, 'Total Loss': 0.024779591930460896}\n",
      "Epoch 3/3, Losses: {'PDE Loss': 0.004830525046806297, 'Zero Maturity Loss': 0.004481417126953602, 'Zero Strike Loss': 0.0008842560346238315, 'Infinity Strike Loss': 0.0021831572521477938, 'Total Loss': 0.012379355460531524}\n",
      "Epoch 1/3, Losses: {'PDE Loss': 0.00013076262869445317, 'Zero Maturity Loss': 0.0009672680171206594, 'Zero Strike Loss': 0.09127375483512878, 'Infinity Strike Loss': 4.360697130323388e-05, 'Total Loss': 0.09241539245224713}\n",
      "Epoch 2/3, Losses: {'PDE Loss': 0.0010614644122042187, 'Zero Maturity Loss': 0.0008960984414443374, 'Zero Strike Loss': 0.0414913147687912, 'Infinity Strike Loss': 0.006951771676540375, 'Total Loss': 0.05040064929898013}\n",
      "Epoch 3/3, Losses: {'PDE Loss': 0.0038303084775158282, 'Zero Maturity Loss': 0.00044546762364916503, 'Zero Strike Loss': 0.01699860580265522, 'Infinity Strike Loss': 0.008264885284006596, 'Total Loss': 0.02953926718782681}\n",
      "Epoch 1/3, Losses: {'PDE Loss': 0.0009893447221638574, 'Zero Maturity Loss': 0.0009946990758180618, 'Zero Strike Loss': 0.07440889626741409, 'Infinity Strike Loss': 7.883641956141219e-06, 'Total Loss': 0.07640082370735216}\n",
      "Epoch 2/3, Losses: {'PDE Loss': 0.0015438725486166857, 'Zero Maturity Loss': 0.0007015515584498644, 'Zero Strike Loss': 0.024210572242736816, 'Infinity Strike Loss': 0.01102928165346384, 'Total Loss': 0.0374852780032672}\n",
      "Epoch 3/3, Losses: {'PDE Loss': 0.0007371703835657631, 'Zero Maturity Loss': 0.0013943600933998823, 'Zero Strike Loss': 0.006794304586946964, 'Infinity Strike Loss': 0.010725311934947968, 'Total Loss': 0.01965114699886058}\n",
      "Epoch 1/3, Losses: {'PDE Loss': 0.0033989441002944274, 'Zero Maturity Loss': 0.006967158988118172, 'Zero Strike Loss': 0.10383424162864685, 'Infinity Strike Loss': 0.0011002589017152786, 'Total Loss': 0.11530060361877473}\n",
      "Epoch 2/3, Losses: {'PDE Loss': 0.0018634276211037402, 'Zero Maturity Loss': 0.004988332744687796, 'Zero Strike Loss': 0.04238655045628548, 'Infinity Strike Loss': 0.005881587043404579, 'Total Loss': 0.05511989786548159}\n",
      "Epoch 3/3, Losses: {'PDE Loss': 0.0023019490401050093, 'Zero Maturity Loss': 0.0011749530676752329, 'Zero Strike Loss': 0.0135430209338665, 'Infinity Strike Loss': 0.00812465138733387, 'Total Loss': 0.025144574428980614}\n",
      "Epoch 1/3, Losses: {'PDE Loss': 0.00021133325086219068, 'Zero Maturity Loss': 0.0013474156148731709, 'Zero Strike Loss': 0.05185072869062424, 'Infinity Strike Loss': 0.007788654416799545, 'Total Loss': 0.061198131973159146}\n",
      "Epoch 2/3, Losses: {'PDE Loss': 0.003491410999155229, 'Zero Maturity Loss': 0.0010890873381868005, 'Zero Strike Loss': 0.009397121146321297, 'Infinity Strike Loss': 0.010061579756438732, 'Total Loss': 0.02403919924010206}\n",
      "Epoch 3/3, Losses: {'PDE Loss': 0.002452861431881025, 'Zero Maturity Loss': 0.0046007875353097916, 'Zero Strike Loss': 0.0018442641012370586, 'Infinity Strike Loss': 0.0007865919033065438, 'Total Loss': 0.009684504971734419}\n",
      "Epoch 1/3, Losses: {'PDE Loss': 0.0015679428478096577, 'Zero Maturity Loss': 0.0014873940963298082, 'Zero Strike Loss': 0.12263599783182144, 'Infinity Strike Loss': 0.0039040844421833754, 'Total Loss': 0.12959541921814427}\n",
      "Epoch 2/3, Losses: {'PDE Loss': 0.0017123842235977872, 'Zero Maturity Loss': 0.0007855272851884365, 'Zero Strike Loss': 0.0569530688226223, 'Infinity Strike Loss': 0.00446814950555563, 'Total Loss': 0.06391912983696416}\n",
      "Epoch 3/3, Losses: {'PDE Loss': 0.0009186954311416284, 'Zero Maturity Loss': 0.0007729275384917855, 'Zero Strike Loss': 0.023209625855088234, 'Infinity Strike Loss': 0.015158969908952713, 'Total Loss': 0.040060218733674366}\n",
      "Epoch 1/3, Losses: {'PDE Loss': 0.0006068527325662333, 'Zero Maturity Loss': 0.0016227646265178919, 'Zero Strike Loss': 0.08429539203643799, 'Infinity Strike Loss': 0.006472624838352203, 'Total Loss': 0.09299763423387432}\n",
      "Epoch 2/3, Losses: {'PDE Loss': 0.0008506247928330505, 'Zero Maturity Loss': 0.0004669668269343674, 'Zero Strike Loss': 0.01923660933971405, 'Infinity Strike Loss': 0.01373556349426508, 'Total Loss': 0.03428976445374655}\n",
      "Epoch 3/3, Losses: {'PDE Loss': 0.002105968604152518, 'Zero Maturity Loss': 0.0014845727710053325, 'Zero Strike Loss': 0.00121664023026824, 'Infinity Strike Loss': 0.026403674855828285, 'Total Loss': 0.031210856461254377}\n",
      "Epoch 1/3, Losses: {'PDE Loss': 0.00556918937389361, 'Zero Maturity Loss': 0.0030548356007784605, 'Zero Strike Loss': 0.02440866455435753, 'Infinity Strike Loss': 0.00022336491383612156, 'Total Loss': 0.03325605444286572}\n",
      "Epoch 2/3, Losses: {'PDE Loss': 0.003026735201192669, 'Zero Maturity Loss': 0.005162185523658991, 'Zero Strike Loss': 0.00043476614519022405, 'Infinity Strike Loss': 0.023495417088270187, 'Total Loss': 0.03211910395831207}\n",
      "Epoch 3/3, Losses: {'PDE Loss': 0.00048593178779077466, 'Zero Maturity Loss': 0.008687538094818592, 'Zero Strike Loss': 0.0004502454539760947, 'Infinity Strike Loss': 0.006209337618201971, 'Total Loss': 0.015833052954787433}\n",
      "Epoch 1/3, Losses: {'PDE Loss': 0.0007369721262530726, 'Zero Maturity Loss': 0.0019222138216719031, 'Zero Strike Loss': 0.07772775739431381, 'Infinity Strike Loss': 0.0010900760535150766, 'Total Loss': 0.08147701939575386}\n",
      "Epoch 2/3, Losses: {'PDE Loss': 0.00028888108197501033, 'Zero Maturity Loss': 0.0011426955461502075, 'Zero Strike Loss': 0.02346818707883358, 'Infinity Strike Loss': 0.011728072538971901, 'Total Loss': 0.0366278362459307}\n",
      "Epoch 3/3, Losses: {'PDE Loss': 0.0007388829580683327, 'Zero Maturity Loss': 0.0008298316388390958, 'Zero Strike Loss': 0.005961845628917217, 'Infinity Strike Loss': 0.006315821316093206, 'Total Loss': 0.013846381541917852}\n",
      "Epoch 1/3, Losses: {'PDE Loss': 0.0073747957978283485, 'Zero Maturity Loss': 0.0007026676903478801, 'Zero Strike Loss': 0.055913716554641724, 'Infinity Strike Loss': 0.008003643713891506, 'Total Loss': 0.07199482375670946}\n",
      "Epoch 2/3, Losses: {'PDE Loss': 0.0003891976753038262, 'Zero Maturity Loss': 0.00044162580161355436, 'Zero Strike Loss': 0.018630748614668846, 'Infinity Strike Loss': 0.002438717521727085, 'Total Loss': 0.021900289613313313}\n",
      "Epoch 3/3, Losses: {'PDE Loss': 0.0007293349847129262, 'Zero Maturity Loss': 0.0019521991489455104, 'Zero Strike Loss': 0.002122162841260433, 'Infinity Strike Loss': 0.015186763368546963, 'Total Loss': 0.019990460343465834}\n",
      "Epoch 1/3, Losses: {'PDE Loss': 0.006307375782259873, 'Zero Maturity Loss': 0.003106730990111828, 'Zero Strike Loss': 0.12054013460874557, 'Infinity Strike Loss': 0.0013069492997601628, 'Total Loss': 0.13126119068087744}\n",
      "Epoch 2/3, Losses: {'PDE Loss': 0.0011132365832240774, 'Zero Maturity Loss': 0.0006056349375285208, 'Zero Strike Loss': 0.048479676246643066, 'Infinity Strike Loss': 0.0058846501633524895, 'Total Loss': 0.05608319793074815}\n",
      "Epoch 3/3, Losses: {'PDE Loss': 0.00015480054640146161, 'Zero Maturity Loss': 0.0012067084899172187, 'Zero Strike Loss': 0.015336524695158005, 'Infinity Strike Loss': 0.013979161158204079, 'Total Loss': 0.030677194889680764}\n",
      "Epoch 1/3, Losses: {'PDE Loss': 0.0009165831593161298, 'Zero Maturity Loss': 0.0007851570844650269, 'Zero Strike Loss': 0.062461793422698975, 'Infinity Strike Loss': 0.002644806634634733, 'Total Loss': 0.06680834030111486}\n",
      "Epoch 2/3, Losses: {'PDE Loss': 0.0033078039158884096, 'Zero Maturity Loss': 0.0006720759556628764, 'Zero Strike Loss': 0.01886158622801304, 'Infinity Strike Loss': 0.00971689447760582, 'Total Loss': 0.032558360577170146}\n",
      "Epoch 3/3, Losses: {'PDE Loss': 0.007595863757643401, 'Zero Maturity Loss': 0.002297926926985383, 'Zero Strike Loss': 0.004583688452839851, 'Infinity Strike Loss': 0.0057642171159386635, 'Total Loss': 0.0202416962534073}\n",
      "Epoch 1/3, Losses: {'PDE Loss': 0.0005239140671104461, 'Zero Maturity Loss': 0.0007653805078007281, 'Zero Strike Loss': 0.07552210986614227, 'Infinity Strike Loss': 0.0007238854304887354, 'Total Loss': 0.07753528987154218}\n",
      "Epoch 2/3, Losses: {'PDE Loss': 0.0004968230065504267, 'Zero Maturity Loss': 0.0014462008839473128, 'Zero Strike Loss': 0.011693190783262253, 'Infinity Strike Loss': 0.023938912898302078, 'Total Loss': 0.03757512757206207}\n",
      "Epoch 3/3, Losses: {'PDE Loss': 0.0013362331080696598, 'Zero Maturity Loss': 0.003443303983658552, 'Zero Strike Loss': 0.0008913906058296561, 'Infinity Strike Loss': 0.015498906373977661, 'Total Loss': 0.02116983407153553}\n",
      "Epoch 1/3, Losses: {'PDE Loss': 0.0020879391131453295, 'Zero Maturity Loss': 0.0010706514585763216, 'Zero Strike Loss': 0.06101393327116966, 'Infinity Strike Loss': 0.005148566327989101, 'Total Loss': 0.06932109017088041}\n",
      "Epoch 2/3, Losses: {'PDE Loss': 0.0019081138119367057, 'Zero Maturity Loss': 0.0008448995067737997, 'Zero Strike Loss': 0.019407011568546295, 'Infinity Strike Loss': 0.009914434514939785, 'Total Loss': 0.03207445940219658}\n",
      "Epoch 3/3, Losses: {'PDE Loss': 0.0019423081078554576, 'Zero Maturity Loss': 0.005350642371922731, 'Zero Strike Loss': 0.005419164430350065, 'Infinity Strike Loss': 0.0025594434700906277, 'Total Loss': 0.015271558380218882}\n",
      "Epoch 1/3, Losses: {'PDE Loss': 0.009484244693979725, 'Zero Maturity Loss': 0.005988277029246092, 'Zero Strike Loss': 0.06161201372742653, 'Infinity Strike Loss': 0.006969832815229893, 'Total Loss': 0.08405436826588224}\n",
      "Epoch 2/3, Losses: {'PDE Loss': 0.004850007195826559, 'Zero Maturity Loss': 0.0003768560418393463, 'Zero Strike Loss': 0.02306905761361122, 'Infinity Strike Loss': 0.0028295910451561213, 'Total Loss': 0.03112551189643325}\n",
      "Epoch 3/3, Losses: {'PDE Loss': 0.0019924153536250645, 'Zero Maturity Loss': 0.0041169654577970505, 'Zero Strike Loss': 0.0032835337333381176, 'Infinity Strike Loss': 0.0017151701031252742, 'Total Loss': 0.011108084647885506}\n",
      "Epoch 1/3, Losses: {'PDE Loss': 0.013756280888567587, 'Zero Maturity Loss': 0.0011940712574869394, 'Zero Strike Loss': 0.1043238565325737, 'Infinity Strike Loss': 0.0032066500280052423, 'Total Loss': 0.12248085870663347}\n",
      "Epoch 2/3, Losses: {'PDE Loss': 0.0001683626911774239, 'Zero Maturity Loss': 0.0005237307050265372, 'Zero Strike Loss': 0.04132627695798874, 'Infinity Strike Loss': 0.005564241204410791, 'Total Loss': 0.047582611558603494}\n",
      "Epoch 3/3, Losses: {'PDE Loss': 0.004669149533235145, 'Zero Maturity Loss': 0.0012555955909192562, 'Zero Strike Loss': 0.011221887543797493, 'Infinity Strike Loss': 0.020611422136425972, 'Total Loss': 0.03775805480437787}\n",
      "Epoch 1/3, Losses: {'PDE Loss': 0.0011331842354506867, 'Zero Maturity Loss': 0.0017623018939048052, 'Zero Strike Loss': 0.10728374123573303, 'Infinity Strike Loss': 0.014226917177438736, 'Total Loss': 0.12440614454252726}\n",
      "Epoch 2/3, Losses: {'PDE Loss': 0.0011160422788103115, 'Zero Maturity Loss': 0.0005225903587415814, 'Zero Strike Loss': 0.05644837021827698, 'Infinity Strike Loss': 0.0002555290702730417, 'Total Loss': 0.05834253192610191}\n",
      "Epoch 3/3, Losses: {'PDE Loss': 0.0016457149342472782, 'Zero Maturity Loss': 0.00039662152994424105, 'Zero Strike Loss': 0.023634858429431915, 'Infinity Strike Loss': 0.004158552270382643, 'Total Loss': 0.029835747164006075}\n",
      "Epoch 1/3, Losses: {'PDE Loss': 0.007338006704487068, 'Zero Maturity Loss': 0.00571886682882905, 'Zero Strike Loss': 0.04336799308657646, 'Infinity Strike Loss': 0.015546662732958794, 'Total Loss': 0.07197152935285137}\n",
      "Epoch 2/3, Losses: {'PDE Loss': 0.0009493414736439774, 'Zero Maturity Loss': 0.0005019856034778059, 'Zero Strike Loss': 0.02416684292256832, 'Infinity Strike Loss': 0.00012488404172472656, 'Total Loss': 0.02574305404141483}\n",
      "Epoch 3/3, Losses: {'PDE Loss': 0.0006820061519733358, 'Zero Maturity Loss': 0.004074914380908012, 'Zero Strike Loss': 0.0026271436363458633, 'Infinity Strike Loss': 6.660570943495259e-05, 'Total Loss': 0.007450669878662164}\n",
      "Epoch 1/3, Losses: {'PDE Loss': 0.00016981576937558787, 'Zero Maturity Loss': 0.0015530302189290524, 'Zero Strike Loss': 0.06514148414134979, 'Infinity Strike Loss': 0.0038865969981998205, 'Total Loss': 0.07075092712785425}\n",
      "Epoch 2/3, Losses: {'PDE Loss': 0.0004246660954016563, 'Zero Maturity Loss': 0.0010493536246940494, 'Zero Strike Loss': 0.02243666909635067, 'Infinity Strike Loss': 0.005535387434065342, 'Total Loss': 0.029446076250511717}\n",
      "Epoch 3/3, Losses: {'PDE Loss': 0.0017236668989494975, 'Zero Maturity Loss': 0.003268582047894597, 'Zero Strike Loss': 0.004210054408758879, 'Infinity Strike Loss': 0.013871411792933941, 'Total Loss': 0.023073715148536914}\n",
      "Epoch 1/3, Losses: {'PDE Loss': 0.0020753980020051972, 'Zero Maturity Loss': 0.001163066946901381, 'Zero Strike Loss': 0.0963217243552208, 'Infinity Strike Loss': 0.0008495989022776484, 'Total Loss': 0.10040978820640502}\n",
      "Epoch 2/3, Losses: {'PDE Loss': 0.0009284110619983129, 'Zero Maturity Loss': 0.000593235541600734, 'Zero Strike Loss': 0.03527636080980301, 'Infinity Strike Loss': 0.01561221294105053, 'Total Loss': 0.052410220354452586}\n",
      "Epoch 3/3, Losses: {'PDE Loss': 0.00015211199144031114, 'Zero Maturity Loss': 0.0008176513365469873, 'Zero Strike Loss': 0.012405835092067719, 'Infinity Strike Loss': 0.022223440930247307, 'Total Loss': 0.03559903935030233}\n",
      "Epoch 1/3, Losses: {'PDE Loss': 0.00538159135891266, 'Zero Maturity Loss': 0.0013474994339048862, 'Zero Strike Loss': 0.0765213742852211, 'Infinity Strike Loss': 0.009469492360949516, 'Total Loss': 0.09271995743898816}\n",
      "Epoch 2/3, Losses: {'PDE Loss': 0.003098224073910367, 'Zero Maturity Loss': 0.00032653185189701617, 'Zero Strike Loss': 0.028274526819586754, 'Infinity Strike Loss': 0.0017075493233278394, 'Total Loss': 0.03340683206872198}\n",
      "Epoch 3/3, Losses: {'PDE Loss': 0.0022681071033778034, 'Zero Maturity Loss': 0.0008971192291937768, 'Zero Strike Loss': 0.0054788412526249886, 'Infinity Strike Loss': 0.01344219222664833, 'Total Loss': 0.0220862598118449}\n",
      "Epoch 1/3, Losses: {'PDE Loss': 0.0028133144772157673, 'Zero Maturity Loss': 0.0018272575689479709, 'Zero Strike Loss': 0.07828739285469055, 'Infinity Strike Loss': 0.0007041230564936996, 'Total Loss': 0.08363208795734799}\n",
      "Epoch 2/3, Losses: {'PDE Loss': 0.006703126389077053, 'Zero Maturity Loss': 0.00036894436925649643, 'Zero Strike Loss': 0.020574435591697693, 'Infinity Strike Loss': 0.0020326513331383467, 'Total Loss': 0.029679157683169588}\n",
      "Epoch 3/3, Losses: {'PDE Loss': 0.00768870702385957, 'Zero Maturity Loss': 0.0026253992691636086, 'Zero Strike Loss': 0.001031688996590674, 'Infinity Strike Loss': 0.0035935048945248127, 'Total Loss': 0.014939300184138665}\n",
      "Epoch 1/3, Losses: {'PDE Loss': 0.00011387472905099826, 'Zero Maturity Loss': 0.0034059782046824694, 'Zero Strike Loss': 0.13451474905014038, 'Infinity Strike Loss': 0.0006648091366514564, 'Total Loss': 0.1386994111205253}\n",
      "Epoch 2/3, Losses: {'PDE Loss': 0.0004307631960104589, 'Zero Maturity Loss': 0.0025781828444451094, 'Zero Strike Loss': 0.063338503241539, 'Infinity Strike Loss': 0.004833069164305925, 'Total Loss': 0.0711805184463005}\n",
      "Epoch 3/3, Losses: {'PDE Loss': 0.0016327822836489886, 'Zero Maturity Loss': 0.0016321174334734678, 'Zero Strike Loss': 0.025706926360726357, 'Infinity Strike Loss': 0.011172431521117687, 'Total Loss': 0.040144257598966504}\n",
      "Epoch 1/3, Losses: {'PDE Loss': 0.00021764698261069303, 'Zero Maturity Loss': 0.0008260636241175234, 'Zero Strike Loss': 0.04202090948820114, 'Infinity Strike Loss': 0.0011058051604777575, 'Total Loss': 0.04417042525540712}\n",
      "Epoch 2/3, Losses: {'PDE Loss': 0.0015342140804212997, 'Zero Maturity Loss': 0.0032664132304489613, 'Zero Strike Loss': 0.006566925439983606, 'Infinity Strike Loss': 0.00946036446839571, 'Total Loss': 0.020827917219249578}\n",
      "Epoch 3/3, Losses: {'PDE Loss': 0.0023110210007653564, 'Zero Maturity Loss': 0.011721674352884293, 'Zero Strike Loss': 0.00035181542625650764, 'Infinity Strike Loss': 0.002214994514361024, 'Total Loss': 0.01659950529426718}\n",
      "Epoch 1/3, Losses: {'PDE Loss': 2.9024545001739734e-05, 'Zero Maturity Loss': 0.0005490714684128761, 'Zero Strike Loss': 0.05387359485030174, 'Infinity Strike Loss': 0.00018708157585933805, 'Total Loss': 0.0546387724395757}\n",
      "Epoch 2/3, Losses: {'PDE Loss': 0.000515215775982522, 'Zero Maturity Loss': 0.0006041863816790283, 'Zero Strike Loss': 0.017584923654794693, 'Infinity Strike Loss': 0.006068132817745209, 'Total Loss': 0.02477245863020145}\n",
      "Epoch 3/3, Losses: {'PDE Loss': 0.0012338844760866406, 'Zero Maturity Loss': 0.0019523693481460214, 'Zero Strike Loss': 0.0025905859656631947, 'Infinity Strike Loss': 0.009001585654914379, 'Total Loss': 0.014778425444810235}\n",
      "Epoch 1/3, Losses: {'PDE Loss': 0.003562262110502513, 'Zero Maturity Loss': 0.0009716927306726575, 'Zero Strike Loss': 0.0650360956788063, 'Infinity Strike Loss': 0.00037844531470909715, 'Total Loss': 0.06994849583469057}\n",
      "Epoch 2/3, Losses: {'PDE Loss': 0.001850218262437134, 'Zero Maturity Loss': 0.0024587393272668123, 'Zero Strike Loss': 0.014708563685417175, 'Infinity Strike Loss': 0.010742459446191788, 'Total Loss': 0.02975998072131291}\n",
      "Epoch 3/3, Losses: {'PDE Loss': 0.0006461078449027707, 'Zero Maturity Loss': 0.007897053845226765, 'Zero Strike Loss': 0.0015193247236311436, 'Infinity Strike Loss': 0.008193332701921463, 'Total Loss': 0.018255819115682144}\n",
      "Epoch 1/3, Losses: {'PDE Loss': 0.00024328121657206348, 'Zero Maturity Loss': 0.0015133304987102747, 'Zero Strike Loss': 0.08055805414915085, 'Infinity Strike Loss': 0.0014104513684287667, 'Total Loss': 0.08372511723286195}\n",
      "Epoch 2/3, Losses: {'PDE Loss': 0.001232378901436285, 'Zero Maturity Loss': 0.0005383019451983273, 'Zero Strike Loss': 0.028721295297145844, 'Infinity Strike Loss': 0.0033595608547329903, 'Total Loss': 0.03385153699851345}\n",
      "Epoch 3/3, Losses: {'PDE Loss': 0.002310575382954114, 'Zero Maturity Loss': 0.004971665795892477, 'Zero Strike Loss': 0.0047460561618208885, 'Infinity Strike Loss': 0.001929110730998218, 'Total Loss': 0.013957408071665699}\n",
      "Epoch 1/3, Losses: {'PDE Loss': 0.0008619384415007302, 'Zero Maturity Loss': 0.0011685730423778296, 'Zero Strike Loss': 0.1054086908698082, 'Infinity Strike Loss': 0.00562260439619422, 'Total Loss': 0.11306180674988098}\n",
      "Epoch 2/3, Losses: {'PDE Loss': 0.0002854623592734545, 'Zero Maturity Loss': 0.0005164099275134504, 'Zero Strike Loss': 0.03822631761431694, 'Infinity Strike Loss': 0.0026841885410249233, 'Total Loss': 0.041712378442128765}\n",
      "Epoch 3/3, Losses: {'PDE Loss': 0.0005159968566195713, 'Zero Maturity Loss': 0.0024932839442044497, 'Zero Strike Loss': 0.006630162708461285, 'Infinity Strike Loss': 0.016393927857279778, 'Total Loss': 0.026033371366565083}\n",
      "Epoch 1/3, Losses: {'PDE Loss': 0.0011743270205655332, 'Zero Maturity Loss': 0.0011340623022988439, 'Zero Strike Loss': 0.06436213105916977, 'Infinity Strike Loss': 0.0003002549347002059, 'Total Loss': 0.06697077531673436}\n",
      "Epoch 2/3, Losses: {'PDE Loss': 0.001719209058057553, 'Zero Maturity Loss': 0.0017112827626988292, 'Zero Strike Loss': 0.014319358393549919, 'Infinity Strike Loss': 0.008213352411985397, 'Total Loss': 0.025963202626291697}\n",
      "Epoch 3/3, Losses: {'PDE Loss': 0.006019148260769507, 'Zero Maturity Loss': 0.0055578830651938915, 'Zero Strike Loss': 0.0006774360663257539, 'Infinity Strike Loss': 0.011716030538082123, 'Total Loss': 0.023970497930371273}\n",
      "Epoch 1/3, Losses: {'PDE Loss': 0.010376251218715238, 'Zero Maturity Loss': 0.0007703201845288277, 'Zero Strike Loss': 0.07113327831029892, 'Infinity Strike Loss': 0.005679449997842312, 'Total Loss': 0.0879592997113853}\n",
      "Epoch 2/3, Losses: {'PDE Loss': 0.00027420300191220953, 'Zero Maturity Loss': 0.0005886118742637336, 'Zero Strike Loss': 0.022223548963665962, 'Infinity Strike Loss': 0.008220108225941658, 'Total Loss': 0.03130647206578356}\n",
      "Epoch 3/3, Losses: {'PDE Loss': 0.002004503106359939, 'Zero Maturity Loss': 0.0014385237591341138, 'Zero Strike Loss': 0.0037892567925155163, 'Infinity Strike Loss': 0.003266751067712903, 'Total Loss': 0.010499034725722473}\n",
      "Epoch 1/3, Losses: {'PDE Loss': 0.003783818186208818, 'Zero Maturity Loss': 0.0009273274336010218, 'Zero Strike Loss': 0.04921391233801842, 'Infinity Strike Loss': 0.0008596752304583788, 'Total Loss': 0.05478473318828664}\n",
      "Epoch 2/3, Losses: {'PDE Loss': 0.005790558261754212, 'Zero Maturity Loss': 0.0006994704017415643, 'Zero Strike Loss': 0.009308375418186188, 'Infinity Strike Loss': 0.0064490423537790775, 'Total Loss': 0.022247446435461043}\n",
      "Epoch 3/3, Losses: {'PDE Loss': 0.0026907683205744924, 'Zero Maturity Loss': 0.0038594608195126057, 'Zero Strike Loss': 0.0009283440886065364, 'Infinity Strike Loss': 0.001911553437821567, 'Total Loss': 0.009390126666515201}\n",
      "Epoch 1/3, Losses: {'PDE Loss': 0.0010023409912292799, 'Zero Maturity Loss': 0.0008975911187008023, 'Zero Strike Loss': 0.061526354402303696, 'Infinity Strike Loss': 0.001447532675229013, 'Total Loss': 0.0648738191874628}\n",
      "Epoch 2/3, Losses: {'PDE Loss': 0.004035244526670725, 'Zero Maturity Loss': 0.0012649472337216139, 'Zero Strike Loss': 0.017128974199295044, 'Infinity Strike Loss': 0.014361768029630184, 'Total Loss': 0.03679093398931757}\n",
      "Epoch 3/3, Losses: {'PDE Loss': 0.0024734252724620447, 'Zero Maturity Loss': 0.0008559770649299026, 'Zero Strike Loss': 0.006689019501209259, 'Infinity Strike Loss': 0.006106702610850334, 'Total Loss': 0.01612512444945154}\n",
      "Epoch 1/3, Losses: {'PDE Loss': 2.3033394203542558e-05, 'Zero Maturity Loss': 0.0014455021591857076, 'Zero Strike Loss': 0.0883149653673172, 'Infinity Strike Loss': 1.551776222186163e-05, 'Total Loss': 0.0897990186829283}\n",
      "Epoch 2/3, Losses: {'PDE Loss': 0.00012452351364284912, 'Zero Maturity Loss': 0.00042644035420380533, 'Zero Strike Loss': 0.033117540180683136, 'Infinity Strike Loss': 0.003200812730938196, 'Total Loss': 0.03686931677946799}\n",
      "Epoch 3/3, Losses: {'PDE Loss': 0.000473817434795988, 'Zero Maturity Loss': 0.002547646639868617, 'Zero Strike Loss': 0.005782080814242363, 'Infinity Strike Loss': 0.007914184592664242, 'Total Loss': 0.01671772948157121}\n",
      "Epoch 1/3, Losses: {'PDE Loss': 0.007446933588932588, 'Zero Maturity Loss': 0.005094537511467934, 'Zero Strike Loss': 0.055739302188158035, 'Infinity Strike Loss': 0.00626547122374177, 'Total Loss': 0.07454624451230032}\n",
      "Epoch 2/3, Losses: {'PDE Loss': 0.003975071576711097, 'Zero Maturity Loss': 0.0005541870486922562, 'Zero Strike Loss': 0.017854919657111168, 'Infinity Strike Loss': 0.0036393478512763977, 'Total Loss': 0.026023526133790918}\n",
      "Epoch 3/3, Losses: {'PDE Loss': 0.0009980577425117976, 'Zero Maturity Loss': 0.0027510158251971006, 'Zero Strike Loss': 0.0023414618335664272, 'Infinity Strike Loss': 0.0007093696040101349, 'Total Loss': 0.006799905005285461}\n",
      "Epoch 1/3, Losses: {'PDE Loss': 0.004428270257987525, 'Zero Maturity Loss': 0.0005459237727336586, 'Zero Strike Loss': 0.04672347381711006, 'Infinity Strike Loss': 0.0012930163647979498, 'Total Loss': 0.052990684212629195}\n",
      "Epoch 2/3, Losses: {'PDE Loss': 0.0008379933530399905, 'Zero Maturity Loss': 0.0016066757962107658, 'Zero Strike Loss': 0.005006357561796904, 'Infinity Strike Loss': 0.016711942851543427, 'Total Loss': 0.024162969562591084}\n",
      "Epoch 3/3, Losses: {'PDE Loss': 0.0010263096453503129, 'Zero Maturity Loss': 0.0031327554024755955, 'Zero Strike Loss': 1.9013688870472834e-05, 'Infinity Strike Loss': 0.01622259058058262, 'Total Loss': 0.020400669317278998}\n",
      "Epoch 1/3, Losses: {'PDE Loss': 0.0003739872432501624, 'Zero Maturity Loss': 0.0021679659839719534, 'Zero Strike Loss': 0.08539244532585144, 'Infinity Strike Loss': 0.002192485611885786, 'Total Loss': 0.09012688416495934}\n",
      "Epoch 2/3, Losses: {'PDE Loss': 0.000917436350589793, 'Zero Maturity Loss': 0.0010050153359770775, 'Zero Strike Loss': 0.039203040301799774, 'Infinity Strike Loss': 0.0019756106194108725, 'Total Loss': 0.04310110260777752}\n",
      "Epoch 3/3, Losses: {'PDE Loss': 0.004067760174223799, 'Zero Maturity Loss': 0.0018098180880770087, 'Zero Strike Loss': 0.014143558219075203, 'Infinity Strike Loss': 0.008784840814769268, 'Total Loss': 0.02880597729614528}\n",
      "Epoch 1/3, Losses: {'PDE Loss': 0.003212846224926601, 'Zero Maturity Loss': 0.003998312633484602, 'Zero Strike Loss': 0.07813197374343872, 'Infinity Strike Loss': 0.017198244109749794, 'Total Loss': 0.10254137671159971}\n",
      "Epoch 2/3, Losses: {'PDE Loss': 0.0027814158958659107, 'Zero Maturity Loss': 0.0007012691348791122, 'Zero Strike Loss': 0.026900889351963997, 'Infinity Strike Loss': 0.012317480519413948, 'Total Loss': 0.04270105490212297}\n",
      "Epoch 3/3, Losses: {'PDE Loss': 0.0017290800130988623, 'Zero Maturity Loss': 0.004456639289855957, 'Zero Strike Loss': 0.007781792897731066, 'Infinity Strike Loss': 0.00455493712797761, 'Total Loss': 0.018522449328663496}\n",
      "Epoch 1/3, Losses: {'PDE Loss': 0.0016915224583039909, 'Zero Maturity Loss': 0.0010703796287998557, 'Zero Strike Loss': 0.07963161170482635, 'Infinity Strike Loss': 6.879599823150784e-05, 'Total Loss': 0.08246230979016171}\n",
      "Epoch 2/3, Losses: {'PDE Loss': 0.002522659385451698, 'Zero Maturity Loss': 0.0008267658413387835, 'Zero Strike Loss': 0.01826845295727253, 'Infinity Strike Loss': 0.004013970028609037, 'Total Loss': 0.02563184821267205}\n",
      "Epoch 3/3, Losses: {'PDE Loss': 0.0022438021182842284, 'Zero Maturity Loss': 0.005913426633924246, 'Zero Strike Loss': 0.00048615652485750616, 'Infinity Strike Loss': 0.006096491124480963, 'Total Loss': 0.014739876401546944}\n",
      "Epoch 1/3, Losses: {'PDE Loss': 0.000100324184543756, 'Zero Maturity Loss': 0.0035456789191812277, 'Zero Strike Loss': 0.09631828218698502, 'Infinity Strike Loss': 0.01680142432451248, 'Total Loss': 0.11676570961522248}\n",
      "Epoch 2/3, Losses: {'PDE Loss': 0.00021701197198974783, 'Zero Maturity Loss': 0.0005325744277797639, 'Zero Strike Loss': 0.045173339545726776, 'Infinity Strike Loss': 0.0009099479066208005, 'Total Loss': 0.04683287385211709}\n",
      "Epoch 3/3, Losses: {'PDE Loss': 0.0008634334955652092, 'Zero Maturity Loss': 0.0007315129041671753, 'Zero Strike Loss': 0.016755275428295135, 'Infinity Strike Loss': 0.01687074825167656, 'Total Loss': 0.03522097007970408}\n",
      "Epoch 1/3, Losses: {'PDE Loss': 0.001669703293658364, 'Zero Maturity Loss': 0.004139225464314222, 'Zero Strike Loss': 0.11753122508525848, 'Infinity Strike Loss': 0.0001822149206418544, 'Total Loss': 0.12352236876387293}\n",
      "Epoch 2/3, Losses: {'PDE Loss': 0.0003347080333583351, 'Zero Maturity Loss': 0.0010370410745963454, 'Zero Strike Loss': 0.047259796410799026, 'Infinity Strike Loss': 0.003658221336081624, 'Total Loss': 0.05228976685483533}\n",
      "Epoch 3/3, Losses: {'PDE Loss': 0.0003315394178629422, 'Zero Maturity Loss': 0.00046199472853913903, 'Zero Strike Loss': 0.0130034564062953, 'Infinity Strike Loss': 0.008143071085214615, 'Total Loss': 0.021940061637911998}\n",
      "Epoch 1/3, Losses: {'PDE Loss': 0.0032788521826320896, 'Zero Maturity Loss': 0.0006331973127089441, 'Zero Strike Loss': 0.08850961923599243, 'Infinity Strike Loss': 0.0003477886784821749, 'Total Loss': 0.09276945740981564}\n",
      "Epoch 2/3, Losses: {'PDE Loss': 0.000423597265886798, 'Zero Maturity Loss': 0.0007698027184233069, 'Zero Strike Loss': 0.03070797026157379, 'Infinity Strike Loss': 0.010163089260458946, 'Total Loss': 0.04206445950634284}\n",
      "Epoch 3/3, Losses: {'PDE Loss': 0.0015292116400379393, 'Zero Maturity Loss': 0.0008122872677631676, 'Zero Strike Loss': 0.009751509875059128, 'Infinity Strike Loss': 0.009300273843109608, 'Total Loss': 0.02139328262596984}\n",
      "Epoch 1/3, Losses: {'PDE Loss': 0.00022546351451579295, 'Zero Maturity Loss': 0.002633563010022044, 'Zero Strike Loss': 0.10164269804954529, 'Infinity Strike Loss': 0.0003184558590874076, 'Total Loss': 0.10482018043317053}\n",
      "Epoch 2/3, Losses: {'PDE Loss': 0.0015879964279676014, 'Zero Maturity Loss': 0.0005903313285671175, 'Zero Strike Loss': 0.03325461968779564, 'Infinity Strike Loss': 0.005292450077831745, 'Total Loss': 0.0407253975221621}\n",
      "Epoch 3/3, Losses: {'PDE Loss': 0.004019763698152912, 'Zero Maturity Loss': 0.0019184279954060912, 'Zero Strike Loss': 0.005565806291997433, 'Infinity Strike Loss': 0.008947186172008514, 'Total Loss': 0.02045118415756495}\n",
      "Epoch 1/3, Losses: {'PDE Loss': 9.508729919017562e-05, 'Zero Maturity Loss': 0.005051129497587681, 'Zero Strike Loss': 0.06700456142425537, 'Infinity Strike Loss': 0.020111721009016037, 'Total Loss': 0.09226249923004927}\n",
      "Epoch 2/3, Losses: {'PDE Loss': 0.00023186859043656442, 'Zero Maturity Loss': 0.00034664798295125365, 'Zero Strike Loss': 0.045774467289447784, 'Infinity Strike Loss': 0.0009943543700501323, 'Total Loss': 0.047347338232885734}\n",
      "Epoch 3/3, Losses: {'PDE Loss': 0.0005035479524082031, 'Zero Maturity Loss': 0.0014407392591238022, 'Zero Strike Loss': 0.01997056044638157, 'Infinity Strike Loss': 0.00022273034846875817, 'Total Loss': 0.022137578006382334}\n",
      "Epoch 1/3, Losses: {'PDE Loss': 0.00457751531981741, 'Zero Maturity Loss': 0.006500538904219866, 'Zero Strike Loss': 0.08917254954576492, 'Infinity Strike Loss': 0.023225679993629456, 'Total Loss': 0.12347628376343166}\n",
      "Epoch 2/3, Losses: {'PDE Loss': 0.00027412269074929843, 'Zero Maturity Loss': 0.000928879773709923, 'Zero Strike Loss': 0.02478596940636635, 'Infinity Strike Loss': 0.001013897592201829, 'Total Loss': 0.0270028694630274}\n",
      "Epoch 3/3, Losses: {'PDE Loss': 0.0047223672571848705, 'Zero Maturity Loss': 0.001400647684931755, 'Zero Strike Loss': 0.0013123396784067154, 'Infinity Strike Loss': 0.019269825890660286, 'Total Loss': 0.026705180511183625}\n",
      "Epoch 1/3, Losses: {'PDE Loss': 0.0010257924899631033, 'Zero Maturity Loss': 0.0013629457680508494, 'Zero Strike Loss': 0.11811746656894684, 'Infinity Strike Loss': 0.0028547937981784344, 'Total Loss': 0.12336099862513923}\n",
      "Epoch 2/3, Losses: {'PDE Loss': 0.0015568329069596848, 'Zero Maturity Loss': 0.0007048735860735178, 'Zero Strike Loss': 0.05502476170659065, 'Infinity Strike Loss': 0.002346591092646122, 'Total Loss': 0.059633059292269974}\n",
      "Epoch 3/3, Losses: {'PDE Loss': 0.001270006342919481, 'Zero Maturity Loss': 0.0019688215106725693, 'Zero Strike Loss': 0.02136274427175522, 'Infinity Strike Loss': 0.01104280911386013, 'Total Loss': 0.0356443812392074}\n",
      "Epoch 1/3, Losses: {'PDE Loss': 0.00047891625968234444, 'Zero Maturity Loss': 0.003801498096436262, 'Zero Strike Loss': 0.07953684777021408, 'Infinity Strike Loss': 0.017453210428357124, 'Total Loss': 0.10127047255468981}\n",
      "Epoch 2/3, Losses: {'PDE Loss': 0.0011950595171233015, 'Zero Maturity Loss': 0.0010795977432280779, 'Zero Strike Loss': 0.02794933319091797, 'Infinity Strike Loss': 9.924625919666141e-05, 'Total Loss': 0.03032323671046601}\n",
      "Epoch 3/3, Losses: {'PDE Loss': 0.0037351467105615982, 'Zero Maturity Loss': 0.0012980994069948792, 'Zero Strike Loss': 0.004649009555578232, 'Infinity Strike Loss': 0.011739050969481468, 'Total Loss': 0.021421306642616177}\n",
      "Epoch 1/3, Losses: {'PDE Loss': 0.0010057411856771912, 'Zero Maturity Loss': 0.0005441323155537248, 'Zero Strike Loss': 0.04081417992711067, 'Infinity Strike Loss': 0.002395199378952384, 'Total Loss': 0.044759252807293974}\n",
      "Epoch 2/3, Losses: {'PDE Loss': 0.002977516053913279, 'Zero Maturity Loss': 0.002662386279553175, 'Zero Strike Loss': 0.000666277133859694, 'Infinity Strike Loss': 0.019883636385202408, 'Total Loss': 0.026189815852528556}\n",
      "Epoch 3/3, Losses: {'PDE Loss': 0.003230474888241977, 'Zero Maturity Loss': 0.006131783127784729, 'Zero Strike Loss': 0.0002377491327933967, 'Infinity Strike Loss': 6.254908839764539e-06, 'Total Loss': 0.009606262057659867}\n",
      "Epoch 1/3, Losses: {'PDE Loss': 0.0002842666343023071, 'Zero Maturity Loss': 0.002097337506711483, 'Zero Strike Loss': 0.13858386874198914, 'Infinity Strike Loss': 0.0033000323455780745, 'Total Loss': 0.144265505228581}\n",
      "Epoch 2/3, Losses: {'PDE Loss': 0.0002858710089269263, 'Zero Maturity Loss': 0.003088482655584812, 'Zero Strike Loss': 0.06968934834003448, 'Infinity Strike Loss': 0.007259889040142298, 'Total Loss': 0.08032359104468852}\n",
      "Epoch 3/3, Losses: {'PDE Loss': 0.0004684516891709851, 'Zero Maturity Loss': 0.0029615790117532015, 'Zero Strike Loss': 0.03350786492228508, 'Infinity Strike Loss': 0.015553517267107964, 'Total Loss': 0.05249141289031723}\n",
      "Epoch 1/3, Losses: {'PDE Loss': 0.006863852711292052, 'Zero Maturity Loss': 0.000981888035312295, 'Zero Strike Loss': 0.05411594733595848, 'Infinity Strike Loss': 0.0008680378086864948, 'Total Loss': 0.06282972589124933}\n",
      "Epoch 2/3, Losses: {'PDE Loss': 0.0028908759687062196, 'Zero Maturity Loss': 0.0007757031708024442, 'Zero Strike Loss': 0.01846475712954998, 'Infinity Strike Loss': 0.006966596003621817, 'Total Loss': 0.02909793227268046}\n",
      "Epoch 3/3, Losses: {'PDE Loss': 0.00029680941445485134, 'Zero Maturity Loss': 0.005097676999866962, 'Zero Strike Loss': 0.004808132536709309, 'Infinity Strike Loss': 0.004711544141173363, 'Total Loss': 0.014914163092204485}\n",
      "Epoch 1/3, Losses: {'PDE Loss': 0.00014718345775189496, 'Zero Maturity Loss': 0.0008980048587545753, 'Zero Strike Loss': 0.06195899844169617, 'Infinity Strike Loss': 0.0029625645838677883, 'Total Loss': 0.06596675134207043}\n",
      "Epoch 2/3, Losses: {'PDE Loss': 0.0038108696895288417, 'Zero Maturity Loss': 0.0014798056799918413, 'Zero Strike Loss': 0.016360029578208923, 'Infinity Strike Loss': 0.001978736836463213, 'Total Loss': 0.02362944178419282}\n",
      "Epoch 3/3, Losses: {'PDE Loss': 0.005667098154485344, 'Zero Maturity Loss': 0.007197096478193998, 'Zero Strike Loss': 0.0012043120805174112, 'Infinity Strike Loss': 0.0018905199831351638, 'Total Loss': 0.015959026696331917}\n",
      "Epoch 1/3, Losses: {'PDE Loss': 0.0010036959879997324, 'Zero Maturity Loss': 0.0007643919670954347, 'Zero Strike Loss': 0.08122089505195618, 'Infinity Strike Loss': 0.0015985158970579505, 'Total Loss': 0.0845874989041093}\n",
      "Epoch 2/3, Losses: {'PDE Loss': 0.0035087997614479454, 'Zero Maturity Loss': 0.00032732635736465454, 'Zero Strike Loss': 0.039240483194589615, 'Infinity Strike Loss': 0.0027368373703211546, 'Total Loss': 0.04581344668372337}\n",
      "Epoch 3/3, Losses: {'PDE Loss': 0.005041674903546764, 'Zero Maturity Loss': 0.000731993408408016, 'Zero Strike Loss': 0.01539395097643137, 'Infinity Strike Loss': 0.008694415912032127, 'Total Loss': 0.029862035200418278}\n",
      "Epoch 1/3, Losses: {'PDE Loss': 0.001501953020025635, 'Zero Maturity Loss': 0.0009680704679340124, 'Zero Strike Loss': 0.08574342727661133, 'Infinity Strike Loss': 0.0008509773178957403, 'Total Loss': 0.08906442808246672}\n",
      "Epoch 2/3, Losses: {'PDE Loss': 0.00046237275355871, 'Zero Maturity Loss': 0.0003495246055535972, 'Zero Strike Loss': 0.03857109323143959, 'Infinity Strike Loss': 0.0008776544709689915, 'Total Loss': 0.04026064506152089}\n",
      "Epoch 3/3, Losses: {'PDE Loss': 0.00016506877294212793, 'Zero Maturity Loss': 0.0016054933657869697, 'Zero Strike Loss': 0.011716085486114025, 'Infinity Strike Loss': 0.0033042863942682743, 'Total Loss': 0.016790934019111397}\n",
      "Epoch 1/3, Losses: {'PDE Loss': 0.0034995430994555175, 'Zero Maturity Loss': 0.001227127038873732, 'Zero Strike Loss': 0.10656959563493729, 'Infinity Strike Loss': 0.0020778642501682043, 'Total Loss': 0.11337413002343474}\n",
      "Epoch 2/3, Losses: {'PDE Loss': 0.0006456501602614023, 'Zero Maturity Loss': 0.00046466372441500425, 'Zero Strike Loss': 0.042566053569316864, 'Infinity Strike Loss': 0.005292557179927826, 'Total Loss': 0.04896892463392109}\n",
      "Epoch 3/3, Losses: {'PDE Loss': 0.0011349670017526908, 'Zero Maturity Loss': 0.0018140444299206138, 'Zero Strike Loss': 0.012570847757160664, 'Infinity Strike Loss': 0.013091572560369968, 'Total Loss': 0.028611431749203935}\n",
      "Epoch 1/3, Losses: {'PDE Loss': 4.9645219784556694e-05, 'Zero Maturity Loss': 0.0022449837997555733, 'Zero Strike Loss': 0.10485506057739258, 'Infinity Strike Loss': 4.177837399765849e-05, 'Total Loss': 0.10719146797093036}\n",
      "Epoch 2/3, Losses: {'PDE Loss': 0.001990991970566494, 'Zero Maturity Loss': 0.002784237964078784, 'Zero Strike Loss': 0.04054395854473114, 'Infinity Strike Loss': 0.010126993991434574, 'Total Loss': 0.05544618247081099}\n",
      "Epoch 3/3, Losses: {'PDE Loss': 0.0033132543396747717, 'Zero Maturity Loss': 0.0012497444404289126, 'Zero Strike Loss': 0.015573420561850071, 'Infinity Strike Loss': 0.013066268526017666, 'Total Loss': 0.033202687867971425}\n",
      "Epoch 1/3, Losses: {'PDE Loss': 0.010617725488104208, 'Zero Maturity Loss': 0.0012622071662917733, 'Zero Strike Loss': 0.04490359127521515, 'Infinity Strike Loss': 0.005400337278842926, 'Total Loss': 0.06218386120845405}\n",
      "Epoch 2/3, Losses: {'PDE Loss': 0.0006256036831815777, 'Zero Maturity Loss': 0.0023852470330893993, 'Zero Strike Loss': 0.013224800117313862, 'Infinity Strike Loss': 0.0031778067350387573, 'Total Loss': 0.019413457568623595}\n",
      "Epoch 3/3, Losses: {'PDE Loss': 0.0010288764536829787, 'Zero Maturity Loss': 0.012798643670976162, 'Zero Strike Loss': 0.0002969192573800683, 'Infinity Strike Loss': 0.00019347219495102763, 'Total Loss': 0.014317911576990236}\n",
      "Epoch 1/3, Losses: {'PDE Loss': 0.00031238075378572136, 'Zero Maturity Loss': 0.004663301166146994, 'Zero Strike Loss': 0.02439655177295208, 'Infinity Strike Loss': 0.021164415404200554, 'Total Loss': 0.05053664909708535}\n",
      "Epoch 2/3, Losses: {'PDE Loss': 0.0015777301133250666, 'Zero Maturity Loss': 0.00028355952235870063, 'Zero Strike Loss': 0.02583719976246357, 'Infinity Strike Loss': 3.5652155929710716e-05, 'Total Loss': 0.02773414155407705}\n",
      "Epoch 3/3, Losses: {'PDE Loss': 0.0019015047812624873, 'Zero Maturity Loss': 0.0008771488210186362, 'Zero Strike Loss': 0.0064828116446733475, 'Infinity Strike Loss': 9.6315641712863e-05, 'Total Loss': 0.009357780888667334}\n",
      "Epoch 1/3, Losses: {'PDE Loss': 0.0006030578003756704, 'Zero Maturity Loss': 0.006905005779117346, 'Zero Strike Loss': 0.07173749059438705, 'Infinity Strike Loss': 0.012104270979762077, 'Total Loss': 0.09134982515364215}\n",
      "Epoch 2/3, Losses: {'PDE Loss': 0.004642085885784506, 'Zero Maturity Loss': 0.0005752596189267933, 'Zero Strike Loss': 0.027637429535388947, 'Infinity Strike Loss': 0.0035966860596090555, 'Total Loss': 0.0364514610997093}\n",
      "Epoch 3/3, Losses: {'PDE Loss': 0.006953825686859283, 'Zero Maturity Loss': 0.0013710458297282457, 'Zero Strike Loss': 0.00489104213193059, 'Infinity Strike Loss': 0.0016201549442484975, 'Total Loss': 0.014836068592766616}\n",
      "Epoch 1/3, Losses: {'PDE Loss': 0.008794956988731483, 'Zero Maturity Loss': 0.006919084582477808, 'Zero Strike Loss': 0.051517054438591, 'Infinity Strike Loss': 0.01558817457407713, 'Total Loss': 0.08281927058387742}\n",
      "Epoch 2/3, Losses: {'PDE Loss': 0.002791463610344111, 'Zero Maturity Loss': 0.0010509220883250237, 'Zero Strike Loss': 0.027072723954916, 'Infinity Strike Loss': 0.00016540620708838105, 'Total Loss': 0.031080515860673515}\n",
      "Epoch 3/3, Losses: {'PDE Loss': 0.0004922003000494316, 'Zero Maturity Loss': 0.005812251009047031, 'Zero Strike Loss': 0.004116710275411606, 'Infinity Strike Loss': 0.0002689469256438315, 'Total Loss': 0.0106901085101519}\n",
      "Epoch 1/3, Losses: {'PDE Loss': 0.0002726956246079192, 'Zero Maturity Loss': 0.0005192372482270002, 'Zero Strike Loss': 0.06654095649719238, 'Infinity Strike Loss': 5.12412516400218e-05, 'Total Loss': 0.06738413062166733}\n",
      "Epoch 2/3, Losses: {'PDE Loss': 0.0021301985993610823, 'Zero Maturity Loss': 0.0008018255466595292, 'Zero Strike Loss': 0.02304461970925331, 'Infinity Strike Loss': 0.0029899929650127888, 'Total Loss': 0.02896663682028671}\n",
      "Epoch 3/3, Losses: {'PDE Loss': 0.0035524849031596585, 'Zero Maturity Loss': 0.004207933787256479, 'Zero Strike Loss': 0.0027864091098308563, 'Infinity Strike Loss': 0.007443327456712723, 'Total Loss': 0.017990155256959718}\n",
      "Epoch 1/3, Losses: {'PDE Loss': 0.004665871412684763, 'Zero Maturity Loss': 0.0004709909262601286, 'Zero Strike Loss': 0.04871940612792969, 'Infinity Strike Loss': 0.0031653789337724447, 'Total Loss': 0.057021647400647024}\n",
      "Epoch 2/3, Losses: {'PDE Loss': 0.005375803541852605, 'Zero Maturity Loss': 0.001948077231645584, 'Zero Strike Loss': 0.011108935810625553, 'Infinity Strike Loss': 0.006693254224956036, 'Total Loss': 0.025126070809079776}\n",
      "Epoch 3/3, Losses: {'PDE Loss': 0.002810395836866661, 'Zero Maturity Loss': 0.007170959375798702, 'Zero Strike Loss': 0.001831493922509253, 'Infinity Strike Loss': 0.0017569765914231539, 'Total Loss': 0.01356982572659777}\n",
      "Epoch 1/3, Losses: {'PDE Loss': 0.010975841806756514, 'Zero Maturity Loss': 0.0008110842318274081, 'Zero Strike Loss': 0.07974911481142044, 'Infinity Strike Loss': 0.0018599536269903183, 'Total Loss': 0.09339599447699468}\n",
      "Epoch 2/3, Losses: {'PDE Loss': 0.00671777428133086, 'Zero Maturity Loss': 0.0005179101135581732, 'Zero Strike Loss': 0.022700630128383636, 'Infinity Strike Loss': 0.004183282610028982, 'Total Loss': 0.03411959713330165}\n",
      "Epoch 3/3, Losses: {'PDE Loss': 0.0030941750726149906, 'Zero Maturity Loss': 0.0017187718767672777, 'Zero Strike Loss': 0.003051427425816655, 'Infinity Strike Loss': 0.014826498925685883, 'Total Loss': 0.022690873300884807}\n",
      "Epoch 1/3, Losses: {'PDE Loss': 0.0010072579431145523, 'Zero Maturity Loss': 0.0008706872467882931, 'Zero Strike Loss': 0.07635173201560974, 'Infinity Strike Loss': 1.0928056326520164e-05, 'Total Loss': 0.07824060526183911}\n",
      "Epoch 2/3, Losses: {'PDE Loss': 0.0035833232924332025, 'Zero Maturity Loss': 0.00043300716788508, 'Zero Strike Loss': 0.028293542563915253, 'Infinity Strike Loss': 0.0020350157283246517, 'Total Loss': 0.034344888752558186}\n",
      "Epoch 3/3, Losses: {'PDE Loss': 0.006546048898633757, 'Zero Maturity Loss': 0.0023277068976312876, 'Zero Strike Loss': 0.005403880961239338, 'Infinity Strike Loss': 0.004800830967724323, 'Total Loss': 0.019078467725228705}\n",
      "Epoch 1/3, Losses: {'PDE Loss': 0.0005859670544677173, 'Zero Maturity Loss': 0.0016580551164224744, 'Zero Strike Loss': 0.07913119345903397, 'Infinity Strike Loss': 0.0014601183356717229, 'Total Loss': 0.08283533396559588}\n",
      "Epoch 2/3, Losses: {'PDE Loss': 0.00025289879914899534, 'Zero Maturity Loss': 0.0008633427787572145, 'Zero Strike Loss': 0.019738350063562393, 'Infinity Strike Loss': 0.01097841840237379, 'Total Loss': 0.0318330100438424}\n",
      "Epoch 3/3, Losses: {'PDE Loss': 0.0018888020814828827, 'Zero Maturity Loss': 0.0013713514199480414, 'Zero Strike Loss': 0.002279650652781129, 'Infinity Strike Loss': 0.007623627781867981, 'Total Loss': 0.013163431936080034}\n",
      "Epoch 1/3, Losses: {'PDE Loss': 0.0010931751924369375, 'Zero Maturity Loss': 0.0008226208155974746, 'Zero Strike Loss': 0.05024654045701027, 'Infinity Strike Loss': 0.004038059618324041, 'Total Loss': 0.05620039608336872}\n",
      "Epoch 2/3, Losses: {'PDE Loss': 2.515738103606131e-05, 'Zero Maturity Loss': 0.0014780228957533836, 'Zero Strike Loss': 0.01919814758002758, 'Infinity Strike Loss': 0.0012047092895954847, 'Total Loss': 0.02190603714641251}\n",
      "Epoch 3/3, Losses: {'PDE Loss': 0.0008422721486446399, 'Zero Maturity Loss': 0.0054739308543503284, 'Zero Strike Loss': 0.0021114260889589787, 'Infinity Strike Loss': 0.001413519261404872, 'Total Loss': 0.009841148353358819}\n",
      "Epoch 1/3, Losses: {'PDE Loss': 0.00020257618697426782, 'Zero Maturity Loss': 0.0021550587844103575, 'Zero Strike Loss': 0.09525777399539948, 'Infinity Strike Loss': 0.019934725016355515, 'Total Loss': 0.11755013398313961}\n",
      "Epoch 2/3, Losses: {'PDE Loss': 0.0009580347235949973, 'Zero Maturity Loss': 0.0006690413574688137, 'Zero Strike Loss': 0.03586128354072571, 'Infinity Strike Loss': 3.907642530975863e-05, 'Total Loss': 0.03752743604709928}\n",
      "Epoch 3/3, Losses: {'PDE Loss': 0.0026199802253637867, 'Zero Maturity Loss': 0.0015047428896650672, 'Zero Strike Loss': 0.007880808785557747, 'Infinity Strike Loss': 0.014278855174779892, 'Total Loss': 0.026284387075366494}\n",
      "Epoch 1/3, Losses: {'PDE Loss': 0.0017291968086652677, 'Zero Maturity Loss': 0.0006577521562576294, 'Zero Strike Loss': 0.04156512767076492, 'Infinity Strike Loss': 0.003207353176549077, 'Total Loss': 0.0471594298122369}\n",
      "Epoch 2/3, Losses: {'PDE Loss': 0.0004974935895514726, 'Zero Maturity Loss': 0.0013960300711914897, 'Zero Strike Loss': 0.007602862548083067, 'Infinity Strike Loss': 0.00509711354970932, 'Total Loss': 0.014593499758535348}\n",
      "Epoch 3/3, Losses: {'PDE Loss': 0.003111376909892618, 'Zero Maturity Loss': 0.00604367908090353, 'Zero Strike Loss': 0.00040777609683573246, 'Infinity Strike Loss': 0.00023641272855456918, 'Total Loss': 0.00979924481618645}\n",
      "Epoch 1/3, Losses: {'PDE Loss': 0.00013670077659908798, 'Zero Maturity Loss': 0.0012215786846354604, 'Zero Strike Loss': 0.07878082990646362, 'Infinity Strike Loss': 1.3076773939246777e-05, 'Total Loss': 0.08015218614163742}\n",
      "Epoch 2/3, Losses: {'PDE Loss': 0.0010537845651179992, 'Zero Maturity Loss': 0.0006705151172354817, 'Zero Strike Loss': 0.025073440745472908, 'Infinity Strike Loss': 0.004973203409463167, 'Total Loss': 0.03177094383728955}\n",
      "Epoch 3/3, Losses: {'PDE Loss': 0.0015193251127719673, 'Zero Maturity Loss': 0.001180112361907959, 'Zero Strike Loss': 0.0030534553807228804, 'Infinity Strike Loss': 0.008100951090455055, 'Total Loss': 0.013853843945857862}\n",
      "Epoch 1/3, Losses: {'PDE Loss': 0.00020144940037857434, 'Zero Maturity Loss': 0.0004022825451102108, 'Zero Strike Loss': 0.0633474588394165, 'Infinity Strike Loss': 0.00015432105283252895, 'Total Loss': 0.06410551183773781}\n",
      "Epoch 2/3, Losses: {'PDE Loss': 0.007534011080297495, 'Zero Maturity Loss': 0.0010796445421874523, 'Zero Strike Loss': 0.014544760808348656, 'Infinity Strike Loss': 0.0164759811013937, 'Total Loss': 0.039634397532227306}\n",
      "Epoch 3/3, Losses: {'PDE Loss': 0.005702242337817269, 'Zero Maturity Loss': 0.0014530876651406288, 'Zero Strike Loss': 0.004836521577090025, 'Infinity Strike Loss': 0.009226800873875618, 'Total Loss': 0.021218652453923542}\n",
      "Epoch 1/3, Losses: {'PDE Loss': 0.00024293253601581028, 'Zero Maturity Loss': 0.0010193242924287915, 'Zero Strike Loss': 0.06519024074077606, 'Infinity Strike Loss': 0.010530042462050915, 'Total Loss': 0.07698254003127158}\n",
      "Epoch 2/3, Losses: {'PDE Loss': 0.004711300856537472, 'Zero Maturity Loss': 0.0018686840776354074, 'Zero Strike Loss': 0.02623024769127369, 'Infinity Strike Loss': 0.002709535649046302, 'Total Loss': 0.03551976827449287}\n",
      "Epoch 3/3, Losses: {'PDE Loss': 0.006410366820592175, 'Zero Maturity Loss': 0.008721787482500076, 'Zero Strike Loss': 0.0062006753869354725, 'Infinity Strike Loss': 0.0008254903950728476, 'Total Loss': 0.02215832008510057}\n",
      "Epoch 1/3, Losses: {'PDE Loss': 0.003913659651311132, 'Zero Maturity Loss': 0.00046240369556471705, 'Zero Strike Loss': 0.06062404438853264, 'Infinity Strike Loss': 0.000300395127851516, 'Total Loss': 0.06530050286326}\n",
      "Epoch 2/3, Losses: {'PDE Loss': 0.0015082153364016236, 'Zero Maturity Loss': 0.0007797466823831201, 'Zero Strike Loss': 0.016144635155797005, 'Infinity Strike Loss': 0.012389606796205044, 'Total Loss': 0.03082220397078679}\n",
      "Epoch 3/3, Losses: {'PDE Loss': 0.00026100995066624856, 'Zero Maturity Loss': 0.00203570700250566, 'Zero Strike Loss': 0.0031996360048651695, 'Infinity Strike Loss': 0.00871594063937664, 'Total Loss': 0.014212293597413718}\n",
      "Epoch 1/3, Losses: {'PDE Loss': 0.0002460591569652807, 'Zero Maturity Loss': 0.0018113873666152358, 'Zero Strike Loss': 0.06556134670972824, 'Infinity Strike Loss': 0.0013984935358166695, 'Total Loss': 0.06901728676912543}\n",
      "Epoch 2/3, Losses: {'PDE Loss': 0.0011904885290935816, 'Zero Maturity Loss': 0.0011004870757460594, 'Zero Strike Loss': 0.02218579314649105, 'Infinity Strike Loss': 0.004192180931568146, 'Total Loss': 0.028668949682898837}\n",
      "Epoch 3/3, Losses: {'PDE Loss': 0.002695581834232842, 'Zero Maturity Loss': 0.0027354613412171602, 'Zero Strike Loss': 0.0035882783122360706, 'Infinity Strike Loss': 0.012833770364522934, 'Total Loss': 0.021853091852209006}\n",
      "Epoch 1/3, Losses: {'PDE Loss': 0.0011297882319481808, 'Zero Maturity Loss': 0.0020201867446303368, 'Zero Strike Loss': 0.07206112146377563, 'Infinity Strike Loss': 0.0005238897865638137, 'Total Loss': 0.07573498622691796}\n",
      "Epoch 2/3, Losses: {'PDE Loss': 0.0011074479633415028, 'Zero Maturity Loss': 0.0003827004402410239, 'Zero Strike Loss': 0.029208267107605934, 'Infinity Strike Loss': 0.002430272288620472, 'Total Loss': 0.03312868779980893}\n",
      "Epoch 3/3, Losses: {'PDE Loss': 0.0007940995633123156, 'Zero Maturity Loss': 0.002569351578131318, 'Zero Strike Loss': 0.008299590088427067, 'Infinity Strike Loss': 0.001967553049325943, 'Total Loss': 0.013630594279196644}\n",
      "Epoch 1/3, Losses: {'PDE Loss': 0.0011163417512920922, 'Zero Maturity Loss': 0.0015330531168729067, 'Zero Strike Loss': 0.08751904964447021, 'Infinity Strike Loss': 4.414549403009005e-05, 'Total Loss': 0.0902125900066653}\n",
      "Epoch 2/3, Losses: {'PDE Loss': 4.7233132901462926e-05, 'Zero Maturity Loss': 0.00046528250095434487, 'Zero Strike Loss': 0.03464973717927933, 'Infinity Strike Loss': 0.0040116379968822, 'Total Loss': 0.039173890810017334}\n",
      "Epoch 3/3, Losses: {'PDE Loss': 0.0006869603660844044, 'Zero Maturity Loss': 0.003690236248075962, 'Zero Strike Loss': 0.008068160153925419, 'Infinity Strike Loss': 0.006431269459426403, 'Total Loss': 0.01887662622751219}\n",
      "Epoch 1/3, Losses: {'PDE Loss': 0.004504042514041029, 'Zero Maturity Loss': 0.001170313567854464, 'Zero Strike Loss': 0.047823820263147354, 'Infinity Strike Loss': 0.009691971354186535, 'Total Loss': 0.06319014769922938}\n",
      "Epoch 2/3, Losses: {'PDE Loss': 0.0001143953724897395, 'Zero Maturity Loss': 0.0007063025841489434, 'Zero Strike Loss': 0.027953049167990685, 'Infinity Strike Loss': 0.001003765850327909, 'Total Loss': 0.029777512974957277}\n",
      "Epoch 3/3, Losses: {'PDE Loss': 0.0022230516706799896, 'Zero Maturity Loss': 0.002244748640805483, 'Zero Strike Loss': 0.008657613769173622, 'Infinity Strike Loss': 0.0007259551202878356, 'Total Loss': 0.01385136920094693}\n",
      "Epoch 1/3, Losses: {'PDE Loss': 0.0008556994808680739, 'Zero Maturity Loss': 0.0008267380180768669, 'Zero Strike Loss': 0.0869622752070427, 'Infinity Strike Loss': 0.0010853088460862637, 'Total Loss': 0.0897300215520739}\n",
      "Epoch 2/3, Losses: {'PDE Loss': 0.007464669347728831, 'Zero Maturity Loss': 0.0009321356192231178, 'Zero Strike Loss': 0.016921142116189003, 'Infinity Strike Loss': 0.011685668490827084, 'Total Loss': 0.037003615573968036}\n",
      "Epoch 3/3, Losses: {'PDE Loss': 0.011795841449413067, 'Zero Maturity Loss': 0.001953009283170104, 'Zero Strike Loss': 0.0013834730489179492, 'Infinity Strike Loss': 0.015386855229735374, 'Total Loss': 0.030519179011236495}\n",
      "Epoch 1/3, Losses: {'PDE Loss': 0.0007062694736890368, 'Zero Maturity Loss': 0.0012926574563607574, 'Zero Strike Loss': 0.08503676950931549, 'Infinity Strike Loss': 0.0040674107149243355, 'Total Loss': 0.09110310715428963}\n",
      "Epoch 2/3, Losses: {'PDE Loss': 0.004724269524365324, 'Zero Maturity Loss': 0.0014184500323608518, 'Zero Strike Loss': 0.01742330938577652, 'Infinity Strike Loss': 0.013991208747029305, 'Total Loss': 0.037557237689532}\n",
      "Epoch 3/3, Losses: {'PDE Loss': 0.00999651007565755, 'Zero Maturity Loss': 0.0016646945150569081, 'Zero Strike Loss': 0.0015582159394398332, 'Infinity Strike Loss': 0.022479841485619545, 'Total Loss': 0.035699262015773836}\n",
      "Epoch 1/3, Losses: {'PDE Loss': 0.0036519638226086256, 'Zero Maturity Loss': 0.0016154043842107058, 'Zero Strike Loss': 0.09001808613538742, 'Infinity Strike Loss': 0.004076991695910692, 'Total Loss': 0.09936244603811745}\n",
      "Epoch 2/3, Losses: {'PDE Loss': 6.624880853251461e-05, 'Zero Maturity Loss': 0.0009598606848157942, 'Zero Strike Loss': 0.043112240731716156, 'Infinity Strike Loss': 0.00021873257355764508, 'Total Loss': 0.04435708279862211}\n",
      "Epoch 3/3, Losses: {'PDE Loss': 0.0023022959620180106, 'Zero Maturity Loss': 0.0015584221109747887, 'Zero Strike Loss': 0.014923986047506332, 'Infinity Strike Loss': 0.005614751949906349, 'Total Loss': 0.02439945607040548}\n",
      "Epoch 1/3, Losses: {'PDE Loss': 1.5752811606526615e-05, 'Zero Maturity Loss': 0.0012246044352650642, 'Zero Strike Loss': 0.08943653851747513, 'Infinity Strike Loss': 3.120201427009306e-06, 'Total Loss': 0.09068001596577373}\n",
      "Epoch 2/3, Losses: {'PDE Loss': 0.002014608609952943, 'Zero Maturity Loss': 0.0006053102551959455, 'Zero Strike Loss': 0.02496250718832016, 'Infinity Strike Loss': 0.007306497078388929, 'Total Loss': 0.03488892313185798}\n",
      "Epoch 3/3, Losses: {'PDE Loss': 0.00457863454439099, 'Zero Maturity Loss': 0.0015136718284338713, 'Zero Strike Loss': 0.00391362002119422, 'Infinity Strike Loss': 0.009835860691964626, 'Total Loss': 0.019841787085983706}\n",
      "Epoch 1/3, Losses: {'PDE Loss': 0.0011271289659201989, 'Zero Maturity Loss': 0.0005352061125449836, 'Zero Strike Loss': 0.07358498871326447, 'Infinity Strike Loss': 0.00022421385801862925, 'Total Loss': 0.07547153764974827}\n",
      "Epoch 2/3, Losses: {'PDE Loss': 9.151536267016635e-05, 'Zero Maturity Loss': 0.0006208419799804688, 'Zero Strike Loss': 0.024995338171720505, 'Infinity Strike Loss': 0.008518960326910019, 'Total Loss': 0.03422665584128116}\n",
      "Epoch 3/3, Losses: {'PDE Loss': 0.0009561532797251573, 'Zero Maturity Loss': 0.0017773425206542015, 'Zero Strike Loss': 0.005352603271603584, 'Infinity Strike Loss': 0.008359930478036404, 'Total Loss': 0.016446029550019347}\n",
      "Epoch 1/3, Losses: {'PDE Loss': 0.010685039344914255, 'Zero Maturity Loss': 0.001024750410579145, 'Zero Strike Loss': 0.04024490714073181, 'Infinity Strike Loss': 0.017124071717262268, 'Total Loss': 0.06907876861348748}\n",
      "Epoch 2/3, Losses: {'PDE Loss': 0.0003223631509986501, 'Zero Maturity Loss': 0.0013945000246167183, 'Zero Strike Loss': 0.026109347119927406, 'Infinity Strike Loss': 9.810566552914679e-05, 'Total Loss': 0.02792431596107192}\n",
      "Epoch 3/3, Losses: {'PDE Loss': 0.0029187605229775413, 'Zero Maturity Loss': 0.0027036061510443687, 'Zero Strike Loss': 0.007063830737024546, 'Infinity Strike Loss': 0.0001061254515661858, 'Total Loss': 0.012792322862612641}\n",
      "Epoch 1/3, Losses: {'PDE Loss': 0.00027965645452063275, 'Zero Maturity Loss': 0.0018508756766095757, 'Zero Strike Loss': 0.11574230343103409, 'Infinity Strike Loss': 0.00514238141477108, 'Total Loss': 0.12301521697693538}\n",
      "Epoch 2/3, Losses: {'PDE Loss': 0.00018145176525436596, 'Zero Maturity Loss': 0.0002741007483564317, 'Zero Strike Loss': 0.04010570049285889, 'Infinity Strike Loss': 0.0013324536848813295, 'Total Loss': 0.041893706691351014}\n",
      "Epoch 3/3, Losses: {'PDE Loss': 0.0004669838006323976, 'Zero Maturity Loss': 0.002228138502687216, 'Zero Strike Loss': 0.006563935894519091, 'Infinity Strike Loss': 0.009206266142427921, 'Total Loss': 0.018465324340266626}\n",
      "Epoch 1/3, Losses: {'PDE Loss': 0.014142675125214476, 'Zero Maturity Loss': 0.001323029980994761, 'Zero Strike Loss': 0.08117391914129257, 'Infinity Strike Loss': 0.011830153875052929, 'Total Loss': 0.10846977812255473}\n",
      "Epoch 2/3, Losses: {'PDE Loss': 0.006665233913378469, 'Zero Maturity Loss': 0.00028184414259158075, 'Zero Strike Loss': 0.03617798909544945, 'Infinity Strike Loss': 0.0005516205565072596, 'Total Loss': 0.04367668770792676}\n",
      "Epoch 3/3, Losses: {'PDE Loss': 0.003925962357489838, 'Zero Maturity Loss': 0.00043826468754559755, 'Zero Strike Loss': 0.009898314252495766, 'Infinity Strike Loss': 0.009646385908126831, 'Total Loss': 0.023908927205658032}\n",
      "Epoch 1/3, Losses: {'PDE Loss': 0.0003949709424249576, 'Zero Maturity Loss': 0.0020215087570250034, 'Zero Strike Loss': 0.10810652375221252, 'Infinity Strike Loss': 0.005260872654616833, 'Total Loss': 0.11578387610627931}\n",
      "Epoch 2/3, Losses: {'PDE Loss': 0.0018844198426314553, 'Zero Maturity Loss': 0.0003329660976305604, 'Zero Strike Loss': 0.04125969856977463, 'Infinity Strike Loss': 0.00047337618889287114, 'Total Loss': 0.043950460698929515}\n",
      "Epoch 3/3, Losses: {'PDE Loss': 0.0032559011214416214, 'Zero Maturity Loss': 0.0017377890180796385, 'Zero Strike Loss': 0.008325101807713509, 'Infinity Strike Loss': 0.005448382813483477, 'Total Loss': 0.018767174760718243}\n",
      "Epoch 1/3, Losses: {'PDE Loss': 0.0003440310751237909, 'Zero Maturity Loss': 0.0008858126238919795, 'Zero Strike Loss': 0.08509060740470886, 'Infinity Strike Loss': 0.00048418468213640153, 'Total Loss': 0.08680463578586103}\n",
      "Epoch 2/3, Losses: {'PDE Loss': 0.0004702581171987839, 'Zero Maturity Loss': 0.00043311616173014045, 'Zero Strike Loss': 0.03277869150042534, 'Infinity Strike Loss': 0.0051103574223816395, 'Total Loss': 0.038792423201735905}\n",
      "Epoch 3/3, Losses: {'PDE Loss': 0.002477687304327716, 'Zero Maturity Loss': 0.001589683466590941, 'Zero Strike Loss': 0.008702786639332771, 'Infinity Strike Loss': 0.003990903962403536, 'Total Loss': 0.016761061372654963}\n",
      "Epoch 1/3, Losses: {'PDE Loss': 0.0018269587772755445, 'Zero Maturity Loss': 0.001888170256279409, 'Zero Strike Loss': 0.07158924639225006, 'Infinity Strike Loss': 0.004644010681658983, 'Total Loss': 0.07994838610746399}\n",
      "Epoch 2/3, Losses: {'PDE Loss': 4.806173971605104e-05, 'Zero Maturity Loss': 0.0008996475371532142, 'Zero Strike Loss': 0.017359506338834763, 'Infinity Strike Loss': 0.005209349561482668, 'Total Loss': 0.023516565177186696}\n",
      "Epoch 3/3, Losses: {'PDE Loss': 0.0009340711049304893, 'Zero Maturity Loss': 0.008071815595030785, 'Zero Strike Loss': 0.0006833774386905134, 'Infinity Strike Loss': 0.000995627255178988, 'Total Loss': 0.010684891393830775}\n",
      "Epoch 1/3, Losses: {'PDE Loss': 0.0007959451006278412, 'Zero Maturity Loss': 0.0006062625325284898, 'Zero Strike Loss': 0.05931602418422699, 'Infinity Strike Loss': 5.990494173602201e-06, 'Total Loss': 0.06072422231155692}\n",
      "Epoch 2/3, Losses: {'PDE Loss': 0.0003695328767187955, 'Zero Maturity Loss': 0.0010331036755815148, 'Zero Strike Loss': 0.017391424626111984, 'Infinity Strike Loss': 0.007563500665128231, 'Total Loss': 0.026357561843540527}\n",
      "Epoch 3/3, Losses: {'PDE Loss': 0.001708696977305464, 'Zero Maturity Loss': 0.003646814962849021, 'Zero Strike Loss': 0.002312486292794347, 'Infinity Strike Loss': 0.007636715658009052, 'Total Loss': 0.015304713890957885}\n",
      "Epoch 1/3, Losses: {'PDE Loss': 0.006973171267087717, 'Zero Maturity Loss': 0.0012492197565734386, 'Zero Strike Loss': 0.0857820138335228, 'Infinity Strike Loss': 0.0003798487887252122, 'Total Loss': 0.09438425364590916}\n",
      "Epoch 2/3, Losses: {'PDE Loss': 0.003670721081360893, 'Zero Maturity Loss': 0.001264427904970944, 'Zero Strike Loss': 0.02835121378302574, 'Infinity Strike Loss': 0.009887507185339928, 'Total Loss': 0.043173869954697505}\n",
      "Epoch 3/3, Losses: {'PDE Loss': 0.0005633931921214091, 'Zero Maturity Loss': 0.0037648770958185196, 'Zero Strike Loss': 0.007141491863876581, 'Infinity Strike Loss': 0.010030725039541721, 'Total Loss': 0.02150048719135823}\n",
      "Epoch 1/3, Losses: {'PDE Loss': 0.005198729140587149, 'Zero Maturity Loss': 0.0011480447137728333, 'Zero Strike Loss': 0.08470325917005539, 'Infinity Strike Loss': 0.0026167812757194042, 'Total Loss': 0.09366681430013478}\n",
      "Epoch 2/3, Losses: {'PDE Loss': 0.005048023340036808, 'Zero Maturity Loss': 0.0010909759439527988, 'Zero Strike Loss': 0.01716502755880356, 'Infinity Strike Loss': 0.00995088741183281, 'Total Loss': 0.03325491425462598}\n",
      "Epoch 3/3, Losses: {'PDE Loss': 0.0042770560788008526, 'Zero Maturity Loss': 0.0016346137272194028, 'Zero Strike Loss': 0.0007980824448168278, 'Infinity Strike Loss': 0.015526523813605309, 'Total Loss': 0.02223627606444239}\n",
      "Epoch 1/3, Losses: {'PDE Loss': 0.006936541049799778, 'Zero Maturity Loss': 0.0037123512011021376, 'Zero Strike Loss': 0.19647863507270813, 'Infinity Strike Loss': 0.011842128820717335, 'Total Loss': 0.21896965614432737}\n",
      "Epoch 2/3, Losses: {'PDE Loss': 0.0005829113900567786, 'Zero Maturity Loss': 0.0007181180408224463, 'Zero Strike Loss': 0.08468043804168701, 'Infinity Strike Loss': 0.0005354534951038659, 'Total Loss': 0.08651692096767011}\n",
      "Epoch 3/3, Losses: {'PDE Loss': 0.000562699318371843, 'Zero Maturity Loss': 0.0008959384867921472, 'Zero Strike Loss': 0.028157925233244896, 'Infinity Strike Loss': 0.0018052003579214215, 'Total Loss': 0.03142176339633031}\n"
     ]
    }
   ],
   "source": [
    "hidden_dim = 64\n",
    "n_layers = 8\n",
    "batch_size = 1000\n",
    "pde_loss_coefficient = 1.0\n",
    "maturity_zero_loss_coefficient = 1.0\n",
    "strike_zero_loss_coefficient = 1.0\n",
    "strike_infinity_loss_coefficient = 1.0\n",
    "pre_train_learning_rate = 1e-3\n",
    "fine_tune_learning_rate = 1e-4\n",
    "pre_train_epochs = 3\n",
    "fine_tune_epochs = 20\n",
    "maturity_min = maturity_time_list.min()\n",
    "maturity_max = maturity_time_list.max()\n",
    "strike_min = strike_price_list.min()\n",
    "strike_max = strike_price_list.max()\n",
    "volatility_mean = np.mean(sampled_volatilities)\n",
    "volatility_std = np.std(sampled_volatilities)\n",
    "strike_infinity = 2.5\n",
    "device = 'cpu'\n",
    "\n",
    "init_loss = pd.DataFrame()\n",
    "\n",
    "for i in range(100):\n",
    "    # Initialize the DupirePINNTrainer class\n",
    "    trainer = DupirePINNTrainer(\n",
    "        hidden_dim=hidden_dim,\n",
    "        n_layers=n_layers,\n",
    "        batch_size=batch_size,\n",
    "        pde_loss_coefficient=pde_loss_coefficient,\n",
    "        maturity_zero_loss_coefficient=maturity_zero_loss_coefficient,\n",
    "        strike_zero_loss_coefficient=strike_zero_loss_coefficient,\n",
    "        strike_infinity_loss_coefficient=strike_infinity_loss_coefficient,\n",
    "        pre_train_learning_rate=pre_train_learning_rate,\n",
    "        fine_tune_learning_rate=fine_tune_learning_rate,\n",
    "        pre_train_epochs=pre_train_epochs,\n",
    "        fine_tune_epochs=fine_tune_epochs,\n",
    "        maturity_min=maturity_min,\n",
    "        maturity_max=maturity_max,\n",
    "        strike_min=strike_min,\n",
    "        strike_max=strike_max,\n",
    "        volatility_mean=volatility_mean,\n",
    "        volatility_std=volatility_std,\n",
    "        maturity_time_list=maturity_time_list,\n",
    "        strike_price_list=strike_price_list,\n",
    "        strike_std=strike_std,\n",
    "        maturity_std=maturity_std,\n",
    "        constant_volatility=constant_volatility,\n",
    "        strike_infinity=strike_infinity,\n",
    "        device=device\n",
    "    )\n",
    "\n",
    "    trainer.pre_train_with_sampling(\n",
    "        smoothness_prior=smoothness_prior,\n",
    "        experiment_name='test 1'\n",
    "    )\n",
    "\n",
    "    init_loss = pd.concat([init_loss, pd.DataFrame(trainer.pre_train_loss_history)], ignore_index=True)"
   ]
  },
  {
   "cell_type": "code",
   "execution_count": 9,
   "metadata": {},
   "outputs": [
    {
     "data": {
      "text/plain": [
       "PDE Loss                669.968491\n",
       "Zero Maturity Loss      807.705610\n",
       "Zero Strike Loss         40.657232\n",
       "Infinity Strike Loss    214.460410\n",
       "Total Loss               28.121991\n",
       "dtype: float64"
      ]
     },
     "execution_count": 9,
     "metadata": {},
     "output_type": "execute_result"
    }
   ],
   "source": [
    "(1 / init_loss).median()"
   ]
  },
  {
   "cell_type": "code",
   "execution_count": 15,
   "metadata": {},
   "outputs": [
    {
     "name": "stdout",
     "output_type": "stream",
     "text": [
      "Epoch 1/50, Losses: {'PDE Loss': 0.0004171239513370085, 'Zero Maturity Loss': 0.0014480884419754148, 'Zero Strike Loss': 0.09133216738700867, 'Infinity Strike Loss': 0.001400470151565969, 'Total Loss': 5.3629820412236695}\n",
      "Epoch 2/50, Losses: {'PDE Loss': 0.0005872083428438723, 'Zero Maturity Loss': 0.0022176974453032017, 'Zero Strike Loss': 0.07616167515516281, 'Infinity Strike Loss': 0.005423577502369881, 'Total Loss': 6.287025975178534}\n",
      "Epoch 3/50, Losses: {'PDE Loss': 0.00019235142641727443, 'Zero Maturity Loss': 0.000983705511316657, 'Zero Strike Loss': 0.05192262679338455, 'Infinity Strike Loss': 1.0497418770682998e-05, 'Total Loss': 2.9909973395454568}\n",
      "Epoch 4/50, Losses: {'PDE Loss': 0.00010629146007782897, 'Zero Maturity Loss': 0.00045059804688207805, 'Zero Strike Loss': 0.03426019474864006, 'Infinity Strike Loss': 0.005504703614860773, 'Total Loss': 2.900916404130621}\n",
      "Epoch 5/50, Losses: {'PDE Loss': 0.00018036371417633735, 'Zero Maturity Loss': 0.0005344215896911919, 'Zero Strike Loss': 0.02600833959877491, 'Infinity Strike Loss': 0.009870466776192188, 'Total Loss': 3.5592006232943616}\n",
      "Epoch 6/50, Losses: {'PDE Loss': 0.00014197240354419063, 'Zero Maturity Loss': 0.00043420272413641214, 'Zero Strike Loss': 0.024043912068009377, 'Infinity Strike Loss': 0.007070507854223251, 'Total Loss': 2.815502321254911}\n",
      "Epoch 7/50, Losses: {'PDE Loss': 0.0001535772502130727, 'Zero Maturity Loss': 0.00038724971818737686, 'Zero Strike Loss': 0.02492290735244751, 'Infinity Strike Loss': 0.002642778679728508, 'Total Loss': 1.9350970181633234}\n",
      "Epoch 8/50, Losses: {'PDE Loss': 0.0002294784962866358, 'Zero Maturity Loss': 0.0005276508163660765, 'Zero Strike Loss': 0.026802310720086098, 'Infinity Strike Loss': 0.0002995748654939234, 'Total Loss': 1.703289069665161}\n",
      "Epoch 9/50, Losses: {'PDE Loss': 0.00026324045422054473, 'Zero Maturity Loss': 0.0006848474149592221, 'Zero Strike Loss': 0.02810392715036869, 'Infinity Strike Loss': 7.871235720813274e-05, 'Total Loss': 1.8588837455515579}\n",
      "Epoch 10/50, Losses: {'PDE Loss': 0.00021846698246211015, 'Zero Maturity Loss': 0.0006898156716488302, 'Zero Strike Loss': 0.027663255110383034, 'Infinity Strike Loss': 0.0003021705779246986, 'Total Loss': 1.8608203665830358}\n",
      "Epoch 11/50, Losses: {'PDE Loss': 0.00015083314448368187, 'Zero Maturity Loss': 0.00046518901945091784, 'Zero Strike Loss': 0.025369012728333473, 'Infinity Strike Loss': 0.00012573300045914948, 'Total Loss': 1.510099863810853}\n",
      "Epoch 12/50, Losses: {'PDE Loss': 0.0001416502433586416, 'Zero Maturity Loss': 0.00022017283481545746, 'Zero Strike Loss': 0.021737124770879745, 'Infinity Strike Loss': 2.3924088964122348e-05, 'Total Loss': 1.142480763549049}\n",
      "Epoch 13/50, Losses: {'PDE Loss': 0.00021362330293629245, 'Zero Maturity Loss': 0.00013764678442385048, 'Zero Strike Loss': 0.017509911209344864, 'Infinity Strike Loss': 0.0005666227079927921, 'Total Loss': 1.062693531358072}\n",
      "Epoch 14/50, Losses: {'PDE Loss': 0.0003028855439473616, 'Zero Maturity Loss': 0.00019967085972893983, 'Zero Strike Loss': 0.013511261902749538, 'Infinity Strike Loss': 0.001422140165232122, 'Total Loss': 1.1814907804819075}\n",
      "Epoch 15/50, Losses: {'PDE Loss': 0.0003480576926933829, 'Zero Maturity Loss': 0.00022690865444019437, 'Zero Strike Loss': 0.010405084118247032, 'Infinity Strike Loss': 0.0016135049518197775, 'Total Loss': 1.1466687863472718}\n",
      "Epoch 16/50, Losses: {'PDE Loss': 0.00037804894519759144, 'Zero Maturity Loss': 0.00016108299314510077, 'Zero Strike Loss': 0.008305307477712631, 'Infinity Strike Loss': 0.0009536221041344106, 'Total Loss': 0.8975349204479992}\n",
      "Epoch 17/50, Losses: {'PDE Loss': 0.0003850540903521246, 'Zero Maturity Loss': 0.00012023258022964001, 'Zero Strike Loss': 0.0069388775154948235, 'Infinity Strike Loss': 0.00020110205514356494, 'Total Loss': 0.6642467406146957}\n",
      "Epoch 18/50, Losses: {'PDE Loss': 0.0004333703257208152, 'Zero Maturity Loss': 0.00019124092068523169, 'Zero Strike Loss': 0.00586992921307683, 'Infinity Strike Loss': 1.3150325685273856e-05, 'Total Loss': 0.6721106819850509}\n",
      "Epoch 19/50, Losses: {'PDE Loss': 0.0004788033231477488, 'Zero Maturity Loss': 0.00028977676993235946, 'Zero Strike Loss': 0.0047233751974999905, 'Infinity Strike Loss': 0.00021667074179276824, 'Total Loss': 0.7753127383040743}\n",
      "Epoch 20/50, Losses: {'PDE Loss': 0.0005348798129212285, 'Zero Maturity Loss': 0.00027583769406192005, 'Zero Strike Loss': 0.0033842138946056366, 'Infinity Strike Loss': 0.00023724741186015308, 'Total Loss': 0.7511600636555181}\n",
      "Epoch 21/50, Losses: {'PDE Loss': 0.0005166404742782282, 'Zero Maturity Loss': 0.00016702857101336122, 'Zero Strike Loss': 0.0020955270156264305, 'Infinity Strike Loss': 4.6610723074991256e-05, 'Total Loss': 0.5625823888764012}\n",
      "Epoch 22/50, Losses: {'PDE Loss': 0.0005250999757416369, 'Zero Maturity Loss': 0.00010224666766589507, 'Zero Strike Loss': 0.0011627845233306289, 'Infinity Strike Loss': 5.6193199270637706e-05, 'Total Loss': 0.48086233784246035}\n",
      "Epoch 23/50, Losses: {'PDE Loss': 0.00046563551718140604, 'Zero Maturity Loss': 0.00013527389091905206, 'Zero Strike Loss': 0.0007213584613054991, 'Infinity Strike Loss': 0.00028929178370162845, 'Total Loss': 0.49759488943908836}\n",
      "Epoch 24/50, Losses: {'PDE Loss': 0.00042735934137740376, 'Zero Maturity Loss': 0.00015429334598593414, 'Zero Strike Loss': 0.0006746512954123318, 'Infinity Strike Loss': 0.000308170507196337, 'Total Loss': 0.4898384019398204}\n",
      "Epoch 25/50, Losses: {'PDE Loss': 0.00036942185846563054, 'Zero Maturity Loss': 0.00010094893514178693, 'Zero Strike Loss': 0.0009076109854504466, 'Infinity Strike Loss': 8.773487206781283e-05, 'Total Loss': 0.3747347677939864}\n",
      "Epoch 26/50, Losses: {'PDE Loss': 0.00034202901226166736, 'Zero Maturity Loss': 7.048090628813952e-05, 'Zero Strike Loss': 0.0012429957278072834, 'Infinity Strike Loss': 8.32502992125228e-05, 'Total Loss': 0.3450734709076534}\n",
      "Epoch 27/50, Losses: {'PDE Loss': 0.00027533741623290785, 'Zero Maturity Loss': 9.463565947953612e-05, 'Zero Strike Loss': 0.001367267919704318, 'Infinity Strike Loss': 0.00030696933390572667, 'Total Loss': 0.3707624382235951}\n",
      "Epoch 28/50, Losses: {'PDE Loss': 0.00020590289683050422, 'Zero Maturity Loss': 9.119095921050757e-05, 'Zero Strike Loss': 0.0010690352646633983, 'Infinity Strike Loss': 0.0002956360694952309, 'Total Loss': 0.3086782794504288}\n",
      "Epoch 29/50, Losses: {'PDE Loss': 0.00020901641227390728, 'Zero Maturity Loss': 7.786247442709282e-05, 'Zero Strike Loss': 0.0005600552540272474, 'Infinity Strike Loss': 8.84950059116818e-05, 'Total Loss': 0.23825185880493258}\n",
      "Epoch 30/50, Losses: {'PDE Loss': 0.0002329712252653354, 'Zero Maturity Loss': 0.00011562362487893552, 'Zero Strike Loss': 0.00020357640460133553, 'Infinity Strike Loss': 4.8087211325764656e-05, 'Total Loss': 0.2616906933778389}\n",
      "Epoch 31/50, Losses: {'PDE Loss': 0.00023273398148156816, 'Zero Maturity Loss': 0.00012861154391430318, 'Zero Strike Loss': 7.937593181850389e-05, 'Infinity Strike Loss': 9.866764594335109e-05, 'Total Loss': 0.2770748870529428}\n",
      "Epoch 32/50, Losses: {'PDE Loss': 0.0001705490451136738, 'Zero Maturity Loss': 9.485833288636059e-05, 'Zero Strike Loss': 6.0387297708075494e-05, 'Infinity Strike Loss': 6.075112833059393e-05, 'Total Loss': 0.20130926329472973}\n",
      "Epoch 33/50, Losses: {'PDE Loss': 0.00012209835894939452, 'Zero Maturity Loss': 0.00011032121255993843, 'Zero Strike Loss': 6.993206625338644e-05, 'Infinity Strike Loss': 5.5252909078262746e-05, 'Total Loss': 0.18146876806367584}\n",
      "Epoch 34/50, Losses: {'PDE Loss': 0.00012026219187524855, 'Zero Maturity Loss': 0.00015840707055758685, 'Zero Strike Loss': 6.5887528762687e-05, 'Infinity Strike Loss': 8.187680941773579e-05, 'Total Loss': 0.22390694559601954}\n",
      "Epoch 35/50, Losses: {'PDE Loss': 0.00012728411855644284, 'Zero Maturity Loss': 0.00014123789151199162, 'Zero Strike Loss': 3.5967834264738485e-05, 'Infinity Strike Loss': 5.388839417719282e-05, 'Total Loss': 0.20794138201164797}\n",
      "Epoch 36/50, Losses: {'PDE Loss': 0.00010550004900423908, 'Zero Maturity Loss': 0.00010583283437881619, 'Zero Strike Loss': 1.99700389202917e-05, 'Infinity Strike Loss': 0.00011873403855133802, 'Total Loss': 0.1777869075605978}\n",
      "Epoch 37/50, Losses: {'PDE Loss': 9.398695639542225e-05, 'Zero Maturity Loss': 0.00012097016588086262, 'Zero Strike Loss': 2.413558104308322e-05, 'Infinity Strike Loss': 0.0002134885871782899, 'Total Loss': 0.20153079666891038}\n",
      "Epoch 38/50, Losses: {'PDE Loss': 9.320199757234972e-05, 'Zero Maturity Loss': 0.0001180269755423069, 'Zero Strike Loss': 3.9671751437708735e-05, 'Infinity Strike Loss': 0.0001251049106940627, 'Total Loss': 0.1816107319835163}\n",
      "Epoch 39/50, Losses: {'PDE Loss': 7.582741213317281e-05, 'Zero Maturity Loss': 0.00011311897833365947, 'Zero Strike Loss': 9.836798562901095e-05, 'Infinity Strike Loss': 3.4593282180139795e-05, 'Total Loss': 0.15063637819001197}\n",
      "Epoch 40/50, Losses: {'PDE Loss': 6.773906929117765e-05, 'Zero Maturity Loss': 0.00013521181244868785, 'Zero Strike Loss': 0.00017206529446411878, 'Infinity Strike Loss': 8.821844676276669e-05, 'Total Loss': 0.17672614816660198}\n",
      "Epoch 41/50, Losses: {'PDE Loss': 6.160421522848438e-05, 'Zero Maturity Loss': 0.00012931307719554752, 'Zero Strike Loss': 0.0001742368913255632, 'Infinity Strike Loss': 8.38224877952598e-05, 'Total Loss': 0.16722717515806565}\n",
      "Epoch 42/50, Losses: {'PDE Loss': 6.018567669573411e-05, 'Zero Maturity Loss': 0.00011670021194731817, 'Zero Strike Loss': 0.00010918152111116797, 'Infinity Strike Loss': 2.5084451408474706e-05, 'Total Loss': 0.14186501165672083}\n",
      "Epoch 43/50, Losses: {'PDE Loss': 5.4153003281119084e-05, 'Zero Maturity Loss': 0.00013202839181758463, 'Zero Strike Loss': 5.122263974044472e-05, 'Infinity Strike Loss': 4.4557709770742804e-05, 'Total Loss': 0.15178261551707556}\n",
      "Epoch 44/50, Losses: {'PDE Loss': 5.455470415609175e-05, 'Zero Maturity Loss': 0.0001291080261580646, 'Zero Strike Loss': 2.571864752098918e-05, 'Infinity Strike Loss': 4.732486922875978e-05, 'Total Loss': 0.14924069997521353}\n",
      "Epoch 45/50, Losses: {'PDE Loss': 5.4260229511659195e-05, 'Zero Maturity Loss': 0.00011509341129567474, 'Zero Strike Loss': 1.6853273336892016e-05, 'Infinity Strike Loss': 1.9007435184903443e-05, 'Total Loss': 0.1318194965242687}\n",
      "Epoch 46/50, Losses: {'PDE Loss': 5.1976506474146556e-05, 'Zero Maturity Loss': 0.00012534891720861197, 'Zero Strike Loss': 9.460315595788416e-06, 'Infinity Strike Loss': 3.1165451218839735e-05, 'Total Loss': 0.14067536940062758}\n",
      "Epoch 47/50, Losses: {'PDE Loss': 5.961035681015725e-05, 'Zero Maturity Loss': 0.00012650457210838795, 'Zero Strike Loss': 3.7281258755683666e-06, 'Infinity Strike Loss': 2.3585087546962313e-05, 'Total Loss': 0.14481653216682272}\n",
      "Epoch 48/50, Losses: {'PDE Loss': 5.9495970511611206e-05, 'Zero Maturity Loss': 0.00011198727588634938, 'Zero Strike Loss': 1.8043547242996283e-05, 'Infinity Strike Loss': 1.733159297145903e-05, 'Total Loss': 0.13245026061410267}\n",
      "Epoch 49/50, Losses: {'PDE Loss': 6.0797551303680415e-05, 'Zero Maturity Loss': 0.0001157174920081161, 'Zero Strike Loss': 3.9218837628141046e-05, 'Infinity Strike Loss': 4.4621079723583534e-05, 'Total Loss': 0.14258537079254707}\n",
      "Epoch 50/50, Losses: {'PDE Loss': 6.176761615348708e-05, 'Zero Maturity Loss': 0.00011365839600330219, 'Zero Strike Loss': 3.160574851790443e-05, 'Infinity Strike Loss': 2.6917596187558956e-05, 'Total Loss': 0.1377234140795703}\n"
     ]
    }
   ],
   "source": [
    "hidden_dim = 64\n",
    "n_layers = 8\n",
    "batch_size = 1000\n",
    "pde_loss_coefficient = 650.0\n",
    "maturity_zero_loss_coefficient = 800.0\n",
    "strike_zero_loss_coefficient = 40.0\n",
    "strike_infinity_loss_coefficient = 200.0\n",
    "pre_train_learning_rate = 1e-3\n",
    "fine_tune_learning_rate = 1e-4\n",
    "pre_train_epochs = 50\n",
    "fine_tune_epochs = 20\n",
    "maturity_min = maturity_time_list.min()\n",
    "maturity_max = maturity_time_list.max()\n",
    "strike_min = strike_price_list.min()\n",
    "strike_max = strike_price_list.max()\n",
    "volatility_mean = np.mean(sampled_volatilities)\n",
    "volatility_std = np.std(sampled_volatilities)\n",
    "strike_infinity = 2.5\n",
    "device = 'cpu'\n",
    "\n",
    "# Initialize the DupirePINNTrainer class\n",
    "trainer = DupirePINNTrainer(\n",
    "    hidden_dim=hidden_dim,\n",
    "    n_layers=n_layers,\n",
    "    batch_size=batch_size,\n",
    "    pde_loss_coefficient=pde_loss_coefficient,\n",
    "    maturity_zero_loss_coefficient=maturity_zero_loss_coefficient,\n",
    "    strike_zero_loss_coefficient=strike_zero_loss_coefficient,\n",
    "    strike_infinity_loss_coefficient=strike_infinity_loss_coefficient,\n",
    "    pre_train_learning_rate=pre_train_learning_rate,\n",
    "    fine_tune_learning_rate=fine_tune_learning_rate,\n",
    "    pre_train_epochs=pre_train_epochs,\n",
    "    fine_tune_epochs=fine_tune_epochs,\n",
    "    maturity_min=maturity_min,\n",
    "    maturity_max=maturity_max,\n",
    "    strike_min=strike_min,\n",
    "    strike_max=strike_max,\n",
    "    volatility_mean=volatility_mean,\n",
    "    volatility_std=volatility_std,\n",
    "    maturity_time_list=maturity_time_list,\n",
    "    strike_price_list=strike_price_list,\n",
    "    strike_std=strike_std,\n",
    "    maturity_std=maturity_std,\n",
    "    constant_volatility=constant_volatility,\n",
    "    strike_infinity=strike_infinity,\n",
    "    device=device\n",
    ")\n",
    "\n",
    "trainer.pre_train_with_sampling(\n",
    "    smoothness_prior=smoothness_prior,\n",
    "    experiment_name='test 1'\n",
    ")"
   ]
  },
  {
   "cell_type": "code",
   "execution_count": 16,
   "metadata": {},
   "outputs": [
    {
     "data": {
      "application/vnd.plotly.v1+json": {
       "config": {
        "plotlyServerURL": "https://plot.ly"
       },
       "data": [
        {
         "mode": "lines",
         "name": "PDE Loss",
         "type": "scatter",
         "x": [
          0,
          1,
          2,
          3,
          4,
          5,
          6,
          7,
          8,
          9,
          10,
          11,
          12,
          13,
          14,
          15,
          16,
          17,
          18,
          19,
          20,
          21,
          22,
          23,
          24,
          25,
          26,
          27,
          28,
          29,
          30,
          31,
          32,
          33,
          34,
          35,
          36,
          37,
          38,
          39,
          40,
          41,
          42,
          43,
          44,
          45,
          46,
          47,
          48,
          49
         ],
         "xaxis": "x",
         "y": [
          0.0004171239513370085,
          0.0005872083428438723,
          0.00019235142641727443,
          0.00010629146007782897,
          0.00018036371417633735,
          0.00014197240354419063,
          0.0001535772502130727,
          0.0002294784962866358,
          0.00026324045422054473,
          0.00021846698246211015,
          0.00015083314448368187,
          0.0001416502433586416,
          0.00021362330293629245,
          0.0003028855439473616,
          0.0003480576926933829,
          0.00037804894519759144,
          0.0003850540903521246,
          0.0004333703257208152,
          0.0004788033231477488,
          0.0005348798129212285,
          0.0005166404742782282,
          0.0005250999757416369,
          0.00046563551718140604,
          0.00042735934137740376,
          0.00036942185846563054,
          0.00034202901226166736,
          0.00027533741623290785,
          0.00020590289683050422,
          0.00020901641227390728,
          0.0002329712252653354,
          0.00023273398148156816,
          0.0001705490451136738,
          0.00012209835894939452,
          0.00012026219187524855,
          0.00012728411855644284,
          0.00010550004900423908,
          0.00009398695639542225,
          0.00009320199757234972,
          0.00007582741213317281,
          0.00006773906929117765,
          0.00006160421522848438,
          0.00006018567669573411,
          0.000054153003281119084,
          0.00005455470415609175,
          0.000054260229511659195,
          0.000051976506474146556,
          0.00005961035681015725,
          0.000059495970511611206,
          0.000060797551303680415,
          0.00006176761615348708
         ],
         "yaxis": "y"
        },
        {
         "mode": "lines",
         "name": "Zero Maturity Loss",
         "type": "scatter",
         "x": [
          0,
          1,
          2,
          3,
          4,
          5,
          6,
          7,
          8,
          9,
          10,
          11,
          12,
          13,
          14,
          15,
          16,
          17,
          18,
          19,
          20,
          21,
          22,
          23,
          24,
          25,
          26,
          27,
          28,
          29,
          30,
          31,
          32,
          33,
          34,
          35,
          36,
          37,
          38,
          39,
          40,
          41,
          42,
          43,
          44,
          45,
          46,
          47,
          48,
          49
         ],
         "xaxis": "x2",
         "y": [
          0.0014480884419754148,
          0.0022176974453032017,
          0.000983705511316657,
          0.00045059804688207805,
          0.0005344215896911919,
          0.00043420272413641214,
          0.00038724971818737686,
          0.0005276508163660765,
          0.0006848474149592221,
          0.0006898156716488302,
          0.00046518901945091784,
          0.00022017283481545746,
          0.00013764678442385048,
          0.00019967085972893983,
          0.00022690865444019437,
          0.00016108299314510077,
          0.00012023258022964001,
          0.00019124092068523169,
          0.00028977676993235946,
          0.00027583769406192005,
          0.00016702857101336122,
          0.00010224666766589507,
          0.00013527389091905206,
          0.00015429334598593414,
          0.00010094893514178693,
          0.00007048090628813952,
          0.00009463565947953612,
          0.00009119095921050757,
          0.00007786247442709282,
          0.00011562362487893552,
          0.00012861154391430318,
          0.00009485833288636059,
          0.00011032121255993843,
          0.00015840707055758685,
          0.00014123789151199162,
          0.00010583283437881619,
          0.00012097016588086262,
          0.0001180269755423069,
          0.00011311897833365947,
          0.00013521181244868785,
          0.00012931307719554752,
          0.00011670021194731817,
          0.00013202839181758463,
          0.0001291080261580646,
          0.00011509341129567474,
          0.00012534891720861197,
          0.00012650457210838795,
          0.00011198727588634938,
          0.0001157174920081161,
          0.00011365839600330219
         ],
         "yaxis": "y2"
        },
        {
         "mode": "lines",
         "name": "Zero Strike Loss",
         "type": "scatter",
         "x": [
          0,
          1,
          2,
          3,
          4,
          5,
          6,
          7,
          8,
          9,
          10,
          11,
          12,
          13,
          14,
          15,
          16,
          17,
          18,
          19,
          20,
          21,
          22,
          23,
          24,
          25,
          26,
          27,
          28,
          29,
          30,
          31,
          32,
          33,
          34,
          35,
          36,
          37,
          38,
          39,
          40,
          41,
          42,
          43,
          44,
          45,
          46,
          47,
          48,
          49
         ],
         "xaxis": "x3",
         "y": [
          0.09133216738700867,
          0.07616167515516281,
          0.05192262679338455,
          0.03426019474864006,
          0.02600833959877491,
          0.024043912068009377,
          0.02492290735244751,
          0.026802310720086098,
          0.02810392715036869,
          0.027663255110383034,
          0.025369012728333473,
          0.021737124770879745,
          0.017509911209344864,
          0.013511261902749538,
          0.010405084118247032,
          0.008305307477712631,
          0.0069388775154948235,
          0.00586992921307683,
          0.0047233751974999905,
          0.0033842138946056366,
          0.0020955270156264305,
          0.0011627845233306289,
          0.0007213584613054991,
          0.0006746512954123318,
          0.0009076109854504466,
          0.0012429957278072834,
          0.001367267919704318,
          0.0010690352646633983,
          0.0005600552540272474,
          0.00020357640460133553,
          0.00007937593181850389,
          0.000060387297708075494,
          0.00006993206625338644,
          0.000065887528762687,
          0.000035967834264738485,
          0.0000199700389202917,
          0.00002413558104308322,
          0.000039671751437708735,
          0.00009836798562901095,
          0.00017206529446411878,
          0.0001742368913255632,
          0.00010918152111116797,
          0.00005122263974044472,
          0.00002571864752098918,
          0.000016853273336892016,
          0.000009460315595788416,
          0.0000037281258755683666,
          0.000018043547242996283,
          0.000039218837628141046,
          0.00003160574851790443
         ],
         "yaxis": "y3"
        },
        {
         "mode": "lines",
         "name": "Infinity Strike Loss",
         "type": "scatter",
         "x": [
          0,
          1,
          2,
          3,
          4,
          5,
          6,
          7,
          8,
          9,
          10,
          11,
          12,
          13,
          14,
          15,
          16,
          17,
          18,
          19,
          20,
          21,
          22,
          23,
          24,
          25,
          26,
          27,
          28,
          29,
          30,
          31,
          32,
          33,
          34,
          35,
          36,
          37,
          38,
          39,
          40,
          41,
          42,
          43,
          44,
          45,
          46,
          47,
          48,
          49
         ],
         "xaxis": "x4",
         "y": [
          0.001400470151565969,
          0.005423577502369881,
          0.000010497418770682998,
          0.005504703614860773,
          0.009870466776192188,
          0.007070507854223251,
          0.002642778679728508,
          0.0002995748654939234,
          0.00007871235720813274,
          0.0003021705779246986,
          0.00012573300045914948,
          0.000023924088964122348,
          0.0005666227079927921,
          0.001422140165232122,
          0.0016135049518197775,
          0.0009536221041344106,
          0.00020110205514356494,
          0.000013150325685273856,
          0.00021667074179276824,
          0.00023724741186015308,
          0.000046610723074991256,
          0.000056193199270637706,
          0.00028929178370162845,
          0.000308170507196337,
          0.00008773487206781283,
          0.0000832502992125228,
          0.00030696933390572667,
          0.0002956360694952309,
          0.0000884950059116818,
          0.000048087211325764656,
          0.00009866764594335109,
          0.00006075112833059393,
          0.000055252909078262746,
          0.00008187680941773579,
          0.00005388839417719282,
          0.00011873403855133802,
          0.0002134885871782899,
          0.0001251049106940627,
          0.000034593282180139795,
          0.00008821844676276669,
          0.0000838224877952598,
          0.000025084451408474706,
          0.000044557709770742804,
          0.00004732486922875978,
          0.000019007435184903443,
          0.000031165451218839735,
          0.000023585087546962313,
          0.00001733159297145903,
          0.000044621079723583534,
          0.000026917596187558956
         ],
         "yaxis": "y4"
        },
        {
         "mode": "lines",
         "name": "Total Loss",
         "type": "scatter",
         "x": [
          0,
          1,
          2,
          3,
          4,
          5,
          6,
          7,
          8,
          9,
          10,
          11,
          12,
          13,
          14,
          15,
          16,
          17,
          18,
          19,
          20,
          21,
          22,
          23,
          24,
          25,
          26,
          27,
          28,
          29,
          30,
          31,
          32,
          33,
          34,
          35,
          36,
          37,
          38,
          39,
          40,
          41,
          42,
          43,
          44,
          45,
          46,
          47,
          48,
          49
         ],
         "xaxis": "x5",
         "y": [
          5.3629820412236695,
          6.287025975178534,
          2.9909973395454568,
          2.900916404130621,
          3.5592006232943616,
          2.815502321254911,
          1.9350970181633234,
          1.703289069665161,
          1.8588837455515579,
          1.8608203665830358,
          1.510099863810853,
          1.142480763549049,
          1.062693531358072,
          1.1814907804819075,
          1.1466687863472718,
          0.8975349204479992,
          0.6642467406146957,
          0.6721106819850509,
          0.7753127383040743,
          0.7511600636555181,
          0.5625823888764012,
          0.48086233784246035,
          0.49759488943908836,
          0.4898384019398204,
          0.3747347677939864,
          0.3450734709076534,
          0.3707624382235951,
          0.3086782794504288,
          0.23825185880493258,
          0.2616906933778389,
          0.2770748870529428,
          0.20130926329472973,
          0.18146876806367584,
          0.22390694559601954,
          0.20794138201164797,
          0.1777869075605978,
          0.20153079666891038,
          0.1816107319835163,
          0.15063637819001197,
          0.17672614816660198,
          0.16722717515806565,
          0.14186501165672083,
          0.15178261551707556,
          0.14924069997521353,
          0.1318194965242687,
          0.14067536940062758,
          0.14481653216682272,
          0.13245026061410267,
          0.14258537079254707,
          0.1377234140795703
         ],
         "yaxis": "y5"
        }
       ],
       "layout": {
        "annotations": [
         {
          "font": {
           "size": 16
          },
          "showarrow": false,
          "text": "PDE Loss",
          "x": 0.225,
          "xanchor": "center",
          "xref": "paper",
          "y": 1,
          "yanchor": "bottom",
          "yref": "paper"
         },
         {
          "font": {
           "size": 16
          },
          "showarrow": false,
          "text": "Zero Maturity Loss",
          "x": 0.775,
          "xanchor": "center",
          "xref": "paper",
          "y": 1,
          "yanchor": "bottom",
          "yref": "paper"
         },
         {
          "font": {
           "size": 16
          },
          "showarrow": false,
          "text": "Zero Strike Loss",
          "x": 0.225,
          "xanchor": "center",
          "xref": "paper",
          "y": 0.6333333333333333,
          "yanchor": "bottom",
          "yref": "paper"
         },
         {
          "font": {
           "size": 16
          },
          "showarrow": false,
          "text": "Infinity Strike Loss",
          "x": 0.775,
          "xanchor": "center",
          "xref": "paper",
          "y": 0.6333333333333333,
          "yanchor": "bottom",
          "yref": "paper"
         },
         {
          "font": {
           "size": 16
          },
          "showarrow": false,
          "text": "Total Loss",
          "x": 0.5,
          "xanchor": "center",
          "xref": "paper",
          "y": 0.26666666666666666,
          "yanchor": "bottom",
          "yref": "paper"
         }
        ],
        "height": 900,
        "showlegend": false,
        "template": {
         "data": {
          "bar": [
           {
            "error_x": {
             "color": "#2a3f5f"
            },
            "error_y": {
             "color": "#2a3f5f"
            },
            "marker": {
             "line": {
              "color": "#E5ECF6",
              "width": 0.5
             },
             "pattern": {
              "fillmode": "overlay",
              "size": 10,
              "solidity": 0.2
             }
            },
            "type": "bar"
           }
          ],
          "barpolar": [
           {
            "marker": {
             "line": {
              "color": "#E5ECF6",
              "width": 0.5
             },
             "pattern": {
              "fillmode": "overlay",
              "size": 10,
              "solidity": 0.2
             }
            },
            "type": "barpolar"
           }
          ],
          "carpet": [
           {
            "aaxis": {
             "endlinecolor": "#2a3f5f",
             "gridcolor": "white",
             "linecolor": "white",
             "minorgridcolor": "white",
             "startlinecolor": "#2a3f5f"
            },
            "baxis": {
             "endlinecolor": "#2a3f5f",
             "gridcolor": "white",
             "linecolor": "white",
             "minorgridcolor": "white",
             "startlinecolor": "#2a3f5f"
            },
            "type": "carpet"
           }
          ],
          "choropleth": [
           {
            "colorbar": {
             "outlinewidth": 0,
             "ticks": ""
            },
            "type": "choropleth"
           }
          ],
          "contour": [
           {
            "colorbar": {
             "outlinewidth": 0,
             "ticks": ""
            },
            "colorscale": [
             [
              0,
              "#0d0887"
             ],
             [
              0.1111111111111111,
              "#46039f"
             ],
             [
              0.2222222222222222,
              "#7201a8"
             ],
             [
              0.3333333333333333,
              "#9c179e"
             ],
             [
              0.4444444444444444,
              "#bd3786"
             ],
             [
              0.5555555555555556,
              "#d8576b"
             ],
             [
              0.6666666666666666,
              "#ed7953"
             ],
             [
              0.7777777777777778,
              "#fb9f3a"
             ],
             [
              0.8888888888888888,
              "#fdca26"
             ],
             [
              1,
              "#f0f921"
             ]
            ],
            "type": "contour"
           }
          ],
          "contourcarpet": [
           {
            "colorbar": {
             "outlinewidth": 0,
             "ticks": ""
            },
            "type": "contourcarpet"
           }
          ],
          "heatmap": [
           {
            "colorbar": {
             "outlinewidth": 0,
             "ticks": ""
            },
            "colorscale": [
             [
              0,
              "#0d0887"
             ],
             [
              0.1111111111111111,
              "#46039f"
             ],
             [
              0.2222222222222222,
              "#7201a8"
             ],
             [
              0.3333333333333333,
              "#9c179e"
             ],
             [
              0.4444444444444444,
              "#bd3786"
             ],
             [
              0.5555555555555556,
              "#d8576b"
             ],
             [
              0.6666666666666666,
              "#ed7953"
             ],
             [
              0.7777777777777778,
              "#fb9f3a"
             ],
             [
              0.8888888888888888,
              "#fdca26"
             ],
             [
              1,
              "#f0f921"
             ]
            ],
            "type": "heatmap"
           }
          ],
          "heatmapgl": [
           {
            "colorbar": {
             "outlinewidth": 0,
             "ticks": ""
            },
            "colorscale": [
             [
              0,
              "#0d0887"
             ],
             [
              0.1111111111111111,
              "#46039f"
             ],
             [
              0.2222222222222222,
              "#7201a8"
             ],
             [
              0.3333333333333333,
              "#9c179e"
             ],
             [
              0.4444444444444444,
              "#bd3786"
             ],
             [
              0.5555555555555556,
              "#d8576b"
             ],
             [
              0.6666666666666666,
              "#ed7953"
             ],
             [
              0.7777777777777778,
              "#fb9f3a"
             ],
             [
              0.8888888888888888,
              "#fdca26"
             ],
             [
              1,
              "#f0f921"
             ]
            ],
            "type": "heatmapgl"
           }
          ],
          "histogram": [
           {
            "marker": {
             "pattern": {
              "fillmode": "overlay",
              "size": 10,
              "solidity": 0.2
             }
            },
            "type": "histogram"
           }
          ],
          "histogram2d": [
           {
            "colorbar": {
             "outlinewidth": 0,
             "ticks": ""
            },
            "colorscale": [
             [
              0,
              "#0d0887"
             ],
             [
              0.1111111111111111,
              "#46039f"
             ],
             [
              0.2222222222222222,
              "#7201a8"
             ],
             [
              0.3333333333333333,
              "#9c179e"
             ],
             [
              0.4444444444444444,
              "#bd3786"
             ],
             [
              0.5555555555555556,
              "#d8576b"
             ],
             [
              0.6666666666666666,
              "#ed7953"
             ],
             [
              0.7777777777777778,
              "#fb9f3a"
             ],
             [
              0.8888888888888888,
              "#fdca26"
             ],
             [
              1,
              "#f0f921"
             ]
            ],
            "type": "histogram2d"
           }
          ],
          "histogram2dcontour": [
           {
            "colorbar": {
             "outlinewidth": 0,
             "ticks": ""
            },
            "colorscale": [
             [
              0,
              "#0d0887"
             ],
             [
              0.1111111111111111,
              "#46039f"
             ],
             [
              0.2222222222222222,
              "#7201a8"
             ],
             [
              0.3333333333333333,
              "#9c179e"
             ],
             [
              0.4444444444444444,
              "#bd3786"
             ],
             [
              0.5555555555555556,
              "#d8576b"
             ],
             [
              0.6666666666666666,
              "#ed7953"
             ],
             [
              0.7777777777777778,
              "#fb9f3a"
             ],
             [
              0.8888888888888888,
              "#fdca26"
             ],
             [
              1,
              "#f0f921"
             ]
            ],
            "type": "histogram2dcontour"
           }
          ],
          "mesh3d": [
           {
            "colorbar": {
             "outlinewidth": 0,
             "ticks": ""
            },
            "type": "mesh3d"
           }
          ],
          "parcoords": [
           {
            "line": {
             "colorbar": {
              "outlinewidth": 0,
              "ticks": ""
             }
            },
            "type": "parcoords"
           }
          ],
          "pie": [
           {
            "automargin": true,
            "type": "pie"
           }
          ],
          "scatter": [
           {
            "fillpattern": {
             "fillmode": "overlay",
             "size": 10,
             "solidity": 0.2
            },
            "type": "scatter"
           }
          ],
          "scatter3d": [
           {
            "line": {
             "colorbar": {
              "outlinewidth": 0,
              "ticks": ""
             }
            },
            "marker": {
             "colorbar": {
              "outlinewidth": 0,
              "ticks": ""
             }
            },
            "type": "scatter3d"
           }
          ],
          "scattercarpet": [
           {
            "marker": {
             "colorbar": {
              "outlinewidth": 0,
              "ticks": ""
             }
            },
            "type": "scattercarpet"
           }
          ],
          "scattergeo": [
           {
            "marker": {
             "colorbar": {
              "outlinewidth": 0,
              "ticks": ""
             }
            },
            "type": "scattergeo"
           }
          ],
          "scattergl": [
           {
            "marker": {
             "colorbar": {
              "outlinewidth": 0,
              "ticks": ""
             }
            },
            "type": "scattergl"
           }
          ],
          "scattermapbox": [
           {
            "marker": {
             "colorbar": {
              "outlinewidth": 0,
              "ticks": ""
             }
            },
            "type": "scattermapbox"
           }
          ],
          "scatterpolar": [
           {
            "marker": {
             "colorbar": {
              "outlinewidth": 0,
              "ticks": ""
             }
            },
            "type": "scatterpolar"
           }
          ],
          "scatterpolargl": [
           {
            "marker": {
             "colorbar": {
              "outlinewidth": 0,
              "ticks": ""
             }
            },
            "type": "scatterpolargl"
           }
          ],
          "scatterternary": [
           {
            "marker": {
             "colorbar": {
              "outlinewidth": 0,
              "ticks": ""
             }
            },
            "type": "scatterternary"
           }
          ],
          "surface": [
           {
            "colorbar": {
             "outlinewidth": 0,
             "ticks": ""
            },
            "colorscale": [
             [
              0,
              "#0d0887"
             ],
             [
              0.1111111111111111,
              "#46039f"
             ],
             [
              0.2222222222222222,
              "#7201a8"
             ],
             [
              0.3333333333333333,
              "#9c179e"
             ],
             [
              0.4444444444444444,
              "#bd3786"
             ],
             [
              0.5555555555555556,
              "#d8576b"
             ],
             [
              0.6666666666666666,
              "#ed7953"
             ],
             [
              0.7777777777777778,
              "#fb9f3a"
             ],
             [
              0.8888888888888888,
              "#fdca26"
             ],
             [
              1,
              "#f0f921"
             ]
            ],
            "type": "surface"
           }
          ],
          "table": [
           {
            "cells": {
             "fill": {
              "color": "#EBF0F8"
             },
             "line": {
              "color": "white"
             }
            },
            "header": {
             "fill": {
              "color": "#C8D4E3"
             },
             "line": {
              "color": "white"
             }
            },
            "type": "table"
           }
          ]
         },
         "layout": {
          "annotationdefaults": {
           "arrowcolor": "#2a3f5f",
           "arrowhead": 0,
           "arrowwidth": 1
          },
          "autotypenumbers": "strict",
          "coloraxis": {
           "colorbar": {
            "outlinewidth": 0,
            "ticks": ""
           }
          },
          "colorscale": {
           "diverging": [
            [
             0,
             "#8e0152"
            ],
            [
             0.1,
             "#c51b7d"
            ],
            [
             0.2,
             "#de77ae"
            ],
            [
             0.3,
             "#f1b6da"
            ],
            [
             0.4,
             "#fde0ef"
            ],
            [
             0.5,
             "#f7f7f7"
            ],
            [
             0.6,
             "#e6f5d0"
            ],
            [
             0.7,
             "#b8e186"
            ],
            [
             0.8,
             "#7fbc41"
            ],
            [
             0.9,
             "#4d9221"
            ],
            [
             1,
             "#276419"
            ]
           ],
           "sequential": [
            [
             0,
             "#0d0887"
            ],
            [
             0.1111111111111111,
             "#46039f"
            ],
            [
             0.2222222222222222,
             "#7201a8"
            ],
            [
             0.3333333333333333,
             "#9c179e"
            ],
            [
             0.4444444444444444,
             "#bd3786"
            ],
            [
             0.5555555555555556,
             "#d8576b"
            ],
            [
             0.6666666666666666,
             "#ed7953"
            ],
            [
             0.7777777777777778,
             "#fb9f3a"
            ],
            [
             0.8888888888888888,
             "#fdca26"
            ],
            [
             1,
             "#f0f921"
            ]
           ],
           "sequentialminus": [
            [
             0,
             "#0d0887"
            ],
            [
             0.1111111111111111,
             "#46039f"
            ],
            [
             0.2222222222222222,
             "#7201a8"
            ],
            [
             0.3333333333333333,
             "#9c179e"
            ],
            [
             0.4444444444444444,
             "#bd3786"
            ],
            [
             0.5555555555555556,
             "#d8576b"
            ],
            [
             0.6666666666666666,
             "#ed7953"
            ],
            [
             0.7777777777777778,
             "#fb9f3a"
            ],
            [
             0.8888888888888888,
             "#fdca26"
            ],
            [
             1,
             "#f0f921"
            ]
           ]
          },
          "colorway": [
           "#636efa",
           "#EF553B",
           "#00cc96",
           "#ab63fa",
           "#FFA15A",
           "#19d3f3",
           "#FF6692",
           "#B6E880",
           "#FF97FF",
           "#FECB52"
          ],
          "font": {
           "color": "#2a3f5f"
          },
          "geo": {
           "bgcolor": "white",
           "lakecolor": "white",
           "landcolor": "#E5ECF6",
           "showlakes": true,
           "showland": true,
           "subunitcolor": "white"
          },
          "hoverlabel": {
           "align": "left"
          },
          "hovermode": "closest",
          "mapbox": {
           "style": "light"
          },
          "paper_bgcolor": "white",
          "plot_bgcolor": "#E5ECF6",
          "polar": {
           "angularaxis": {
            "gridcolor": "white",
            "linecolor": "white",
            "ticks": ""
           },
           "bgcolor": "#E5ECF6",
           "radialaxis": {
            "gridcolor": "white",
            "linecolor": "white",
            "ticks": ""
           }
          },
          "scene": {
           "xaxis": {
            "backgroundcolor": "#E5ECF6",
            "gridcolor": "white",
            "gridwidth": 2,
            "linecolor": "white",
            "showbackground": true,
            "ticks": "",
            "zerolinecolor": "white"
           },
           "yaxis": {
            "backgroundcolor": "#E5ECF6",
            "gridcolor": "white",
            "gridwidth": 2,
            "linecolor": "white",
            "showbackground": true,
            "ticks": "",
            "zerolinecolor": "white"
           },
           "zaxis": {
            "backgroundcolor": "#E5ECF6",
            "gridcolor": "white",
            "gridwidth": 2,
            "linecolor": "white",
            "showbackground": true,
            "ticks": "",
            "zerolinecolor": "white"
           }
          },
          "shapedefaults": {
           "line": {
            "color": "#2a3f5f"
           }
          },
          "ternary": {
           "aaxis": {
            "gridcolor": "white",
            "linecolor": "white",
            "ticks": ""
           },
           "baxis": {
            "gridcolor": "white",
            "linecolor": "white",
            "ticks": ""
           },
           "bgcolor": "#E5ECF6",
           "caxis": {
            "gridcolor": "white",
            "linecolor": "white",
            "ticks": ""
           }
          },
          "title": {
           "x": 0.05
          },
          "xaxis": {
           "automargin": true,
           "gridcolor": "white",
           "linecolor": "white",
           "ticks": "",
           "title": {
            "standoff": 15
           },
           "zerolinecolor": "white",
           "zerolinewidth": 2
          },
          "yaxis": {
           "automargin": true,
           "gridcolor": "white",
           "linecolor": "white",
           "ticks": "",
           "title": {
            "standoff": 15
           },
           "zerolinecolor": "white",
           "zerolinewidth": 2
          }
         }
        },
        "title": {
         "text": "PINN Training Losses"
        },
        "width": 900,
        "xaxis": {
         "anchor": "y",
         "domain": [
          0,
          0.45
         ],
         "title": {
          "text": "Iterations"
         }
        },
        "xaxis2": {
         "anchor": "y2",
         "domain": [
          0.55,
          1
         ],
         "title": {
          "text": "Iterations"
         }
        },
        "xaxis3": {
         "anchor": "y3",
         "domain": [
          0,
          0.45
         ],
         "title": {
          "text": "Iterations"
         }
        },
        "xaxis4": {
         "anchor": "y4",
         "domain": [
          0.55,
          1
         ],
         "title": {
          "text": "Iterations"
         }
        },
        "xaxis5": {
         "anchor": "y5",
         "domain": [
          0,
          1
         ],
         "title": {
          "text": "Iterations"
         }
        },
        "yaxis": {
         "anchor": "x",
         "domain": [
          0.7333333333333334,
          1
         ]
        },
        "yaxis2": {
         "anchor": "x2",
         "domain": [
          0.7333333333333334,
          1
         ]
        },
        "yaxis3": {
         "anchor": "x3",
         "domain": [
          0.3666666666666667,
          0.6333333333333333
         ]
        },
        "yaxis4": {
         "anchor": "x4",
         "domain": [
          0.3666666666666667,
          0.6333333333333333
         ]
        },
        "yaxis5": {
         "anchor": "x5",
         "domain": [
          0,
          0.26666666666666666
         ]
        }
       }
      }
     },
     "metadata": {},
     "output_type": "display_data"
    }
   ],
   "source": [
    "loss_history = pd.DataFrame(trainer.pre_train_loss_history)\n",
    "\n",
    "# Create a subplot figure with 2x2 grid for individual losses, and a third row spanning the entire width for total loss\n",
    "fig = make_subplots(\n",
    "    rows=3, cols=2,\n",
    "    subplot_titles=(\"PDE Loss\", \"Zero Maturity Loss\", \"Zero Strike Loss\", \"Infinity Strike Loss\", \"Total Loss\"),\n",
    "    specs=[[{'type': 'scatter'}, {'type': 'scatter'}],\n",
    "           [{'type': 'scatter'}, {'type': 'scatter'}],\n",
    "           [{'colspan': 2, 'type': 'scatter'}, None]],\n",
    "    vertical_spacing=0.1,\n",
    "    horizontal_spacing=0.1\n",
    ")\n",
    "\n",
    "# Add traces for individual losses\n",
    "fig.add_trace(go.Scatter(x=loss_history.index, y=loss_history[\"PDE Loss\"], mode=\"lines\", name=\"PDE Loss\"), row=1, col=1)\n",
    "fig.add_trace(go.Scatter(x=loss_history.index, y=loss_history[\"Zero Maturity Loss\"], mode=\"lines\", name=\"Zero Maturity Loss\"), row=1, col=2)\n",
    "fig.add_trace(go.Scatter(x=loss_history.index, y=loss_history[\"Zero Strike Loss\"], mode=\"lines\", name=\"Zero Strike Loss\"), row=2, col=1)\n",
    "fig.add_trace(go.Scatter(x=loss_history.index, y=loss_history[\"Infinity Strike Loss\"], mode=\"lines\", name=\"Infinity Strike Loss\"), row=2, col=2)\n",
    "\n",
    "# Add a trace for the total loss spanning the entire third row\n",
    "fig.add_trace(go.Scatter(x=loss_history.index, y=loss_history[\"Total Loss\"], mode=\"lines\", name=\"Total Loss\"), row=3, col=1)\n",
    "\n",
    "# Update the layout to include 'Iterations' as the x-axis name for each subplot\n",
    "fig.update_xaxes(title_text=\"Iterations\", row=1, col=1)\n",
    "fig.update_xaxes(title_text=\"Iterations\", row=1, col=2)\n",
    "fig.update_xaxes(title_text=\"Iterations\", row=2, col=1)\n",
    "fig.update_xaxes(title_text=\"Iterations\", row=2, col=2)\n",
    "fig.update_xaxes(title_text=\"Iterations\", row=3, col=1)  # The third row spans two columns\n",
    "\n",
    "# Update the layout\n",
    "fig.update_layout(height=900, width=900, title_text=\"PINN Training Losses\", showlegend=False)\n",
    "\n",
    "# Show the plot\n",
    "fig.show()"
   ]
  }
 ],
 "metadata": {
  "kernelspec": {
   "display_name": "Apache",
   "language": "python",
   "name": "python3"
  },
  "language_info": {
   "codemirror_mode": {
    "name": "ipython",
    "version": 3
   },
   "file_extension": ".py",
   "mimetype": "text/x-python",
   "name": "python",
   "nbconvert_exporter": "python",
   "pygments_lexer": "ipython3",
   "version": "3.10.13"
  }
 },
 "nbformat": 4,
 "nbformat_minor": 2
}
