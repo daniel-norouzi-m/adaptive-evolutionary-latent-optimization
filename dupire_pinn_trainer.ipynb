{
 "cells": [
  {
   "cell_type": "code",
   "execution_count": 1,
   "metadata": {},
   "outputs": [],
   "source": [
    "%load_ext autoreload\n",
    "%autoreload 2\n",
    "\n",
    "# Import necessary modules \n",
    "import numpy as np\n",
    "import pandas as pd\n",
    "from itertools import product\n",
    "import plotly.graph_objs as go\n",
    "import plotly.express as px\n",
    "from numpy.linalg import eigvalsh\n",
    "from plotly.subplots import make_subplots\n",
    "import torch\n",
    "import itertools\n",
    "import concurrent.futures\n",
    "from tqdm import tqdm\n",
    "\n",
    "from rbf_volatility_surface import RBFVolatilitySurface\n",
    "from smoothness_prior import RBFQuadraticSmoothnessPrior\n",
    "from dataset_sabr import generate_sabr_call_options\n",
    "from dupire_pinn_trainer import DupirePINNTrainer"
   ]
  },
  {
   "cell_type": "code",
   "execution_count": 2,
   "metadata": {},
   "outputs": [],
   "source": [
    "# Define the strike price list and maturity time list\n",
    "strike_price_list = np.array([0.75, 0.85, 0.9, 0.95, 1.0, 1.05, 1.1, 1.2, 1.3, 1.5])\n",
    "maturity_time_list = np.array([0.02, 0.08, 0.17, 0.25, 0.5, 0.75, 1.0, 1.5, 2.0, 3.0])\n",
    "\n",
    "# Create the product grid of maturity times and strike prices\n",
    "product_grid = list(product(maturity_time_list, strike_price_list))\n",
    "maturity_times, strike_prices = zip(*product_grid)\n",
    "\n",
    "# Convert to arrays for further operations\n",
    "maturity_times = np.array(maturity_times)\n",
    "strike_prices = np.array(strike_prices)\n",
    "\n",
    "# Variance formula for log-uniform distribution\n",
    "def log_uniform_variance(a, b):\n",
    "    log_term = np.log(b / a)\n",
    "    var = ((b ** 2 - a ** 2) / (2 * log_term)) - ((b - a) / log_term) ** 2\n",
    "    return var\n",
    "\n",
    "# Calculate standard deviations for maturity times and strike prices\n",
    "maturity_std = np.sqrt(log_uniform_variance(maturity_time_list.min(), maturity_time_list.max()))\n",
    "strike_std = np.sqrt(log_uniform_variance(strike_price_list.min(), strike_price_list.max()))\n",
    "\n",
    "# Define the SABR model parameters\n",
    "alpha = 0.20  # Stochastic volatility parameter\n",
    "beta = 0.50   # Elasticity parameter\n",
    "rho = -0.75   # Correlation between asset price and volatility\n",
    "nu = 1.0      # Volatility of volatility parameter\n",
    "\n",
    "# Other model parameters\n",
    "risk_free_rate = np.log(1.02)  # Risk-free interest rate\n",
    "underlying_price = 1.0         # Current price of the underlying asset\n",
    "\n",
    "# Generate the dataset using the SABR model and Black-Scholes formula\n",
    "call_option_dataset = generate_sabr_call_options(\n",
    "    alpha=alpha,\n",
    "    beta=beta,\n",
    "    rho=rho,\n",
    "    nu=nu,\n",
    "    maturity_times=maturity_times,\n",
    "    strike_prices=strike_prices,\n",
    "    risk_free_rate=risk_free_rate,\n",
    "    underlying_price=underlying_price\n",
    ")\n",
    "\n",
    "# Maturity times and strike prices from the previous product grid setup\n",
    "hypothetical_maturity_time_list = np.logspace(np.log10(0.01), np.log10(3.1), 100)\n",
    "hypothetical_strike_price_list = np.logspace(np.log10(0.7), np.log10(1.75), 100)\n",
    "\n",
    "# Create the product grid of maturity times and strike prices\n",
    "hypothetical_product_grid = list(product(hypothetical_maturity_time_list, hypothetical_strike_price_list))\n",
    "hypothetical_maturity_times, hypothetical_strike_prices = zip(*hypothetical_product_grid)\n",
    "hypothetical_maturity_times, hypothetical_strike_prices = np.array(hypothetical_maturity_times), np.array(hypothetical_strike_prices)\n",
    "\n",
    "# Reshape the data for 3D surface plotting\n",
    "hypothetical_maturities_grid = hypothetical_maturity_times.reshape((len(hypothetical_maturity_time_list), len(hypothetical_strike_price_list)))  \n",
    "hypothetical_strikes_grid = hypothetical_strike_prices.reshape((len(hypothetical_maturity_time_list), len(hypothetical_strike_price_list)))"
   ]
  },
  {
   "cell_type": "code",
   "execution_count": 3,
   "metadata": {},
   "outputs": [],
   "source": [
    "n_roots = 350\n",
    "# n_roots = 10\n",
    "smoothness_controller = 3.274549162877732e-05\n",
    "\n",
    "# Initialize the RBFQuadraticSmoothnessPrior class\n",
    "smoothness_prior = RBFQuadraticSmoothnessPrior(\n",
    "    maturity_times=maturity_times,\n",
    "    strike_prices=strike_prices,\n",
    "    maturity_std=maturity_std,\n",
    "    strike_std=strike_std,\n",
    "    n_roots=n_roots,\n",
    "    smoothness_controller=smoothness_controller,\n",
    "    random_state=0,\n",
    ")\n",
    "\n",
    "# The constant_volatility is set to a reasonable value\n",
    "constant_volatility = RBFVolatilitySurface.calculate_constant_volatility(\n",
    "    call_option_dataset[\"Implied Volatility\"],\n",
    "    call_option_dataset[\"Time to Maturity\"],\n",
    "    call_option_dataset[\"Strike Price\"],\n",
    "    risk_free_rate,\n",
    "    underlying_price\n",
    ")\n",
    "\n",
    "sampled_surface_coefficients = smoothness_prior.sample_smooth_surfaces(1000)"
   ]
  },
  {
   "cell_type": "code",
   "execution_count": 4,
   "metadata": {},
   "outputs": [],
   "source": [
    "# Loop through the sampled coefficients \n",
    "sampled_volatilities = []\n",
    "for coefficients in sampled_surface_coefficients:\n",
    "    \n",
    "    # Initialize the RBFVolatilitySurface class for each set of coefficients\n",
    "    rbf_surface = RBFVolatilitySurface(\n",
    "        coefficients=coefficients,\n",
    "        maturity_times=maturity_times,\n",
    "        strike_prices=strike_prices,\n",
    "        maturity_std=maturity_std,\n",
    "        strike_std=strike_std,\n",
    "        constant_volatility=constant_volatility\n",
    "    )\n",
    "\n",
    "    # Generate the volatility surface over the product grid of times and strikes\n",
    "    surface_volatilities = [\n",
    "        rbf_surface.implied_volatility_surface(T, K)\n",
    "        for T, K in product_grid\n",
    "    ]\n",
    "    sampled_volatilities.extend(surface_volatilities)"
   ]
  },
  {
   "cell_type": "code",
   "execution_count": 5,
   "metadata": {},
   "outputs": [
    {
     "data": {
      "text/plain": [
       "device(type='cuda')"
      ]
     },
     "execution_count": 5,
     "metadata": {},
     "output_type": "execute_result"
    }
   ],
   "source": [
    "torch.device('cuda' if torch.cuda.is_available() else 'cpu')"
   ]
  },
  {
   "cell_type": "code",
   "execution_count": null,
   "metadata": {},
   "outputs": [],
   "source": [
    "batch_size = 1000\n",
    "pde_loss_coefficient = 1.0\n",
    "maturity_zero_loss_coefficient = 1.0\n",
    "strike_zero_loss_coefficient = 0.1\n",
    "strike_infinity_loss_coefficient = 1.0\n",
    "pre_train_learning_rate = 1e-3\n",
    "fine_tune_learning_rate = 1e-4\n",
    "pre_train_epochs = 50\n",
    "fine_tune_epochs = 20\n",
    "maturity_min = maturity_time_list.min()\n",
    "maturity_max = maturity_time_list.max()\n",
    "strike_min = strike_price_list.min()\n",
    "strike_max = strike_price_list.max()\n",
    "volatility_mean = np.mean(sampled_volatilities)\n",
    "volatility_std = np.std(sampled_volatilities)\n",
    "strike_infinity = 2.5\n",
    "device = 'cpu'\n",
    "\n",
    "# Define the hyperparameter grid\n",
    "hidden_dim_grid = [64, 128, 256]  # Example grid for hidden_dim\n",
    "n_layers_grid = [2, 4, 8]         # Example grid for n_layers\n",
    "pre_train_learning_rate_grid = [1e-4, 1e-3, 1e-2]  # Example grid for learning rate\n",
    "\n",
    "# Initialize an empty DataFrame to store the results\n",
    "results_df = pd.DataFrame()\n",
    "\n",
    "# Define the grid search\n",
    "grid = itertools.product(hidden_dim_grid, n_layers_grid, pre_train_learning_rate_grid)\n",
    "\n",
    "for hidden_dim, n_layers, pre_train_learning_rate in tqdm(grid):\n",
    "    # Initialize the DupirePINNTrainer class\n",
    "    trainer = DupirePINNTrainer(\n",
    "        hidden_dim=hidden_dim,\n",
    "        n_layers=n_layers,\n",
    "        batch_size=batch_size,\n",
    "        pde_loss_coefficient=pde_loss_coefficient,\n",
    "        maturity_zero_loss_coefficient=maturity_zero_loss_coefficient,\n",
    "        strike_zero_loss_coefficient=strike_zero_loss_coefficient,\n",
    "        strike_infinity_loss_coefficient=strike_infinity_loss_coefficient,\n",
    "        pre_train_learning_rate=pre_train_learning_rate,\n",
    "        fine_tune_learning_rate=fine_tune_learning_rate,\n",
    "        pre_train_epochs=pre_train_epochs,\n",
    "        fine_tune_epochs=fine_tune_epochs,\n",
    "        maturity_min=maturity_min,\n",
    "        maturity_max=maturity_max,\n",
    "        strike_min=strike_min,\n",
    "        strike_max=strike_max,\n",
    "        volatility_mean=volatility_mean,\n",
    "        volatility_std=volatility_std,\n",
    "        maturity_time_list=maturity_time_list,\n",
    "        strike_price_list=strike_price_list,\n",
    "        strike_std=strike_std,\n",
    "        maturity_std=maturity_std,\n",
    "        constant_volatility=constant_volatility,\n",
    "        strike_infinity=strike_infinity,\n",
    "        device=device\n",
    "    )\n",
    "\n",
    "    # Train the model using pre_train\n",
    "    trainer.pre_train(\n",
    "        sampled_surface_coefficients=sampled_surface_coefficients,\n",
    "        experiment_name=f\"test_hd_{hidden_dim}_nl_{n_layers}_lr_{pre_train_learning_rate}\"\n",
    "    )\n",
    "\n",
    "    # Retrieve the last row of the loss history (assuming it's stored in trainer.pre_train_loss_history)\n",
    "    loss_df = pd.DataFrame(trainer.pre_train_loss_history)\n",
    "    last_row = loss_df.iloc[-1].copy()\n",
    "\n",
    "    # Add the configuration as columns in the last row\n",
    "    last_row['hidden_dim'] = hidden_dim\n",
    "    last_row['n_layers'] = n_layers\n",
    "    last_row['pre_train_learning_rate'] = pre_train_learning_rate\n",
    "\n",
    "    results_df = pd.concat([results_df, pd.DataFrame([last_row])], ignore_index=True)"
   ]
  },
  {
   "cell_type": "code",
   "execution_count": 28,
   "metadata": {},
   "outputs": [
    {
     "data": {
      "text/html": [
       "<div>\n",
       "<style scoped>\n",
       "    .dataframe tbody tr th:only-of-type {\n",
       "        vertical-align: middle;\n",
       "    }\n",
       "\n",
       "    .dataframe tbody tr th {\n",
       "        vertical-align: top;\n",
       "    }\n",
       "\n",
       "    .dataframe thead th {\n",
       "        text-align: right;\n",
       "    }\n",
       "</style>\n",
       "<table border=\"1\" class=\"dataframe\">\n",
       "  <thead>\n",
       "    <tr style=\"text-align: right;\">\n",
       "      <th></th>\n",
       "      <th>PDE Loss</th>\n",
       "      <th>Zero Maturity Loss</th>\n",
       "      <th>Zero Strike Loss</th>\n",
       "      <th>Infinity Strike Loss</th>\n",
       "      <th>Total Loss</th>\n",
       "      <th>hidden_dim</th>\n",
       "      <th>n_layers</th>\n",
       "      <th>pre_train_learning_rate</th>\n",
       "      <th>average_rank</th>\n",
       "    </tr>\n",
       "  </thead>\n",
       "  <tbody>\n",
       "    <tr>\n",
       "      <th>7</th>\n",
       "      <td>0.000114</td>\n",
       "      <td>0.000091</td>\n",
       "      <td>0.000040</td>\n",
       "      <td>0.000029</td>\n",
       "      <td>0.000238</td>\n",
       "      <td>64.0</td>\n",
       "      <td>8.0</td>\n",
       "      <td>0.0010</td>\n",
       "      <td>3.25</td>\n",
       "    </tr>\n",
       "    <tr>\n",
       "      <th>16</th>\n",
       "      <td>0.000115</td>\n",
       "      <td>0.000109</td>\n",
       "      <td>0.000033</td>\n",
       "      <td>0.000030</td>\n",
       "      <td>0.000258</td>\n",
       "      <td>128.0</td>\n",
       "      <td>8.0</td>\n",
       "      <td>0.0010</td>\n",
       "      <td>4.00</td>\n",
       "    </tr>\n",
       "    <tr>\n",
       "      <th>25</th>\n",
       "      <td>0.000096</td>\n",
       "      <td>0.000138</td>\n",
       "      <td>0.000656</td>\n",
       "      <td>0.000035</td>\n",
       "      <td>0.000334</td>\n",
       "      <td>256.0</td>\n",
       "      <td>8.0</td>\n",
       "      <td>0.0010</td>\n",
       "      <td>5.25</td>\n",
       "    </tr>\n",
       "    <tr>\n",
       "      <th>4</th>\n",
       "      <td>0.000176</td>\n",
       "      <td>0.000112</td>\n",
       "      <td>0.000260</td>\n",
       "      <td>0.000058</td>\n",
       "      <td>0.000371</td>\n",
       "      <td>64.0</td>\n",
       "      <td>4.0</td>\n",
       "      <td>0.0010</td>\n",
       "      <td>7.50</td>\n",
       "    </tr>\n",
       "    <tr>\n",
       "      <th>24</th>\n",
       "      <td>0.000296</td>\n",
       "      <td>0.000110</td>\n",
       "      <td>0.000129</td>\n",
       "      <td>0.000063</td>\n",
       "      <td>0.000482</td>\n",
       "      <td>256.0</td>\n",
       "      <td>8.0</td>\n",
       "      <td>0.0001</td>\n",
       "      <td>8.25</td>\n",
       "    </tr>\n",
       "    <tr>\n",
       "      <th>13</th>\n",
       "      <td>0.000174</td>\n",
       "      <td>0.000115</td>\n",
       "      <td>0.000439</td>\n",
       "      <td>0.000075</td>\n",
       "      <td>0.000408</td>\n",
       "      <td>128.0</td>\n",
       "      <td>4.0</td>\n",
       "      <td>0.0010</td>\n",
       "      <td>8.50</td>\n",
       "    </tr>\n",
       "    <tr>\n",
       "      <th>15</th>\n",
       "      <td>0.000465</td>\n",
       "      <td>0.000211</td>\n",
       "      <td>0.001115</td>\n",
       "      <td>0.000024</td>\n",
       "      <td>0.000812</td>\n",
       "      <td>128.0</td>\n",
       "      <td>8.0</td>\n",
       "      <td>0.0001</td>\n",
       "      <td>9.75</td>\n",
       "    </tr>\n",
       "    <tr>\n",
       "      <th>21</th>\n",
       "      <td>0.000166</td>\n",
       "      <td>0.000435</td>\n",
       "      <td>0.009744</td>\n",
       "      <td>0.000029</td>\n",
       "      <td>0.001604</td>\n",
       "      <td>256.0</td>\n",
       "      <td>4.0</td>\n",
       "      <td>0.0001</td>\n",
       "      <td>10.50</td>\n",
       "    </tr>\n",
       "    <tr>\n",
       "      <th>8</th>\n",
       "      <td>0.000192</td>\n",
       "      <td>0.000307</td>\n",
       "      <td>0.000026</td>\n",
       "      <td>0.000169</td>\n",
       "      <td>0.000671</td>\n",
       "      <td>64.0</td>\n",
       "      <td>8.0</td>\n",
       "      <td>0.0100</td>\n",
       "      <td>10.75</td>\n",
       "    </tr>\n",
       "    <tr>\n",
       "      <th>1</th>\n",
       "      <td>0.000127</td>\n",
       "      <td>0.000384</td>\n",
       "      <td>0.005440</td>\n",
       "      <td>0.000084</td>\n",
       "      <td>0.001139</td>\n",
       "      <td>64.0</td>\n",
       "      <td>2.0</td>\n",
       "      <td>0.0010</td>\n",
       "      <td>10.75</td>\n",
       "    </tr>\n",
       "    <tr>\n",
       "      <th>6</th>\n",
       "      <td>0.000308</td>\n",
       "      <td>0.000222</td>\n",
       "      <td>0.005527</td>\n",
       "      <td>0.000065</td>\n",
       "      <td>0.001148</td>\n",
       "      <td>64.0</td>\n",
       "      <td>8.0</td>\n",
       "      <td>0.0001</td>\n",
       "      <td>12.25</td>\n",
       "    </tr>\n",
       "    <tr>\n",
       "      <th>5</th>\n",
       "      <td>0.000569</td>\n",
       "      <td>0.000164</td>\n",
       "      <td>0.001875</td>\n",
       "      <td>0.000137</td>\n",
       "      <td>0.001058</td>\n",
       "      <td>64.0</td>\n",
       "      <td>4.0</td>\n",
       "      <td>0.0100</td>\n",
       "      <td>13.00</td>\n",
       "    </tr>\n",
       "    <tr>\n",
       "      <th>12</th>\n",
       "      <td>0.000111</td>\n",
       "      <td>0.001003</td>\n",
       "      <td>0.022702</td>\n",
       "      <td>0.000093</td>\n",
       "      <td>0.003477</td>\n",
       "      <td>128.0</td>\n",
       "      <td>4.0</td>\n",
       "      <td>0.0001</td>\n",
       "      <td>14.50</td>\n",
       "    </tr>\n",
       "    <tr>\n",
       "      <th>14</th>\n",
       "      <td>0.000108</td>\n",
       "      <td>0.000681</td>\n",
       "      <td>0.014101</td>\n",
       "      <td>0.000412</td>\n",
       "      <td>0.002611</td>\n",
       "      <td>128.0</td>\n",
       "      <td>4.0</td>\n",
       "      <td>0.0100</td>\n",
       "      <td>14.75</td>\n",
       "    </tr>\n",
       "    <tr>\n",
       "      <th>22</th>\n",
       "      <td>0.000355</td>\n",
       "      <td>0.000372</td>\n",
       "      <td>0.002427</td>\n",
       "      <td>0.000187</td>\n",
       "      <td>0.001157</td>\n",
       "      <td>256.0</td>\n",
       "      <td>4.0</td>\n",
       "      <td>0.0010</td>\n",
       "      <td>14.75</td>\n",
       "    </tr>\n",
       "    <tr>\n",
       "      <th>18</th>\n",
       "      <td>0.000087</td>\n",
       "      <td>0.001293</td>\n",
       "      <td>0.028361</td>\n",
       "      <td>0.000165</td>\n",
       "      <td>0.004382</td>\n",
       "      <td>256.0</td>\n",
       "      <td>2.0</td>\n",
       "      <td>0.0001</td>\n",
       "      <td>15.75</td>\n",
       "    </tr>\n",
       "    <tr>\n",
       "      <th>3</th>\n",
       "      <td>0.000114</td>\n",
       "      <td>0.000707</td>\n",
       "      <td>0.036922</td>\n",
       "      <td>0.000142</td>\n",
       "      <td>0.004655</td>\n",
       "      <td>64.0</td>\n",
       "      <td>4.0</td>\n",
       "      <td>0.0001</td>\n",
       "      <td>15.75</td>\n",
       "    </tr>\n",
       "    <tr>\n",
       "      <th>9</th>\n",
       "      <td>0.000068</td>\n",
       "      <td>0.001201</td>\n",
       "      <td>0.034327</td>\n",
       "      <td>0.000200</td>\n",
       "      <td>0.004901</td>\n",
       "      <td>128.0</td>\n",
       "      <td>2.0</td>\n",
       "      <td>0.0001</td>\n",
       "      <td>16.75</td>\n",
       "    </tr>\n",
       "    <tr>\n",
       "      <th>19</th>\n",
       "      <td>0.000158</td>\n",
       "      <td>0.000622</td>\n",
       "      <td>0.021398</td>\n",
       "      <td>0.000390</td>\n",
       "      <td>0.003309</td>\n",
       "      <td>256.0</td>\n",
       "      <td>2.0</td>\n",
       "      <td>0.0010</td>\n",
       "      <td>17.25</td>\n",
       "    </tr>\n",
       "    <tr>\n",
       "      <th>10</th>\n",
       "      <td>0.000201</td>\n",
       "      <td>0.000596</td>\n",
       "      <td>0.015699</td>\n",
       "      <td>0.000245</td>\n",
       "      <td>0.002612</td>\n",
       "      <td>128.0</td>\n",
       "      <td>2.0</td>\n",
       "      <td>0.0010</td>\n",
       "      <td>17.25</td>\n",
       "    </tr>\n",
       "    <tr>\n",
       "      <th>2</th>\n",
       "      <td>0.000145</td>\n",
       "      <td>0.000709</td>\n",
       "      <td>0.021852</td>\n",
       "      <td>0.000284</td>\n",
       "      <td>0.003323</td>\n",
       "      <td>64.0</td>\n",
       "      <td>2.0</td>\n",
       "      <td>0.0100</td>\n",
       "      <td>17.50</td>\n",
       "    </tr>\n",
       "    <tr>\n",
       "      <th>11</th>\n",
       "      <td>0.000219</td>\n",
       "      <td>0.001415</td>\n",
       "      <td>0.023814</td>\n",
       "      <td>0.000081</td>\n",
       "      <td>0.004096</td>\n",
       "      <td>128.0</td>\n",
       "      <td>2.0</td>\n",
       "      <td>0.0100</td>\n",
       "      <td>18.50</td>\n",
       "    </tr>\n",
       "    <tr>\n",
       "      <th>23</th>\n",
       "      <td>0.000150</td>\n",
       "      <td>0.005791</td>\n",
       "      <td>0.008632</td>\n",
       "      <td>0.002535</td>\n",
       "      <td>0.009338</td>\n",
       "      <td>256.0</td>\n",
       "      <td>4.0</td>\n",
       "      <td>0.0100</td>\n",
       "      <td>19.50</td>\n",
       "    </tr>\n",
       "    <tr>\n",
       "      <th>17</th>\n",
       "      <td>0.000687</td>\n",
       "      <td>0.000976</td>\n",
       "      <td>0.014674</td>\n",
       "      <td>0.001293</td>\n",
       "      <td>0.004422</td>\n",
       "      <td>128.0</td>\n",
       "      <td>8.0</td>\n",
       "      <td>0.0100</td>\n",
       "      <td>21.25</td>\n",
       "    </tr>\n",
       "    <tr>\n",
       "      <th>20</th>\n",
       "      <td>0.001352</td>\n",
       "      <td>0.001065</td>\n",
       "      <td>0.040173</td>\n",
       "      <td>0.000197</td>\n",
       "      <td>0.006631</td>\n",
       "      <td>256.0</td>\n",
       "      <td>2.0</td>\n",
       "      <td>0.0100</td>\n",
       "      <td>23.00</td>\n",
       "    </tr>\n",
       "    <tr>\n",
       "      <th>0</th>\n",
       "      <td>0.000905</td>\n",
       "      <td>0.001685</td>\n",
       "      <td>0.072601</td>\n",
       "      <td>0.000197</td>\n",
       "      <td>0.010047</td>\n",
       "      <td>64.0</td>\n",
       "      <td>2.0</td>\n",
       "      <td>0.0001</td>\n",
       "      <td>23.75</td>\n",
       "    </tr>\n",
       "    <tr>\n",
       "      <th>26</th>\n",
       "      <td>0.042243</td>\n",
       "      <td>0.003140</td>\n",
       "      <td>0.016795</td>\n",
       "      <td>0.001045</td>\n",
       "      <td>0.048107</td>\n",
       "      <td>256.0</td>\n",
       "      <td>8.0</td>\n",
       "      <td>0.0100</td>\n",
       "      <td>24.00</td>\n",
       "    </tr>\n",
       "  </tbody>\n",
       "</table>\n",
       "</div>"
      ],
      "text/plain": [
       "    PDE Loss  Zero Maturity Loss  Zero Strike Loss  Infinity Strike Loss  \\\n",
       "7   0.000114            0.000091          0.000040              0.000029   \n",
       "16  0.000115            0.000109          0.000033              0.000030   \n",
       "25  0.000096            0.000138          0.000656              0.000035   \n",
       "4   0.000176            0.000112          0.000260              0.000058   \n",
       "24  0.000296            0.000110          0.000129              0.000063   \n",
       "13  0.000174            0.000115          0.000439              0.000075   \n",
       "15  0.000465            0.000211          0.001115              0.000024   \n",
       "21  0.000166            0.000435          0.009744              0.000029   \n",
       "8   0.000192            0.000307          0.000026              0.000169   \n",
       "1   0.000127            0.000384          0.005440              0.000084   \n",
       "6   0.000308            0.000222          0.005527              0.000065   \n",
       "5   0.000569            0.000164          0.001875              0.000137   \n",
       "12  0.000111            0.001003          0.022702              0.000093   \n",
       "14  0.000108            0.000681          0.014101              0.000412   \n",
       "22  0.000355            0.000372          0.002427              0.000187   \n",
       "18  0.000087            0.001293          0.028361              0.000165   \n",
       "3   0.000114            0.000707          0.036922              0.000142   \n",
       "9   0.000068            0.001201          0.034327              0.000200   \n",
       "19  0.000158            0.000622          0.021398              0.000390   \n",
       "10  0.000201            0.000596          0.015699              0.000245   \n",
       "2   0.000145            0.000709          0.021852              0.000284   \n",
       "11  0.000219            0.001415          0.023814              0.000081   \n",
       "23  0.000150            0.005791          0.008632              0.002535   \n",
       "17  0.000687            0.000976          0.014674              0.001293   \n",
       "20  0.001352            0.001065          0.040173              0.000197   \n",
       "0   0.000905            0.001685          0.072601              0.000197   \n",
       "26  0.042243            0.003140          0.016795              0.001045   \n",
       "\n",
       "    Total Loss  hidden_dim  n_layers  pre_train_learning_rate  average_rank  \n",
       "7     0.000238        64.0       8.0                   0.0010          3.25  \n",
       "16    0.000258       128.0       8.0                   0.0010          4.00  \n",
       "25    0.000334       256.0       8.0                   0.0010          5.25  \n",
       "4     0.000371        64.0       4.0                   0.0010          7.50  \n",
       "24    0.000482       256.0       8.0                   0.0001          8.25  \n",
       "13    0.000408       128.0       4.0                   0.0010          8.50  \n",
       "15    0.000812       128.0       8.0                   0.0001          9.75  \n",
       "21    0.001604       256.0       4.0                   0.0001         10.50  \n",
       "8     0.000671        64.0       8.0                   0.0100         10.75  \n",
       "1     0.001139        64.0       2.0                   0.0010         10.75  \n",
       "6     0.001148        64.0       8.0                   0.0001         12.25  \n",
       "5     0.001058        64.0       4.0                   0.0100         13.00  \n",
       "12    0.003477       128.0       4.0                   0.0001         14.50  \n",
       "14    0.002611       128.0       4.0                   0.0100         14.75  \n",
       "22    0.001157       256.0       4.0                   0.0010         14.75  \n",
       "18    0.004382       256.0       2.0                   0.0001         15.75  \n",
       "3     0.004655        64.0       4.0                   0.0001         15.75  \n",
       "9     0.004901       128.0       2.0                   0.0001         16.75  \n",
       "19    0.003309       256.0       2.0                   0.0010         17.25  \n",
       "10    0.002612       128.0       2.0                   0.0010         17.25  \n",
       "2     0.003323        64.0       2.0                   0.0100         17.50  \n",
       "11    0.004096       128.0       2.0                   0.0100         18.50  \n",
       "23    0.009338       256.0       4.0                   0.0100         19.50  \n",
       "17    0.004422       128.0       8.0                   0.0100         21.25  \n",
       "20    0.006631       256.0       2.0                   0.0100         23.00  \n",
       "0     0.010047        64.0       2.0                   0.0001         23.75  \n",
       "26    0.048107       256.0       8.0                   0.0100         24.00  "
      ]
     },
     "execution_count": 28,
     "metadata": {},
     "output_type": "execute_result"
    }
   ],
   "source": [
    "# Rank the losses for each column (except 'Total Loss')\n",
    "ranked_losses = results_df.drop(columns=['Total Loss', 'hidden_dim', 'n_layers', 'pre_train_learning_rate']).rank()\n",
    "\n",
    "ranked_df = results_df.copy()\n",
    "\n",
    "# Compute the average rank for each configuration\n",
    "ranked_df['average_rank'] = ranked_losses.mean(axis=1)\n",
    "\n",
    "# Sort by the average rank (lower is better)\n",
    "ranked_df = ranked_df.sort_values('average_rank')\n",
    "\n",
    "# Print the top-ranked configurations\n",
    "ranked_df"
   ]
  },
  {
   "cell_type": "code",
   "execution_count": null,
   "metadata": {},
   "outputs": [],
   "source": [
    "hidden_dim = 64\n",
    "n_layers = 8\n",
    "batch_size = 1000\n",
    "pde_loss_coefficient = 1.0\n",
    "maturity_zero_loss_coefficient = 1.0\n",
    "strike_zero_loss_coefficient = 1.0\n",
    "strike_infinity_loss_coefficient = 1.0\n",
    "pre_train_learning_rate = 1e-3\n",
    "fine_tune_learning_rate = 1e-4\n",
    "pre_train_epochs = 3\n",
    "fine_tune_epochs = 20\n",
    "maturity_min = maturity_time_list.min()\n",
    "maturity_max = maturity_time_list.max()\n",
    "strike_min = strike_price_list.min()\n",
    "strike_max = strike_price_list.max()\n",
    "volatility_mean = np.mean(sampled_volatilities)\n",
    "volatility_std = np.std(sampled_volatilities)\n",
    "strike_infinity = 2.5\n",
    "device = 'cpu'\n",
    "\n",
    "init_loss = pd.DataFrame()\n",
    "\n",
    "for i in range(100):\n",
    "    # Initialize the DupirePINNTrainer class\n",
    "    trainer = DupirePINNTrainer(\n",
    "        hidden_dim=hidden_dim,\n",
    "        n_layers=n_layers,\n",
    "        batch_size=batch_size,\n",
    "        pde_loss_coefficient=pde_loss_coefficient,\n",
    "        maturity_zero_loss_coefficient=maturity_zero_loss_coefficient,\n",
    "        strike_zero_loss_coefficient=strike_zero_loss_coefficient,\n",
    "        strike_infinity_loss_coefficient=strike_infinity_loss_coefficient,\n",
    "        pre_train_learning_rate=pre_train_learning_rate,\n",
    "        fine_tune_learning_rate=fine_tune_learning_rate,\n",
    "        pre_train_epochs=pre_train_epochs,\n",
    "        fine_tune_epochs=fine_tune_epochs,\n",
    "        maturity_min=maturity_min,\n",
    "        maturity_max=maturity_max,\n",
    "        strike_min=strike_min,\n",
    "        strike_max=strike_max,\n",
    "        volatility_mean=volatility_mean,\n",
    "        volatility_std=volatility_std,\n",
    "        maturity_time_list=maturity_time_list,\n",
    "        strike_price_list=strike_price_list,\n",
    "        strike_std=strike_std,\n",
    "        maturity_std=maturity_std,\n",
    "        constant_volatility=constant_volatility,\n",
    "        strike_infinity=strike_infinity,\n",
    "        device=device\n",
    "    )\n",
    "\n",
    "    trainer.pre_train(\n",
    "        sampled_surface_coefficients=sampled_surface_coefficients,\n",
    "        experiment_name='test 1'\n",
    "    )\n",
    "\n",
    "    init_loss = pd.concat([init_loss, pd.DataFrame(trainer.pre_train_loss_history)], ignore_index=True)"
   ]
  },
  {
   "cell_type": "code",
   "execution_count": 55,
   "metadata": {},
   "outputs": [
    {
     "data": {
      "text/plain": [
       "PDE Loss                839.440332\n",
       "Zero Maturity Loss      914.230596\n",
       "Zero Strike Loss         32.072821\n",
       "Infinity Strike Loss    228.623162\n",
       "Total Loss               25.773987\n",
       "dtype: float64"
      ]
     },
     "execution_count": 55,
     "metadata": {},
     "output_type": "execute_result"
    }
   ],
   "source": [
    "(1 / init_loss).median()"
   ]
  },
  {
   "cell_type": "code",
   "execution_count": 6,
   "metadata": {},
   "outputs": [
    {
     "name": "stdout",
     "output_type": "stream",
     "text": [
      "Epoch 1/50, Losses: {'PDE Loss': 0.0001953847080380968, 'Zero Maturity Loss': 0.0009452851954847574, 'Zero Strike Loss': 0.07255642116069794, 'Infinity Strike Loss': 0.002272723475471139, 'Total Loss': 3.7617072899564667}\n",
      "Epoch 2/50, Losses: {'PDE Loss': 0.00409474262265232, 'Zero Maturity Loss': 0.0015272407326847315, 'Zero Strike Loss': 0.06295443326234818, 'Infinity Strike Loss': 0.0053780339658260345, 'Total Loss': 8.088189377066362}\n",
      "Epoch 3/50, Losses: {'PDE Loss': 8.323679418755158e-05, 'Zero Maturity Loss': 0.0012462212471291423, 'Zero Strike Loss': 0.06133729964494705, 'Infinity Strike Loss': 0.001744386157952249, 'Total Loss': 3.468565906521516}\n",
      "Epoch 4/50, Losses: {'PDE Loss': 0.0005834500663268324, 'Zero Maturity Loss': 0.0004763662873301655, 'Zero Strike Loss': 0.053102560341358185, 'Infinity Strike Loss': 0.00027722667437046766, 'Total Loss': 2.587045706497589}\n",
      "Epoch 5/50, Losses: {'PDE Loss': 0.0005063733746139666, 'Zero Maturity Loss': 0.0003294216876383871, 'Zero Strike Loss': 0.04237154498696327, 'Infinity Strike Loss': 0.004018328618258238, 'Total Loss': 3.002625355730374}\n",
      "Epoch 6/50, Losses: {'PDE Loss': 9.260965103279763e-05, 'Zero Maturity Loss': 0.00042385709821246564, 'Zero Strike Loss': 0.03421485051512718, 'Infinity Strike Loss': 0.006793589796870947, 'Total Loss': 3.1850325048686616}\n",
      "Epoch 7/50, Losses: {'PDE Loss': 0.00011707550189429822, 'Zero Maturity Loss': 0.00033908936893567443, 'Zero Strike Loss': 0.030504362657666206, 'Infinity Strike Loss': 0.005466367118060589, 'Total Loss': 2.6864172718555146}\n",
      "Epoch 8/50, Losses: {'PDE Loss': 0.00019391361344704635, 'Zero Maturity Loss': 0.00028135962202213705, 'Zero Strike Loss': 0.030117187649011612, 'Infinity Strike Loss': 0.0024506293702870607, 'Total Loss': 1.9342232341420864}\n",
      "Epoch 9/50, Losses: {'PDE Loss': 0.00014922314352992317, 'Zero Maturity Loss': 0.00047851348062977195, 'Zero Strike Loss': 0.03152668848633766, 'Infinity Strike Loss': 0.00041337512084282935, 'Total Loss': 1.606646236748722}\n",
      "Epoch 10/50, Losses: {'PDE Loss': 7.07361708548564e-05, 'Zero Maturity Loss': 0.0008179510477930307, 'Zero Strike Loss': 0.03334622457623482, 'Infinity Strike Loss': 2.106652937072795e-05, 'Total Loss': 1.8019350197622541}\n",
      "Epoch 11/50, Losses: {'PDE Loss': 3.9525793837584865e-05, 'Zero Maturity Loss': 0.0009559211903251708, 'Zero Strike Loss': 0.03431468829512596, 'Infinity Strike Loss': 0.00030512630473822355, 'Total Loss': 1.9996482350627742}\n",
      "Epoch 12/50, Losses: {'PDE Loss': 4.684862746841168e-05, 'Zero Maturity Loss': 0.0008319824119098485, 'Zero Strike Loss': 0.033814188092947006, 'Infinity Strike Loss': 0.0003026780323125422, 'Total Loss': 1.8787006578439422}\n",
      "Epoch 13/50, Losses: {'PDE Loss': 7.332407501488455e-05, 'Zero Maturity Loss': 0.0005009532906115055, 'Zero Strike Loss': 0.03211800009012222, 'Infinity Strike Loss': 5.844788029207848e-05, 'Total Loss': 1.4913354182077159}\n",
      "Epoch 14/50, Losses: {'PDE Loss': 0.00011743946404549083, 'Zero Maturity Loss': 0.0002508679172024131, 'Zero Strike Loss': 0.029739832505583763, 'Infinity Strike Loss': 7.799735612934455e-05, 'Total Loss': 1.2372989977558326}\n",
      "Epoch 15/50, Losses: {'PDE Loss': 0.0001608000632396189, 'Zero Maturity Loss': 0.0001748051290633157, 'Zero Strike Loss': 0.027253394946455956, 'Infinity Strike Loss': 0.0005745805101469159, 'Total Loss': 1.2552516481111666}\n",
      "Epoch 16/50, Losses: {'PDE Loss': 0.0001546208047138941, 'Zero Maturity Loss': 0.00020888197468593717, 'Zero Strike Loss': 0.0251153577119112, 'Infinity Strike Loss': 0.0012195645831525326, 'Total Loss': 1.3777733083344696}\n",
      "Epoch 17/50, Losses: {'PDE Loss': 0.00014256990086834024, 'Zero Maturity Loss': 0.00022158936189953238, 'Zero Strike Loss': 0.023452172055840492, 'Infinity Strike Loss': 0.0015023763990029693, 'Total Loss': 1.3997741263313128}\n",
      "Epoch 18/50, Losses: {'PDE Loss': 0.0001695590820695105, 'Zero Maturity Loss': 0.00017719280731398612, 'Zero Strike Loss': 0.022091466933488846, 'Infinity Strike Loss': 0.0012598232133314013, 'Total Loss': 1.2812985296813022}\n",
      "Epoch 19/50, Losses: {'PDE Loss': 0.00020084186855725238, 'Zero Maturity Loss': 0.0001407908566761762, 'Zero Strike Loss': 0.020708074793219566, 'Infinity Strike Loss': 0.0007426330703310668, 'Total Loss': 1.1043278455158672}\n",
      "Epoch 20/50, Losses: {'PDE Loss': 0.0002059489712383557, 'Zero Maturity Loss': 0.0001779165759216994, 'Zero Strike Loss': 0.018969964236021042, 'Infinity Strike Loss': 0.000301122956443578, 'Total Loss': 0.9795612287001091}\n",
      "Epoch 21/50, Losses: {'PDE Loss': 0.00017254115586052405, 'Zero Maturity Loss': 0.00026406938559375703, 'Zero Strike Loss': 0.01683240570127964, 'Infinity Strike Loss': 8.308112592203543e-05, 'Total Loss': 0.9100648733763352}\n",
      "Epoch 22/50, Losses: {'PDE Loss': 0.00017765146672761445, 'Zero Maturity Loss': 0.0003496829594951123, 'Zero Strike Loss': 0.014396059326827526, 'Infinity Strike Loss': 2.459960160194896e-05, 'Total Loss': 0.9037501029039979}\n",
      "Epoch 23/50, Losses: {'PDE Loss': 0.000255909568201445, 'Zero Maturity Loss': 0.0003546132647898048, 'Zero Strike Loss': 0.01203181967139244, 'Infinity Strike Loss': 1.4408474271476734e-05, 'Total Loss': 0.9012317720881861}\n",
      "Epoch 24/50, Losses: {'PDE Loss': 0.00040956916294239757, 'Zero Maturity Loss': 0.00031034412677399814, 'Zero Strike Loss': 0.010076873935759068, 'Infinity Strike Loss': 1.625254844839219e-05, 'Total Loss': 0.9338128506775337}\n",
      "Epoch 25/50, Losses: {'PDE Loss': 0.0004289673585454284, 'Zero Maturity Loss': 0.00021460145944729447, 'Zero Strike Loss': 0.008861013688147068, 'Infinity Strike Loss': 4.566383722703904e-05, 'Total Loss': 0.835009923112463}\n",
      "Epoch 26/50, Losses: {'PDE Loss': 0.0003908068938519929, 'Zero Maturity Loss': 0.00014649743388872594, 'Zero Strike Loss': 0.008315712213516235, 'Infinity Strike Loss': 9.991210390580818e-05, 'Total Loss': 0.7384829474435666}\n",
      "Epoch 27/50, Losses: {'PDE Loss': 0.0002846432596529492, 'Zero Maturity Loss': 0.00010739322897279635, 'Zero Strike Loss': 0.008299724198877811, 'Infinity Strike Loss': 0.0001467500114813447, 'Total Loss': 0.6242799115252716}\n",
      "Epoch 28/50, Losses: {'PDE Loss': 0.0002900427566272243, 'Zero Maturity Loss': 9.5086004876066e-05, 'Zero Strike Loss': 0.008442805148661137, 'Infinity Strike Loss': 0.0001603892451385036, 'Total Loss': 0.6254952165838967}\n",
      "Epoch 29/50, Losses: {'PDE Loss': 0.0003655814811858693, 'Zero Maturity Loss': 9.495714766671881e-05, 'Zero Strike Loss': 0.008399139158427715, 'Infinity Strike Loss': 0.00013518442574422807, 'Total Loss': 0.6819759602330313}\n",
      "Epoch 30/50, Losses: {'PDE Loss': 0.00036763890768473563, 'Zero Maturity Loss': 9.661309013608843e-05, 'Zero Strike Loss': 0.007969209924340248, 'Infinity Strike Loss': 8.590643119532615e-05, 'Total Loss': 0.659997765546813}\n",
      "Epoch 31/50, Losses: {'PDE Loss': 0.0003391345239484423, 'Zero Maturity Loss': 9.62588528636843e-05, 'Zero Strike Loss': 0.00708048278465867, 'Infinity Strike Loss': 4.10262327932287e-05, 'Total Loss': 0.5975683592044807}\n",
      "Epoch 32/50, Losses: {'PDE Loss': 0.0002944968056897022, 'Zero Maturity Loss': 9.246774425264448e-05, 'Zero Strike Loss': 0.005963070783764124, 'Infinity Strike Loss': 1.9485323718981817e-05, 'Total Loss': 0.5173067028708004}\n",
      "Epoch 33/50, Losses: {'PDE Loss': 0.0002635485316682562, 'Zero Maturity Loss': 8.878629887476563e-05, 'Zero Strike Loss': 0.004778748378157616, 'Infinity Strike Loss': 2.3706319552729838e-05, 'Total Loss': 0.45321294985720506}\n",
      "Epoch 34/50, Losses: {'PDE Loss': 0.0003485419035894614, 'Zero Maturity Loss': 8.767437975620851e-05, 'Zero Strike Loss': 0.003690652782097459, 'Infinity Strike Loss': 3.606613609008491e-05, 'Total Loss': 0.49490367472683394}\n",
      "Epoch 35/50, Losses: {'PDE Loss': 0.0003346684704649227, 'Zero Maturity Loss': 8.948237518779933e-05, 'Zero Strike Loss': 0.002891929354518652, 'Infinity Strike Loss': 4.1512288589728996e-05, 'Total Loss': 0.4621382931484392}\n",
      "Epoch 36/50, Losses: {'PDE Loss': 0.00028580967385629546, 'Zero Maturity Loss': 9.05783599591814e-05, 'Zero Strike Loss': 0.0023364366497844458, 'Infinity Strike Loss': 3.194321834598668e-05, 'Total Loss': 0.40253765736223035}\n",
      "Epoch 37/50, Losses: {'PDE Loss': 0.00023573586260177044, 'Zero Maturity Loss': 9.322420373791829e-05, 'Zero Strike Loss': 0.001933838240802288, 'Infinity Strike Loss': 1.5873974916758016e-05, 'Total Loss': 0.34626090743430205}\n",
      "Epoch 38/50, Losses: {'PDE Loss': 0.00020638054849362358, 'Zero Maturity Loss': 9.570275142323226e-05, 'Zero Strike Loss': 0.0016104583628475666, 'Infinity Strike Loss': 1.4075154467718676e-05, 'Total Loss': 0.31338848088962423}\n",
      "Epoch 39/50, Losses: {'PDE Loss': 0.00020845337034215472, 'Zero Maturity Loss': 0.00010012642451329157, 'Zero Strike Loss': 0.0013182563707232475, 'Infinity Strike Loss': 3.5705121263163164e-05, 'Total Loss': 0.31577311621663423}\n",
      "Epoch 40/50, Losses: {'PDE Loss': 0.00020244033254296806, 'Zero Maturity Loss': 0.00010382557229604572, 'Zero Strike Loss': 0.001058343448676169, 'Infinity Strike Loss': 6.021346780471504e-05, 'Total Loss': 0.312320966393198}\n",
      "Epoch 41/50, Losses: {'PDE Loss': 0.00018082013067605238, 'Zero Maturity Loss': 0.00010854146239580587, 'Zero Strike Loss': 0.0008268669480457902, 'Infinity Strike Loss': 5.812601375509985e-05, 'Total Loss': 0.2907219411701145}\n",
      "Epoch 42/50, Losses: {'PDE Loss': 0.00015705180268138773, 'Zero Maturity Loss': 0.00011093408829765394, 'Zero Strike Loss': 0.0006221464718692005, 'Infinity Strike Loss': 3.5401124478084967e-05, 'Total Loss': 0.26084938525460766}\n",
      "Epoch 43/50, Losses: {'PDE Loss': 0.00013688550188189222, 'Zero Maturity Loss': 0.00012147238885518163, 'Zero Strike Loss': 0.00044583057751879096, 'Infinity Strike Loss': 1.630207225389313e-05, 'Total Loss': 0.24312825985191916}\n",
      "Epoch 44/50, Losses: {'PDE Loss': 0.00011914298037871764, 'Zero Maturity Loss': 0.00012433498341124505, 'Zero Strike Loss': 0.0003118047898169607, 'Infinity Strike Loss': 1.1098386494268198e-05, 'Total Loss': 0.2253017578351725}\n",
      "Epoch 45/50, Losses: {'PDE Loss': 0.00013039124933839226, 'Zero Maturity Loss': 0.00012810123735107481, 'Zero Strike Loss': 0.00022228877060115337, 'Infinity Strike Loss': 1.0442869097460061e-05, 'Total Loss': 0.23540305342851903}\n",
      "Epoch 46/50, Losses: {'PDE Loss': 0.00012878904843053639, 'Zero Maturity Loss': 0.0001293201494263485, 'Zero Strike Loss': 0.0001817394222598523, 'Infinity Strike Loss': 1.01878304121783e-05, 'Total Loss': 0.23385796612787452}\n",
      "Epoch 47/50, Losses: {'PDE Loss': 0.00010845557071082774, 'Zero Maturity Loss': 0.00013321154983714223, 'Zero Strike Loss': 0.00017872493481263518, 'Infinity Strike Loss': 1.0931249562418088e-05, 'Total Loss': 0.22017218728578125}\n",
      "Epoch 48/50, Losses: {'PDE Loss': 7.736034564899022e-05, 'Zero Maturity Loss': 0.00013419947936199605, 'Zero Strike Loss': 0.0001979533553821966, 'Infinity Strike Loss': 1.254470225831028e-05, 'Total Loss': 0.19561059921612461}\n",
      "Epoch 49/50, Losses: {'PDE Loss': 7.525687979315715e-05, 'Zero Maturity Loss': 0.00013974623288959265, 'Zero Strike Loss': 0.0002142668527085334, 'Infinity Strike Loss': 1.4370552889886312e-05, 'Total Loss': 0.1997606036914562}\n",
      "Epoch 50/50, Losses: {'PDE Loss': 7.456412028652573e-05, 'Zero Maturity Loss': 0.00014007625577505678, 'Zero Strike Loss': 0.00020979969121981412, 'Infinity Strike Loss': 1.8061855371342972e-05, 'Total Loss': 0.2002575936198217}\n"
     ]
    }
   ],
   "source": [
    "hidden_dim = 64\n",
    "n_layers = 8\n",
    "batch_size = 1000\n",
    "pde_loss_coefficient = 850.0\n",
    "maturity_zero_loss_coefficient = 900.0\n",
    "strike_zero_loss_coefficient = 30.0\n",
    "strike_infinity_loss_coefficient = 250.0\n",
    "pre_train_learning_rate = 1e-3\n",
    "fine_tune_learning_rate = 1e-4\n",
    "pre_train_epochs = 50\n",
    "fine_tune_epochs = 20\n",
    "maturity_min = maturity_time_list.min()\n",
    "maturity_max = maturity_time_list.max()\n",
    "strike_min = strike_price_list.min()\n",
    "strike_max = strike_price_list.max()\n",
    "volatility_mean = np.mean(sampled_volatilities)\n",
    "volatility_std = np.std(sampled_volatilities)\n",
    "strike_infinity = 2.5\n",
    "device = 'cpu'\n",
    "\n",
    "# Initialize the DupirePINNTrainer class\n",
    "trainer = DupirePINNTrainer(\n",
    "    hidden_dim=hidden_dim,\n",
    "    n_layers=n_layers,\n",
    "    batch_size=batch_size,\n",
    "    pde_loss_coefficient=pde_loss_coefficient,\n",
    "    maturity_zero_loss_coefficient=maturity_zero_loss_coefficient,\n",
    "    strike_zero_loss_coefficient=strike_zero_loss_coefficient,\n",
    "    strike_infinity_loss_coefficient=strike_infinity_loss_coefficient,\n",
    "    pre_train_learning_rate=pre_train_learning_rate,\n",
    "    fine_tune_learning_rate=fine_tune_learning_rate,\n",
    "    pre_train_epochs=pre_train_epochs,\n",
    "    fine_tune_epochs=fine_tune_epochs,\n",
    "    maturity_min=maturity_min,\n",
    "    maturity_max=maturity_max,\n",
    "    strike_min=strike_min,\n",
    "    strike_max=strike_max,\n",
    "    volatility_mean=volatility_mean,\n",
    "    volatility_std=volatility_std,\n",
    "    maturity_time_list=maturity_time_list,\n",
    "    strike_price_list=strike_price_list,\n",
    "    strike_std=strike_std,\n",
    "    maturity_std=maturity_std,\n",
    "    constant_volatility=constant_volatility,\n",
    "    strike_infinity=strike_infinity,\n",
    "    device=device\n",
    ")\n",
    "\n",
    "trainer.pre_train_with_sampling(\n",
    "    smoothness_prior=smoothness_prior,\n",
    "    experiment_name='test 1'\n",
    ")"
   ]
  },
  {
   "cell_type": "code",
   "execution_count": 7,
   "metadata": {},
   "outputs": [
    {
     "data": {
      "application/vnd.plotly.v1+json": {
       "config": {
        "plotlyServerURL": "https://plot.ly"
       },
       "data": [
        {
         "mode": "lines",
         "name": "PDE Loss",
         "type": "scatter",
         "x": [
          0,
          1,
          2,
          3,
          4,
          5,
          6,
          7,
          8,
          9,
          10,
          11,
          12,
          13,
          14,
          15,
          16,
          17,
          18,
          19,
          20,
          21,
          22,
          23,
          24,
          25,
          26,
          27,
          28,
          29,
          30,
          31,
          32,
          33,
          34,
          35,
          36,
          37,
          38,
          39,
          40,
          41,
          42,
          43,
          44,
          45,
          46,
          47,
          48,
          49
         ],
         "xaxis": "x",
         "y": [
          0.0001953847080380968,
          0.00409474262265232,
          0.00008323679418755158,
          0.0005834500663268324,
          0.0005063733746139666,
          0.00009260965103279763,
          0.00011707550189429822,
          0.00019391361344704635,
          0.00014922314352992317,
          0.0000707361708548564,
          0.000039525793837584865,
          0.00004684862746841168,
          0.00007332407501488455,
          0.00011743946404549083,
          0.0001608000632396189,
          0.0001546208047138941,
          0.00014256990086834024,
          0.0001695590820695105,
          0.00020084186855725238,
          0.0002059489712383557,
          0.00017254115586052405,
          0.00017765146672761445,
          0.000255909568201445,
          0.00040956916294239757,
          0.0004289673585454284,
          0.0003908068938519929,
          0.0002846432596529492,
          0.0002900427566272243,
          0.0003655814811858693,
          0.00036763890768473563,
          0.0003391345239484423,
          0.0002944968056897022,
          0.0002635485316682562,
          0.0003485419035894614,
          0.0003346684704649227,
          0.00028580967385629546,
          0.00023573586260177044,
          0.00020638054849362358,
          0.00020845337034215472,
          0.00020244033254296806,
          0.00018082013067605238,
          0.00015705180268138773,
          0.00013688550188189222,
          0.00011914298037871764,
          0.00013039124933839226,
          0.00012878904843053639,
          0.00010845557071082774,
          0.00007736034564899022,
          0.00007525687979315715,
          0.00007456412028652573
         ],
         "yaxis": "y"
        },
        {
         "mode": "lines",
         "name": "Zero Maturity Loss",
         "type": "scatter",
         "x": [
          0,
          1,
          2,
          3,
          4,
          5,
          6,
          7,
          8,
          9,
          10,
          11,
          12,
          13,
          14,
          15,
          16,
          17,
          18,
          19,
          20,
          21,
          22,
          23,
          24,
          25,
          26,
          27,
          28,
          29,
          30,
          31,
          32,
          33,
          34,
          35,
          36,
          37,
          38,
          39,
          40,
          41,
          42,
          43,
          44,
          45,
          46,
          47,
          48,
          49
         ],
         "xaxis": "x2",
         "y": [
          0.0009452851954847574,
          0.0015272407326847315,
          0.0012462212471291423,
          0.0004763662873301655,
          0.0003294216876383871,
          0.00042385709821246564,
          0.00033908936893567443,
          0.00028135962202213705,
          0.00047851348062977195,
          0.0008179510477930307,
          0.0009559211903251708,
          0.0008319824119098485,
          0.0005009532906115055,
          0.0002508679172024131,
          0.0001748051290633157,
          0.00020888197468593717,
          0.00022158936189953238,
          0.00017719280731398612,
          0.0001407908566761762,
          0.0001779165759216994,
          0.00026406938559375703,
          0.0003496829594951123,
          0.0003546132647898048,
          0.00031034412677399814,
          0.00021460145944729447,
          0.00014649743388872594,
          0.00010739322897279635,
          0.000095086004876066,
          0.00009495714766671881,
          0.00009661309013608843,
          0.0000962588528636843,
          0.00009246774425264448,
          0.00008878629887476563,
          0.00008767437975620851,
          0.00008948237518779933,
          0.0000905783599591814,
          0.00009322420373791829,
          0.00009570275142323226,
          0.00010012642451329157,
          0.00010382557229604572,
          0.00010854146239580587,
          0.00011093408829765394,
          0.00012147238885518163,
          0.00012433498341124505,
          0.00012810123735107481,
          0.0001293201494263485,
          0.00013321154983714223,
          0.00013419947936199605,
          0.00013974623288959265,
          0.00014007625577505678
         ],
         "yaxis": "y2"
        },
        {
         "mode": "lines",
         "name": "Zero Strike Loss",
         "type": "scatter",
         "x": [
          0,
          1,
          2,
          3,
          4,
          5,
          6,
          7,
          8,
          9,
          10,
          11,
          12,
          13,
          14,
          15,
          16,
          17,
          18,
          19,
          20,
          21,
          22,
          23,
          24,
          25,
          26,
          27,
          28,
          29,
          30,
          31,
          32,
          33,
          34,
          35,
          36,
          37,
          38,
          39,
          40,
          41,
          42,
          43,
          44,
          45,
          46,
          47,
          48,
          49
         ],
         "xaxis": "x3",
         "y": [
          0.07255642116069794,
          0.06295443326234818,
          0.06133729964494705,
          0.053102560341358185,
          0.04237154498696327,
          0.03421485051512718,
          0.030504362657666206,
          0.030117187649011612,
          0.03152668848633766,
          0.03334622457623482,
          0.03431468829512596,
          0.033814188092947006,
          0.03211800009012222,
          0.029739832505583763,
          0.027253394946455956,
          0.0251153577119112,
          0.023452172055840492,
          0.022091466933488846,
          0.020708074793219566,
          0.018969964236021042,
          0.01683240570127964,
          0.014396059326827526,
          0.01203181967139244,
          0.010076873935759068,
          0.008861013688147068,
          0.008315712213516235,
          0.008299724198877811,
          0.008442805148661137,
          0.008399139158427715,
          0.007969209924340248,
          0.00708048278465867,
          0.005963070783764124,
          0.004778748378157616,
          0.003690652782097459,
          0.002891929354518652,
          0.0023364366497844458,
          0.001933838240802288,
          0.0016104583628475666,
          0.0013182563707232475,
          0.001058343448676169,
          0.0008268669480457902,
          0.0006221464718692005,
          0.00044583057751879096,
          0.0003118047898169607,
          0.00022228877060115337,
          0.0001817394222598523,
          0.00017872493481263518,
          0.0001979533553821966,
          0.0002142668527085334,
          0.00020979969121981412
         ],
         "yaxis": "y3"
        },
        {
         "mode": "lines",
         "name": "Infinity Strike Loss",
         "type": "scatter",
         "x": [
          0,
          1,
          2,
          3,
          4,
          5,
          6,
          7,
          8,
          9,
          10,
          11,
          12,
          13,
          14,
          15,
          16,
          17,
          18,
          19,
          20,
          21,
          22,
          23,
          24,
          25,
          26,
          27,
          28,
          29,
          30,
          31,
          32,
          33,
          34,
          35,
          36,
          37,
          38,
          39,
          40,
          41,
          42,
          43,
          44,
          45,
          46,
          47,
          48,
          49
         ],
         "xaxis": "x4",
         "y": [
          0.002272723475471139,
          0.0053780339658260345,
          0.001744386157952249,
          0.00027722667437046766,
          0.004018328618258238,
          0.006793589796870947,
          0.005466367118060589,
          0.0024506293702870607,
          0.00041337512084282935,
          0.00002106652937072795,
          0.00030512630473822355,
          0.0003026780323125422,
          0.00005844788029207848,
          0.00007799735612934455,
          0.0005745805101469159,
          0.0012195645831525326,
          0.0015023763990029693,
          0.0012598232133314013,
          0.0007426330703310668,
          0.000301122956443578,
          0.00008308112592203543,
          0.00002459960160194896,
          0.000014408474271476734,
          0.00001625254844839219,
          0.00004566383722703904,
          0.00009991210390580818,
          0.0001467500114813447,
          0.0001603892451385036,
          0.00013518442574422807,
          0.00008590643119532615,
          0.0000410262327932287,
          0.000019485323718981817,
          0.000023706319552729838,
          0.00003606613609008491,
          0.000041512288589728996,
          0.00003194321834598668,
          0.000015873974916758016,
          0.000014075154467718676,
          0.000035705121263163164,
          0.00006021346780471504,
          0.00005812601375509985,
          0.000035401124478084967,
          0.00001630207225389313,
          0.000011098386494268198,
          0.000010442869097460061,
          0.0000101878304121783,
          0.000010931249562418088,
          0.00001254470225831028,
          0.000014370552889886312,
          0.000018061855371342972
         ],
         "yaxis": "y4"
        },
        {
         "mode": "lines",
         "name": "Total Loss",
         "type": "scatter",
         "x": [
          0,
          1,
          2,
          3,
          4,
          5,
          6,
          7,
          8,
          9,
          10,
          11,
          12,
          13,
          14,
          15,
          16,
          17,
          18,
          19,
          20,
          21,
          22,
          23,
          24,
          25,
          26,
          27,
          28,
          29,
          30,
          31,
          32,
          33,
          34,
          35,
          36,
          37,
          38,
          39,
          40,
          41,
          42,
          43,
          44,
          45,
          46,
          47,
          48,
          49
         ],
         "xaxis": "x5",
         "y": [
          3.7617072899564667,
          8.088189377066362,
          3.468565906521516,
          2.587045706497589,
          3.002625355730374,
          3.1850325048686616,
          2.6864172718555146,
          1.9342232341420864,
          1.606646236748722,
          1.8019350197622541,
          1.9996482350627742,
          1.8787006578439422,
          1.4913354182077159,
          1.2372989977558326,
          1.2552516481111666,
          1.3777733083344696,
          1.3997741263313128,
          1.2812985296813022,
          1.1043278455158672,
          0.9795612287001091,
          0.9100648733763352,
          0.9037501029039979,
          0.9012317720881861,
          0.9338128506775337,
          0.835009923112463,
          0.7384829474435666,
          0.6242799115252716,
          0.6254952165838967,
          0.6819759602330313,
          0.659997765546813,
          0.5975683592044807,
          0.5173067028708004,
          0.45321294985720506,
          0.49490367472683394,
          0.4621382931484392,
          0.40253765736223035,
          0.34626090743430205,
          0.31338848088962423,
          0.31577311621663423,
          0.312320966393198,
          0.2907219411701145,
          0.26084938525460766,
          0.24312825985191916,
          0.2253017578351725,
          0.23540305342851903,
          0.23385796612787452,
          0.22017218728578125,
          0.19561059921612461,
          0.1997606036914562,
          0.2002575936198217
         ],
         "yaxis": "y5"
        }
       ],
       "layout": {
        "annotations": [
         {
          "font": {
           "size": 16
          },
          "showarrow": false,
          "text": "PDE Loss",
          "x": 0.225,
          "xanchor": "center",
          "xref": "paper",
          "y": 1,
          "yanchor": "bottom",
          "yref": "paper"
         },
         {
          "font": {
           "size": 16
          },
          "showarrow": false,
          "text": "Zero Maturity Loss",
          "x": 0.775,
          "xanchor": "center",
          "xref": "paper",
          "y": 1,
          "yanchor": "bottom",
          "yref": "paper"
         },
         {
          "font": {
           "size": 16
          },
          "showarrow": false,
          "text": "Zero Strike Loss",
          "x": 0.225,
          "xanchor": "center",
          "xref": "paper",
          "y": 0.6333333333333333,
          "yanchor": "bottom",
          "yref": "paper"
         },
         {
          "font": {
           "size": 16
          },
          "showarrow": false,
          "text": "Infinity Strike Loss",
          "x": 0.775,
          "xanchor": "center",
          "xref": "paper",
          "y": 0.6333333333333333,
          "yanchor": "bottom",
          "yref": "paper"
         },
         {
          "font": {
           "size": 16
          },
          "showarrow": false,
          "text": "Total Loss",
          "x": 0.5,
          "xanchor": "center",
          "xref": "paper",
          "y": 0.26666666666666666,
          "yanchor": "bottom",
          "yref": "paper"
         }
        ],
        "height": 900,
        "showlegend": false,
        "template": {
         "data": {
          "bar": [
           {
            "error_x": {
             "color": "#2a3f5f"
            },
            "error_y": {
             "color": "#2a3f5f"
            },
            "marker": {
             "line": {
              "color": "#E5ECF6",
              "width": 0.5
             },
             "pattern": {
              "fillmode": "overlay",
              "size": 10,
              "solidity": 0.2
             }
            },
            "type": "bar"
           }
          ],
          "barpolar": [
           {
            "marker": {
             "line": {
              "color": "#E5ECF6",
              "width": 0.5
             },
             "pattern": {
              "fillmode": "overlay",
              "size": 10,
              "solidity": 0.2
             }
            },
            "type": "barpolar"
           }
          ],
          "carpet": [
           {
            "aaxis": {
             "endlinecolor": "#2a3f5f",
             "gridcolor": "white",
             "linecolor": "white",
             "minorgridcolor": "white",
             "startlinecolor": "#2a3f5f"
            },
            "baxis": {
             "endlinecolor": "#2a3f5f",
             "gridcolor": "white",
             "linecolor": "white",
             "minorgridcolor": "white",
             "startlinecolor": "#2a3f5f"
            },
            "type": "carpet"
           }
          ],
          "choropleth": [
           {
            "colorbar": {
             "outlinewidth": 0,
             "ticks": ""
            },
            "type": "choropleth"
           }
          ],
          "contour": [
           {
            "colorbar": {
             "outlinewidth": 0,
             "ticks": ""
            },
            "colorscale": [
             [
              0,
              "#0d0887"
             ],
             [
              0.1111111111111111,
              "#46039f"
             ],
             [
              0.2222222222222222,
              "#7201a8"
             ],
             [
              0.3333333333333333,
              "#9c179e"
             ],
             [
              0.4444444444444444,
              "#bd3786"
             ],
             [
              0.5555555555555556,
              "#d8576b"
             ],
             [
              0.6666666666666666,
              "#ed7953"
             ],
             [
              0.7777777777777778,
              "#fb9f3a"
             ],
             [
              0.8888888888888888,
              "#fdca26"
             ],
             [
              1,
              "#f0f921"
             ]
            ],
            "type": "contour"
           }
          ],
          "contourcarpet": [
           {
            "colorbar": {
             "outlinewidth": 0,
             "ticks": ""
            },
            "type": "contourcarpet"
           }
          ],
          "heatmap": [
           {
            "colorbar": {
             "outlinewidth": 0,
             "ticks": ""
            },
            "colorscale": [
             [
              0,
              "#0d0887"
             ],
             [
              0.1111111111111111,
              "#46039f"
             ],
             [
              0.2222222222222222,
              "#7201a8"
             ],
             [
              0.3333333333333333,
              "#9c179e"
             ],
             [
              0.4444444444444444,
              "#bd3786"
             ],
             [
              0.5555555555555556,
              "#d8576b"
             ],
             [
              0.6666666666666666,
              "#ed7953"
             ],
             [
              0.7777777777777778,
              "#fb9f3a"
             ],
             [
              0.8888888888888888,
              "#fdca26"
             ],
             [
              1,
              "#f0f921"
             ]
            ],
            "type": "heatmap"
           }
          ],
          "heatmapgl": [
           {
            "colorbar": {
             "outlinewidth": 0,
             "ticks": ""
            },
            "colorscale": [
             [
              0,
              "#0d0887"
             ],
             [
              0.1111111111111111,
              "#46039f"
             ],
             [
              0.2222222222222222,
              "#7201a8"
             ],
             [
              0.3333333333333333,
              "#9c179e"
             ],
             [
              0.4444444444444444,
              "#bd3786"
             ],
             [
              0.5555555555555556,
              "#d8576b"
             ],
             [
              0.6666666666666666,
              "#ed7953"
             ],
             [
              0.7777777777777778,
              "#fb9f3a"
             ],
             [
              0.8888888888888888,
              "#fdca26"
             ],
             [
              1,
              "#f0f921"
             ]
            ],
            "type": "heatmapgl"
           }
          ],
          "histogram": [
           {
            "marker": {
             "pattern": {
              "fillmode": "overlay",
              "size": 10,
              "solidity": 0.2
             }
            },
            "type": "histogram"
           }
          ],
          "histogram2d": [
           {
            "colorbar": {
             "outlinewidth": 0,
             "ticks": ""
            },
            "colorscale": [
             [
              0,
              "#0d0887"
             ],
             [
              0.1111111111111111,
              "#46039f"
             ],
             [
              0.2222222222222222,
              "#7201a8"
             ],
             [
              0.3333333333333333,
              "#9c179e"
             ],
             [
              0.4444444444444444,
              "#bd3786"
             ],
             [
              0.5555555555555556,
              "#d8576b"
             ],
             [
              0.6666666666666666,
              "#ed7953"
             ],
             [
              0.7777777777777778,
              "#fb9f3a"
             ],
             [
              0.8888888888888888,
              "#fdca26"
             ],
             [
              1,
              "#f0f921"
             ]
            ],
            "type": "histogram2d"
           }
          ],
          "histogram2dcontour": [
           {
            "colorbar": {
             "outlinewidth": 0,
             "ticks": ""
            },
            "colorscale": [
             [
              0,
              "#0d0887"
             ],
             [
              0.1111111111111111,
              "#46039f"
             ],
             [
              0.2222222222222222,
              "#7201a8"
             ],
             [
              0.3333333333333333,
              "#9c179e"
             ],
             [
              0.4444444444444444,
              "#bd3786"
             ],
             [
              0.5555555555555556,
              "#d8576b"
             ],
             [
              0.6666666666666666,
              "#ed7953"
             ],
             [
              0.7777777777777778,
              "#fb9f3a"
             ],
             [
              0.8888888888888888,
              "#fdca26"
             ],
             [
              1,
              "#f0f921"
             ]
            ],
            "type": "histogram2dcontour"
           }
          ],
          "mesh3d": [
           {
            "colorbar": {
             "outlinewidth": 0,
             "ticks": ""
            },
            "type": "mesh3d"
           }
          ],
          "parcoords": [
           {
            "line": {
             "colorbar": {
              "outlinewidth": 0,
              "ticks": ""
             }
            },
            "type": "parcoords"
           }
          ],
          "pie": [
           {
            "automargin": true,
            "type": "pie"
           }
          ],
          "scatter": [
           {
            "fillpattern": {
             "fillmode": "overlay",
             "size": 10,
             "solidity": 0.2
            },
            "type": "scatter"
           }
          ],
          "scatter3d": [
           {
            "line": {
             "colorbar": {
              "outlinewidth": 0,
              "ticks": ""
             }
            },
            "marker": {
             "colorbar": {
              "outlinewidth": 0,
              "ticks": ""
             }
            },
            "type": "scatter3d"
           }
          ],
          "scattercarpet": [
           {
            "marker": {
             "colorbar": {
              "outlinewidth": 0,
              "ticks": ""
             }
            },
            "type": "scattercarpet"
           }
          ],
          "scattergeo": [
           {
            "marker": {
             "colorbar": {
              "outlinewidth": 0,
              "ticks": ""
             }
            },
            "type": "scattergeo"
           }
          ],
          "scattergl": [
           {
            "marker": {
             "colorbar": {
              "outlinewidth": 0,
              "ticks": ""
             }
            },
            "type": "scattergl"
           }
          ],
          "scattermapbox": [
           {
            "marker": {
             "colorbar": {
              "outlinewidth": 0,
              "ticks": ""
             }
            },
            "type": "scattermapbox"
           }
          ],
          "scatterpolar": [
           {
            "marker": {
             "colorbar": {
              "outlinewidth": 0,
              "ticks": ""
             }
            },
            "type": "scatterpolar"
           }
          ],
          "scatterpolargl": [
           {
            "marker": {
             "colorbar": {
              "outlinewidth": 0,
              "ticks": ""
             }
            },
            "type": "scatterpolargl"
           }
          ],
          "scatterternary": [
           {
            "marker": {
             "colorbar": {
              "outlinewidth": 0,
              "ticks": ""
             }
            },
            "type": "scatterternary"
           }
          ],
          "surface": [
           {
            "colorbar": {
             "outlinewidth": 0,
             "ticks": ""
            },
            "colorscale": [
             [
              0,
              "#0d0887"
             ],
             [
              0.1111111111111111,
              "#46039f"
             ],
             [
              0.2222222222222222,
              "#7201a8"
             ],
             [
              0.3333333333333333,
              "#9c179e"
             ],
             [
              0.4444444444444444,
              "#bd3786"
             ],
             [
              0.5555555555555556,
              "#d8576b"
             ],
             [
              0.6666666666666666,
              "#ed7953"
             ],
             [
              0.7777777777777778,
              "#fb9f3a"
             ],
             [
              0.8888888888888888,
              "#fdca26"
             ],
             [
              1,
              "#f0f921"
             ]
            ],
            "type": "surface"
           }
          ],
          "table": [
           {
            "cells": {
             "fill": {
              "color": "#EBF0F8"
             },
             "line": {
              "color": "white"
             }
            },
            "header": {
             "fill": {
              "color": "#C8D4E3"
             },
             "line": {
              "color": "white"
             }
            },
            "type": "table"
           }
          ]
         },
         "layout": {
          "annotationdefaults": {
           "arrowcolor": "#2a3f5f",
           "arrowhead": 0,
           "arrowwidth": 1
          },
          "autotypenumbers": "strict",
          "coloraxis": {
           "colorbar": {
            "outlinewidth": 0,
            "ticks": ""
           }
          },
          "colorscale": {
           "diverging": [
            [
             0,
             "#8e0152"
            ],
            [
             0.1,
             "#c51b7d"
            ],
            [
             0.2,
             "#de77ae"
            ],
            [
             0.3,
             "#f1b6da"
            ],
            [
             0.4,
             "#fde0ef"
            ],
            [
             0.5,
             "#f7f7f7"
            ],
            [
             0.6,
             "#e6f5d0"
            ],
            [
             0.7,
             "#b8e186"
            ],
            [
             0.8,
             "#7fbc41"
            ],
            [
             0.9,
             "#4d9221"
            ],
            [
             1,
             "#276419"
            ]
           ],
           "sequential": [
            [
             0,
             "#0d0887"
            ],
            [
             0.1111111111111111,
             "#46039f"
            ],
            [
             0.2222222222222222,
             "#7201a8"
            ],
            [
             0.3333333333333333,
             "#9c179e"
            ],
            [
             0.4444444444444444,
             "#bd3786"
            ],
            [
             0.5555555555555556,
             "#d8576b"
            ],
            [
             0.6666666666666666,
             "#ed7953"
            ],
            [
             0.7777777777777778,
             "#fb9f3a"
            ],
            [
             0.8888888888888888,
             "#fdca26"
            ],
            [
             1,
             "#f0f921"
            ]
           ],
           "sequentialminus": [
            [
             0,
             "#0d0887"
            ],
            [
             0.1111111111111111,
             "#46039f"
            ],
            [
             0.2222222222222222,
             "#7201a8"
            ],
            [
             0.3333333333333333,
             "#9c179e"
            ],
            [
             0.4444444444444444,
             "#bd3786"
            ],
            [
             0.5555555555555556,
             "#d8576b"
            ],
            [
             0.6666666666666666,
             "#ed7953"
            ],
            [
             0.7777777777777778,
             "#fb9f3a"
            ],
            [
             0.8888888888888888,
             "#fdca26"
            ],
            [
             1,
             "#f0f921"
            ]
           ]
          },
          "colorway": [
           "#636efa",
           "#EF553B",
           "#00cc96",
           "#ab63fa",
           "#FFA15A",
           "#19d3f3",
           "#FF6692",
           "#B6E880",
           "#FF97FF",
           "#FECB52"
          ],
          "font": {
           "color": "#2a3f5f"
          },
          "geo": {
           "bgcolor": "white",
           "lakecolor": "white",
           "landcolor": "#E5ECF6",
           "showlakes": true,
           "showland": true,
           "subunitcolor": "white"
          },
          "hoverlabel": {
           "align": "left"
          },
          "hovermode": "closest",
          "mapbox": {
           "style": "light"
          },
          "paper_bgcolor": "white",
          "plot_bgcolor": "#E5ECF6",
          "polar": {
           "angularaxis": {
            "gridcolor": "white",
            "linecolor": "white",
            "ticks": ""
           },
           "bgcolor": "#E5ECF6",
           "radialaxis": {
            "gridcolor": "white",
            "linecolor": "white",
            "ticks": ""
           }
          },
          "scene": {
           "xaxis": {
            "backgroundcolor": "#E5ECF6",
            "gridcolor": "white",
            "gridwidth": 2,
            "linecolor": "white",
            "showbackground": true,
            "ticks": "",
            "zerolinecolor": "white"
           },
           "yaxis": {
            "backgroundcolor": "#E5ECF6",
            "gridcolor": "white",
            "gridwidth": 2,
            "linecolor": "white",
            "showbackground": true,
            "ticks": "",
            "zerolinecolor": "white"
           },
           "zaxis": {
            "backgroundcolor": "#E5ECF6",
            "gridcolor": "white",
            "gridwidth": 2,
            "linecolor": "white",
            "showbackground": true,
            "ticks": "",
            "zerolinecolor": "white"
           }
          },
          "shapedefaults": {
           "line": {
            "color": "#2a3f5f"
           }
          },
          "ternary": {
           "aaxis": {
            "gridcolor": "white",
            "linecolor": "white",
            "ticks": ""
           },
           "baxis": {
            "gridcolor": "white",
            "linecolor": "white",
            "ticks": ""
           },
           "bgcolor": "#E5ECF6",
           "caxis": {
            "gridcolor": "white",
            "linecolor": "white",
            "ticks": ""
           }
          },
          "title": {
           "x": 0.05
          },
          "xaxis": {
           "automargin": true,
           "gridcolor": "white",
           "linecolor": "white",
           "ticks": "",
           "title": {
            "standoff": 15
           },
           "zerolinecolor": "white",
           "zerolinewidth": 2
          },
          "yaxis": {
           "automargin": true,
           "gridcolor": "white",
           "linecolor": "white",
           "ticks": "",
           "title": {
            "standoff": 15
           },
           "zerolinecolor": "white",
           "zerolinewidth": 2
          }
         }
        },
        "title": {
         "text": "PINN Training Losses"
        },
        "width": 900,
        "xaxis": {
         "anchor": "y",
         "domain": [
          0,
          0.45
         ],
         "title": {
          "text": "Iterations"
         }
        },
        "xaxis2": {
         "anchor": "y2",
         "domain": [
          0.55,
          1
         ],
         "title": {
          "text": "Iterations"
         }
        },
        "xaxis3": {
         "anchor": "y3",
         "domain": [
          0,
          0.45
         ],
         "title": {
          "text": "Iterations"
         }
        },
        "xaxis4": {
         "anchor": "y4",
         "domain": [
          0.55,
          1
         ],
         "title": {
          "text": "Iterations"
         }
        },
        "xaxis5": {
         "anchor": "y5",
         "domain": [
          0,
          1
         ],
         "title": {
          "text": "Iterations"
         }
        },
        "yaxis": {
         "anchor": "x",
         "domain": [
          0.7333333333333334,
          1
         ]
        },
        "yaxis2": {
         "anchor": "x2",
         "domain": [
          0.7333333333333334,
          1
         ]
        },
        "yaxis3": {
         "anchor": "x3",
         "domain": [
          0.3666666666666667,
          0.6333333333333333
         ]
        },
        "yaxis4": {
         "anchor": "x4",
         "domain": [
          0.3666666666666667,
          0.6333333333333333
         ]
        },
        "yaxis5": {
         "anchor": "x5",
         "domain": [
          0,
          0.26666666666666666
         ]
        }
       }
      }
     },
     "metadata": {},
     "output_type": "display_data"
    }
   ],
   "source": [
    "loss_history = pd.DataFrame(trainer.pre_train_loss_history)\n",
    "\n",
    "# Create a subplot figure with 2x2 grid for individual losses, and a third row spanning the entire width for total loss\n",
    "fig = make_subplots(\n",
    "    rows=3, cols=2,\n",
    "    subplot_titles=(\"PDE Loss\", \"Zero Maturity Loss\", \"Zero Strike Loss\", \"Infinity Strike Loss\", \"Total Loss\"),\n",
    "    specs=[[{'type': 'scatter'}, {'type': 'scatter'}],\n",
    "           [{'type': 'scatter'}, {'type': 'scatter'}],\n",
    "           [{'colspan': 2, 'type': 'scatter'}, None]],\n",
    "    vertical_spacing=0.1,\n",
    "    horizontal_spacing=0.1\n",
    ")\n",
    "\n",
    "# Add traces for individual losses\n",
    "fig.add_trace(go.Scatter(x=loss_history.index, y=loss_history[\"PDE Loss\"], mode=\"lines\", name=\"PDE Loss\"), row=1, col=1)\n",
    "fig.add_trace(go.Scatter(x=loss_history.index, y=loss_history[\"Zero Maturity Loss\"], mode=\"lines\", name=\"Zero Maturity Loss\"), row=1, col=2)\n",
    "fig.add_trace(go.Scatter(x=loss_history.index, y=loss_history[\"Zero Strike Loss\"], mode=\"lines\", name=\"Zero Strike Loss\"), row=2, col=1)\n",
    "fig.add_trace(go.Scatter(x=loss_history.index, y=loss_history[\"Infinity Strike Loss\"], mode=\"lines\", name=\"Infinity Strike Loss\"), row=2, col=2)\n",
    "\n",
    "# Add a trace for the total loss spanning the entire third row\n",
    "fig.add_trace(go.Scatter(x=loss_history.index, y=loss_history[\"Total Loss\"], mode=\"lines\", name=\"Total Loss\"), row=3, col=1)\n",
    "\n",
    "# Update the layout to include 'Iterations' as the x-axis name for each subplot\n",
    "fig.update_xaxes(title_text=\"Iterations\", row=1, col=1)\n",
    "fig.update_xaxes(title_text=\"Iterations\", row=1, col=2)\n",
    "fig.update_xaxes(title_text=\"Iterations\", row=2, col=1)\n",
    "fig.update_xaxes(title_text=\"Iterations\", row=2, col=2)\n",
    "fig.update_xaxes(title_text=\"Iterations\", row=3, col=1)  # The third row spans two columns\n",
    "\n",
    "# Update the layout\n",
    "fig.update_layout(height=900, width=900, title_text=\"PINN Training Losses\", showlegend=False)\n",
    "\n",
    "# Show the plot\n",
    "fig.show()"
   ]
  }
 ],
 "metadata": {
  "kernelspec": {
   "display_name": "Apache",
   "language": "python",
   "name": "python3"
  },
  "language_info": {
   "codemirror_mode": {
    "name": "ipython",
    "version": 3
   },
   "file_extension": ".py",
   "mimetype": "text/x-python",
   "name": "python",
   "nbconvert_exporter": "python",
   "pygments_lexer": "ipython3",
   "version": "3.10.13"
  }
 },
 "nbformat": 4,
 "nbformat_minor": 2
}
